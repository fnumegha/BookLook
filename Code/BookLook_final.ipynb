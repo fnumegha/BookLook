{
 "cells": [
  {
   "cell_type": "code",
   "execution_count": 1,
   "metadata": {},
   "outputs": [
    {
     "name": "stderr",
     "output_type": "stream",
     "text": [
      "C:\\Users\\karth\\Anaconda2\\envs\\cs670\\lib\\site-packages\\IPython\\core\\interactiveshell.py:2718: DtypeWarning: Columns (0,2) have mixed types. Specify dtype option on import or set low_memory=False.\n",
      "  interactivity=interactivity, compiler=compiler, result=result)\n"
     ]
    }
   ],
   "source": [
    "import pandas as pd\n",
    "import numpy\n",
    "df = pd.read_csv('BX-Book-Ratings.csv', names=[\"User-ID\", \"ISBN\", \"Book-Rating\"], delimiter=\";\")\n",
    "rating_matrix = numpy.ndarray(shape=(50000,50000), dtype = 'int64')\n",
    "df_mat = df.as_matrix()[1:]\n",
    "\n",
    "#print(df_mat)"
   ]
  },
  {
   "cell_type": "code",
   "execution_count": 36,
   "metadata": {},
   "outputs": [
    {
     "name": "stdout",
     "output_type": "stream",
     "text": [
      "Stored 'df_mat' (ndarray)\n"
     ]
    }
   ],
   "source": [
    "%store df_mat"
   ]
  },
  {
   "cell_type": "code",
   "execution_count": 2,
   "metadata": {},
   "outputs": [
    {
     "name": "stdout",
     "output_type": "stream",
     "text": [
      "1149780\n"
     ]
    }
   ],
   "source": [
    "%store -r df_mat\n",
    "totalratings = len(df_mat[:,0])\n",
    "print totalratings"
   ]
  },
  {
   "cell_type": "code",
   "execution_count": 3,
   "metadata": {},
   "outputs": [],
   "source": [
    "import numpy as np\n",
    "df_mat[:,0] = df_mat[:,0].astype('int64')\n",
    "df_mat[:,2] = df_mat[:,2].astype('int64')\n",
    "\n",
    "usercount = (len(np.unique(df_mat[:,0])))\n",
    "bookcount = (len(np.unique(df_mat[:,1])))\n",
    "#numpy.unique(df_mat[:,1]).shape"
   ]
  },
  {
   "cell_type": "code",
   "execution_count": 4,
   "metadata": {},
   "outputs": [
    {
     "name": "stdout",
     "output_type": "stream",
     "text": [
      "105283\n",
      "340556\n"
     ]
    }
   ],
   "source": [
    "print usercount\n",
    "print bookcount"
   ]
  },
  {
   "cell_type": "code",
   "execution_count": 5,
   "metadata": {},
   "outputs": [],
   "source": [
    "#constructing the inital rating matrix consisting of 50000 users and 50000 books\n",
    "\n",
    "bookid = 0\n",
    "usernum = 0\n",
    "bookmap = {}\n",
    "usermap = {}\n",
    "useridslist = []\n",
    "for k in range(0,800000):\n",
    "    userid = df_mat[k,0]\n",
    "    isbn = df_mat[k,1]\n",
    "    if isbn not in bookmap:\n",
    "        if bookid < 50000:\n",
    "            bookmap[isbn] = bookid\n",
    "            if userid not in usermap:\n",
    "                if usernum < 50000:\n",
    "                    usermap[userid]=usernum\n",
    "                    rating_matrix[usernum, bookid] = df_mat[k,2]\n",
    "                    usernum+=1\n",
    "            else:\n",
    "                rating_matrix[usermap[userid], bookid] = df_mat[k,2]\n",
    "            bookid = bookid+1\n",
    "    else:\n",
    "        if userid not in usermap:\n",
    "            if usernum < 50000:\n",
    "                usermap[userid]=usernum\n",
    "                rating_matrix[usernum, bookmap[isbn]] = df_mat[k,2]\n",
    "                usernum+=1\n",
    "        else:\n",
    "            rating_matrix[usermap[userid], bookmap[isbn]] = df_mat[k,2]\n",
    "            \n"
   ]
  },
  {
   "cell_type": "code",
   "execution_count": 41,
   "metadata": {
    "scrolled": true
   },
   "outputs": [
    {
     "name": "stdout",
     "output_type": "stream",
     "text": [
      "(50000L, 50000L)\n"
     ]
    }
   ],
   "source": [
    "print(rating_matrix.shape)"
   ]
  },
  {
   "cell_type": "code",
   "execution_count": 42,
   "metadata": {},
   "outputs": [
    {
     "name": "stdout",
     "output_type": "stream",
     "text": [
      "105283\n"
     ]
    }
   ],
   "source": [
    "import numpy as np\n",
    "user_list = np.unique(df_mat[:,0])\n",
    "print len(user_list)"
   ]
  },
  {
   "cell_type": "code",
   "execution_count": 43,
   "metadata": {},
   "outputs": [
    {
     "name": "stdout",
     "output_type": "stream",
     "text": [
      "50000\n",
      "50000\n"
     ]
    }
   ],
   "source": [
    "print len(bookmap.values())\n",
    "print len(usermap.values())\n",
    "\n",
    "#print df_mat[0,0]\n",
    "#print bookmap[df_mat[0,1]]"
   ]
  },
  {
   "cell_type": "code",
   "execution_count": 44,
   "metadata": {},
   "outputs": [],
   "source": [
    "import networkx as nx\n",
    "from networkx.algorithms import bipartite"
   ]
  },
  {
   "cell_type": "code",
   "execution_count": 45,
   "metadata": {},
   "outputs": [],
   "source": [
    "# constructing a bipartite graph with users on one side and items on other side\n",
    "\n",
    "B = nx.Graph()\n",
    "B.add_nodes_from(usermap.values(), bipartite=0) #0 indicates one class of nodes, here: users\n",
    "B.add_nodes_from(bookmap.values(), bipartite=1) #1 for isbn"
   ]
  },
  {
   "cell_type": "code",
   "execution_count": 46,
   "metadata": {},
   "outputs": [
    {
     "name": "stdout",
     "output_type": "stream",
     "text": [
      "0\n",
      "50000\n",
      "100000\n",
      "150000\n",
      "200000\n",
      "250000\n",
      "300000\n",
      "350000\n",
      "400000\n",
      "450000\n",
      "500000\n",
      "550000\n",
      "600000\n",
      "650000\n",
      "700000\n",
      "750000\n"
     ]
    },
    {
     "data": {
      "text/plain": [
       "'\\nls.append()\\n'"
      ]
     },
     "execution_count": 46,
     "metadata": {},
     "output_type": "execute_result"
    }
   ],
   "source": [
    "edge_ls = []\n",
    "\n",
    "for k in range(0,800000):\n",
    "    ls = []\n",
    "    if k%50000==0:\n",
    "        print k\n",
    "    if df_mat[k,0] in usermap.keys() and df_mat[k,1] in bookmap.keys() and df_mat[k,2]!=0:\n",
    "        ls.append(usermap[df_mat[k,0]])\n",
    "        ls.append(bookmap[df_mat[k,1]])\n",
    "        if df_mat[k,2] > 7:\n",
    "            rate = 'L' # for love\n",
    "        else: rate = 'H' # for hate\n",
    "        ls.append(rate)\n",
    "        edge_ls.append(ls)\n",
    "        \n",
    "B.add_weighted_edges_from(edge_ls)"
   ]
  },
  {
   "cell_type": "code",
   "execution_count": 47,
   "metadata": {},
   "outputs": [
    {
     "name": "stdout",
     "output_type": "stream",
     "text": [
      "50000\n"
     ]
    }
   ],
   "source": [
    "print(len(B))"
   ]
  },
  {
   "cell_type": "code",
   "execution_count": 48,
   "metadata": {},
   "outputs": [
    {
     "name": "stdout",
     "output_type": "stream",
     "text": [
      "no stored variable B\n"
     ]
    }
   ],
   "source": [
    "%store -r B\n",
    "import pickle\n",
    "pickle.dump(B,open(\"a.p\",\"wb\"))"
   ]
  },
  {
   "cell_type": "code",
   "execution_count": 49,
   "metadata": {
    "scrolled": false
   },
   "outputs": [
    {
     "name": "stdout",
     "output_type": "stream",
     "text": [
      "Reached user  1\n",
      "Reached user  10001\n",
      "Reached user  20001\n",
      "Reached user  30001\n",
      "Reached user  40001\n"
     ]
    }
   ],
   "source": [
    "#Building the configurations for target user- target item pair\n",
    "\n",
    "import pickle\n",
    "from collections import defaultdict\n",
    "Dictionary = defaultdict(dict)\n",
    "count =0\n",
    "dictionary_adj = dict(B.adjacency()) \n",
    "for user1 in usermap.values():\n",
    "    BFS_Dict= dict(nx.bfs_successors(B,user1))\n",
    "    User_item_list = []\n",
    "    User_item_list.append(user1)\n",
    "    edge_list=[]\n",
    "    if count%10000 ==0:\n",
    "        print \"Reached user \",count+1\n",
    "    count+=1\n",
    "    if bool(BFS_Dict):\n",
    "        for book1 in BFS_Dict[user1]:\n",
    "            if book1 in BFS_Dict.keys():\n",
    "                edge_list.append(dictionary_adj[user1][book1]['weight'])\n",
    "                for user2 in BFS_Dict[book1]:\n",
    "                    edge_list.append(dictionary_adj[book1][user2]['weight'])    \n",
    "                    for book2 in dictionary_adj[user2].keys(): \n",
    "                        if book2 in BFS_Dict[user1] and book2!=book1:\n",
    "                            edge_list.append(dictionary_adj[user2][book2]['weight'])\n",
    "                            User_item_list.append(book2)\n",
    "                            Dictionary[tuple(User_item_list)][tuple(edge_list)] = Dictionary[tuple(User_item_list)].get(tuple(edge_list),0)+1\n",
    "                            Dictionary[tuple(User_item_list)][\"Rating\"]=rating_matrix[User_item_list[0]][User_item_list[1]]\n",
    "                            edge_list.pop()\n",
    "                            User_item_list.pop()\n",
    "                    edge_list.pop()\n",
    "                edge_list.pop()\n",
    "                        "
   ]
  },
  {
   "cell_type": "code",
   "execution_count": 50,
   "metadata": {},
   "outputs": [
    {
     "name": "stdout",
     "output_type": "stream",
     "text": [
      "161293\n"
     ]
    }
   ],
   "source": [
    "print (len(Dictionary))"
   ]
  },
  {
   "cell_type": "code",
   "execution_count": 51,
   "metadata": {},
   "outputs": [
    {
     "name": "stdout",
     "output_type": "stream",
     "text": [
      "Stored 'Dictionary' (defaultdict)\n"
     ]
    }
   ],
   "source": [
    "%store Dictionary\n",
    "import pickle\n",
    "pickle.dump(Dictionary,open(\"b.p\",\"wb\"))"
   ]
  },
  {
   "cell_type": "code",
   "execution_count": 7,
   "metadata": {},
   "outputs": [],
   "source": [
    "# naming all configurations\n",
    "con = []\n",
    "\n",
    "con.append([('H', 'H', 'H')])\n",
    "con.append([('H', 'H', 'L')])\n",
    "con.append([('H', 'L', 'L')])\n",
    "con.append([('L', 'L', 'L')])\n",
    "con.append([('L', 'L', 'H')])\n",
    "con.append([('L', 'H', 'H')])\n",
    "con.append([('H', 'L', 'H')])\n",
    "con.append([('L', 'L', 'L')])\n",
    "\n"
   ]
  },
  {
   "cell_type": "code",
   "execution_count": 8,
   "metadata": {},
   "outputs": [],
   "source": [
    "#Config matrix(config_mat) which will be our feature-vector matrix for classifiers\n",
    "\n",
    "%store -r Dictionary\n",
    "import numpy as np\n",
    "config_mat = np.zeros((len(Dictionary), 9))\n",
    "pair_dic = {}\n",
    "i=0\n",
    "for k in Dictionary.keys():\n",
    "    userItemConfig = Dictionary[k]\n",
    "    pair_dic[i] = k\n",
    "    for key in userItemConfig.keys():\n",
    "        for j in range(0,8):\n",
    "            if con[j][0] == key:\n",
    "                config_mat[i,j] = userItemConfig[key]\n",
    "    if rating_matrix[k[0],k[1]]!=0:\n",
    "        if rating_matrix[k[0],k[1]] > 7:\n",
    "            config_mat[i,-1] = 1\n",
    "        else: config_mat[i,-1] = 0\n",
    "    #config_mat[i,-1] = rating_matrix[k[0],k[1]] \n",
    "    i+=1\n",
    "            "
   ]
  },
  {
   "cell_type": "code",
   "execution_count": 54,
   "metadata": {},
   "outputs": [
    {
     "name": "stdout",
     "output_type": "stream",
     "text": [
      "Stored 'config_mat' (ndarray)\n"
     ]
    }
   ],
   "source": [
    "%store config_mat\n",
    "import pickle\n",
    "pickle.dump(config_mat,open(\"c.p\",\"wb\"))"
   ]
  },
  {
   "cell_type": "code",
   "execution_count": 9,
   "metadata": {},
   "outputs": [
    {
     "name": "stdout",
     "output_type": "stream",
     "text": [
      "RMSE with Naive Bayes: 0.656502313848\n",
      "Overall accuracy :  0.5690047119120443\n",
      "Recall score for 'Love':  0.2660914062108062\n",
      "Recall score for 'Hate':  0.7811983834124056\n",
      "Precision score for 'Love' :  0.46001734605377276\n",
      "Precision score for 'Hate' :  0.603098377557111\n",
      "F-measure for 'Love' :  0.33715793153863266\n",
      "F-measure for 'Hate' :  0.6806914396827584\n"
     ]
    }
   ],
   "source": [
    "#Multionomial NB\n",
    "%store -r config_mat\n",
    "from sklearn.model_selection import train_test_split\n",
    "\n",
    "X_train, X_test, y_train, y_test = train_test_split(config_mat[:,0:8], config_mat[:,-1], test_size=0.30, shuffle=False)\n",
    "\n",
    "from sklearn.naive_bayes import MultinomialNB\n",
    "from sklearn.metrics import mean_squared_error\n",
    "from math import sqrt\n",
    "from sklearn import metrics\n",
    "from sklearn.metrics import accuracy_score\n",
    "from sklearn.metrics import recall_score\n",
    "from sklearn.metrics import precision_score\n",
    "from sklearn.metrics import f1_score\n",
    "\n",
    "mnb = MultinomialNB()\n",
    "mnb.fit(X_train, y_train)\n",
    "mnb_y_pred = mnb.predict(X_test)\n",
    "rmse = sqrt(mean_squared_error(y_test, mnb_y_pred))\n",
    "print \"RMSE with Naive Bayes:\",rmse\n",
    "print \"Overall accuracy : \", metrics.accuracy_score(y_test,mnb_y_pred)\n",
    "print \"Recall score for 'Love': \" , recall_score(y_test, mnb_y_pred, pos_label=1, average='binary') \n",
    "print \"Recall score for 'Hate': \" , recall_score(y_test, mnb_y_pred, pos_label=0, average='binary') \n",
    "print \"Precision score for 'Love' : \" , precision_score(y_test, mnb_y_pred, pos_label=1, average='binary') \n",
    "print \"Precision score for 'Hate' : \" , precision_score(y_test, mnb_y_pred, pos_label=0, average='binary') \n",
    "print \"F-measure for 'Love' : \" , f1_score(y_test, mnb_y_pred, pos_label=1, average='binary') \n",
    "print \"F-measure for 'Hate' : \" , f1_score(y_test, mnb_y_pred, pos_label=0, average='binary') "
   ]
  },
  {
   "cell_type": "code",
   "execution_count": 10,
   "metadata": {},
   "outputs": [
    {
     "name": "stdout",
     "output_type": "stream",
     "text": [
      "Stored 'X_train' (ndarray)\n",
      "Stored 'X_test' (ndarray)\n",
      "Stored 'y_train' (ndarray)\n",
      "Stored 'y_test' (ndarray)\n"
     ]
    }
   ],
   "source": [
    "%store X_train\n",
    "%store X_test\n",
    "%store y_train\n",
    "%store y_test"
   ]
  },
  {
   "cell_type": "code",
   "execution_count": 11,
   "metadata": {},
   "outputs": [
    {
     "name": "stdout",
     "output_type": "stream",
     "text": [
      "RMSE with kNN: 0.649428564607\n",
      "Overall accuracy :  0.5782425394725965\n",
      "Recall score for 'Love':  0.4650579441127778\n",
      "Recall score for 'Hate':  0.6575294324371815\n",
      "Precision score for 'Love' :  0.4875098606363397\n",
      "Precision score for 'Hate' :  0.6369795390324448\n",
      "F-measure for 'Love' :  0.47601930779500873\n",
      "F-measure for 'Hate' :  0.6470913744206959\n"
     ]
    }
   ],
   "source": [
    "#KNN\n",
    "%store -r X_train\n",
    "%store -r X_test\n",
    "%store -r y_train\n",
    "%store -r y_test\n",
    "\n",
    "from sklearn.neighbors import KNeighborsClassifier\n",
    "from sklearn.metrics import mean_squared_error\n",
    "from math import sqrt\n",
    "from sklearn import metrics\n",
    "from sklearn.metrics import accuracy_score\n",
    "from sklearn.metrics import recall_score\n",
    "from sklearn.metrics import precision_score\n",
    "from sklearn.metrics import f1_score\n",
    "\n",
    "\n",
    "knn = KNeighborsClassifier(n_neighbors=5)\n",
    "knn.fit(X_train, y_train)\n",
    "KNN_y_pred = knn.predict(X_test)\n",
    "rmse_knn = sqrt(mean_squared_error(y_test, KNN_y_pred))\n",
    "print \"RMSE with kNN:\", rmse_knn\n",
    "print \"Overall accuracy : \", metrics.accuracy_score(y_test,KNN_y_pred)\n",
    "print \"Recall score for 'Love': \" , recall_score(y_test, KNN_y_pred, pos_label=1, average='binary') \n",
    "print \"Recall score for 'Hate': \" , recall_score(y_test, KNN_y_pred, pos_label=0, average='binary') \n",
    "print \"Precision score for 'Love' : \" , precision_score(y_test, KNN_y_pred, pos_label=1, average='binary') \n",
    "print \"Precision score for 'Hate' : \" , precision_score(y_test, KNN_y_pred, pos_label=0, average='binary') \n",
    "print \"F-measure for 'Love' : \" , f1_score(y_test, KNN_y_pred, pos_label=1, average='binary') \n",
    "print \"F-measure for 'Hate' : \" , f1_score(y_test, KNN_y_pred, pos_label=0, average='binary') "
   ]
  },
  {
   "cell_type": "code",
   "execution_count": 12,
   "metadata": {},
   "outputs": [
    {
     "name": "stdout",
     "output_type": "stream",
     "text": [
      "Stored 'bookmap' (dict)\n",
      "Stored 'usermap' (dict)\n",
      "Stored 'pair_dic' (dict)\n"
     ]
    }
   ],
   "source": [
    "%store bookmap\n",
    "%store usermap\n",
    "%store pair_dic"
   ]
  },
  {
   "cell_type": "code",
   "execution_count": 127,
   "metadata": {},
   "outputs": [],
   "source": [
    "# import pandas as pd\n",
    "# df_book = pd.read_csv('BX-Books.csv', names=[\"ISBN\",\"Book-Title\",\"Book-Author\",\"Year-Of-Publication\",\"Publisher\",\"Image-URL-S\",\"Image-URL-M\",\"Image-URL-L\"], delimiter=\";\")\n",
    "# df_mat_book = df_book.as_matrix()[1:]"
   ]
  },
  {
   "cell_type": "code",
   "execution_count": 13,
   "metadata": {},
   "outputs": [
    {
     "name": "stdout",
     "output_type": "stream",
     "text": [
      "RMSE with SVM: 0.636653569231\n",
      "Overall accuracy :  0.594672232784988\n",
      "Recall score for 'Love':  0.06657301961571263\n",
      "Recall score for 'Hate':  0.9646107889650325\n",
      "Precision score for 'Love' :  0.5685518423307626\n",
      "Precision score for 'Hate' :  0.5959960046901464\n",
      "F-measure for 'Love' :  0.11918983248753762\n",
      "F-measure for 'Hate' :  0.7367700546242735\n"
     ]
    }
   ],
   "source": [
    "#Linear SVM\n",
    "%store -r X_train\n",
    "%store -r X_test\n",
    "%store -r y_train\n",
    "%store -r y_test\n",
    "\n",
    "from sklearn.svm import LinearSVC\n",
    "from sklearn.metrics import mean_squared_error\n",
    "from math import sqrt\n",
    "from sklearn import metrics\n",
    "from sklearn.metrics import accuracy_score\n",
    "from sklearn.metrics import recall_score\n",
    "from sklearn.metrics import precision_score\n",
    "from sklearn.metrics import f1_score\n",
    "\n",
    "\n",
    "clf = LinearSVC()\n",
    "\n",
    "clf = clf.fit(X_train, y_train)\n",
    "svc_y_pred = clf.predict(X_test)\n",
    "rmse_svc = sqrt(mean_squared_error(y_test, svc_y_pred))\n",
    "print \"RMSE with SVM:\", rmse_svc\n",
    "print \"Overall accuracy : \", metrics.accuracy_score(y_test,svc_y_pred)\n",
    "print \"Recall score for 'Love': \" , recall_score(y_test, svc_y_pred, pos_label=1, average='binary') \n",
    "print \"Recall score for 'Hate': \" , recall_score(y_test, svc_y_pred, pos_label=0, average='binary') \n",
    "print \"Precision score for 'Love' : \" , precision_score(y_test, svc_y_pred, pos_label=1, average='binary') \n",
    "print \"Precision score for 'Hate' : \" , precision_score(y_test, svc_y_pred, pos_label=0, average='binary') \n",
    "print \"F-measure for 'Love' : \" , f1_score(y_test, svc_y_pred, pos_label=1, average='binary') \n",
    "print \"F-measure for 'Hate' : \" , f1_score(y_test, svc_y_pred, pos_label=0, average='binary') "
   ]
  },
  {
   "cell_type": "code",
   "execution_count": 14,
   "metadata": {},
   "outputs": [
    {
     "name": "stdout",
     "output_type": "stream",
     "text": [
      "RMSE with Decision tree: 0.637010537899\n",
      "Overall accuracy :  0.594217574605274\n",
      "Recall score for 'Love':  0.20308031906888074\n",
      "Recall score for 'Hate':  0.8682129678439642\n",
      "Precision score for 'Love' :  0.5191074634521672\n",
      "Precision score for 'Hate' :  0.6086474501108647\n",
      "F-measure for 'Love' :  0.2919476398254661\n",
      "F-measure for 'Hate' :  0.7156202476645666\n"
     ]
    }
   ],
   "source": [
    "#Decision_tree\n",
    "%store -r X_train\n",
    "%store -r X_test\n",
    "%store -r y_train\n",
    "%store -r y_test\n",
    "\n",
    "from sklearn import tree\n",
    "from sklearn.metrics import mean_squared_error\n",
    "from math import sqrt\n",
    "from sklearn import metrics\n",
    "from sklearn.metrics import accuracy_score\n",
    "from sklearn.metrics import recall_score\n",
    "from sklearn.metrics import precision_score\n",
    "from sklearn.metrics import f1_score\n",
    "\n",
    "dt = tree.DecisionTreeClassifier()\n",
    "dt = dt.fit(X_train, y_train)\n",
    "dt_y_pred = dt.predict(X_test)\n",
    "rmse_dt = sqrt(mean_squared_error(y_test, dt_y_pred))\n",
    "print \"RMSE with Decision tree:\", rmse_dt\n",
    "print \"Overall accuracy : \", metrics.accuracy_score(y_test, dt_y_pred)\n",
    "print \"Recall score for 'Love': \" , recall_score(y_test, dt_y_pred, pos_label=1, average='binary') \n",
    "print \"Recall score for 'Hate': \" , recall_score(y_test, dt_y_pred, pos_label=0, average='binary') \n",
    "print \"Precision score for 'Love' : \" , precision_score(y_test, dt_y_pred, pos_label=1, average='binary') \n",
    "print \"Precision score for 'Hate' : \" , precision_score(y_test, dt_y_pred, pos_label=0, average='binary') \n",
    "print \"F-measure for 'Love' : \" , f1_score(y_test, dt_y_pred, pos_label=1, average='binary') \n",
    "print \"F-measure for 'Hate' : \" , f1_score(y_test, dt_y_pred, pos_label=0, average='binary') "
   ]
  },
  {
   "cell_type": "code",
   "execution_count": 15,
   "metadata": {},
   "outputs": [
    {
     "name": "stdout",
     "output_type": "stream",
     "text": [
      "RMSE with Logistic Regression: 0.636507478893\n",
      "Overall accuracy :  0.5948582293130529\n",
      "Recall score for 'Love':  0.05543570962725129\n",
      "Recall score for 'Hate':  0.9727288701458443\n",
      "Precision score for 'Love' :  0.5874534821903243\n",
      "Precision score for 'Hate' :  0.5951577181929602\n",
      "F-measure for 'Love' :  0.10131108462455304\n",
      "F-measure for 'Hate' :  0.7384808302873456\n"
     ]
    }
   ],
   "source": [
    "#Logistic regression\n",
    "%store -r X_train\n",
    "%store -r X_test\n",
    "%store -r y_train\n",
    "%store -r y_test\n",
    "\n",
    "from sklearn import linear_model\n",
    "from sklearn.metrics import mean_squared_error\n",
    "from math import sqrt\n",
    "from sklearn import metrics\n",
    "from sklearn.metrics import accuracy_score\n",
    "from sklearn.metrics import recall_score\n",
    "from sklearn.metrics import precision_score\n",
    "from sklearn.metrics import f1_score\n",
    "\n",
    "lr = linear_model.LogisticRegression()\n",
    "lr = lr.fit(X_train, y_train)\n",
    "lr_y_pred = lr.predict(X_test)\n",
    "rmse_lr = sqrt(mean_squared_error(y_test, lr_y_pred))\n",
    "print \"RMSE with Logistic Regression:\", rmse_lr\n",
    "print \"Overall accuracy : \", metrics.accuracy_score(y_test, lr_y_pred)\n",
    "print \"Recall score for 'Love': \" , recall_score(y_test, lr_y_pred, pos_label=1, average='binary') \n",
    "print \"Recall score for 'Hate': \" , recall_score(y_test, lr_y_pred, pos_label=0, average='binary') \n",
    "print \"Precision score for 'Love' : \" , precision_score(y_test, lr_y_pred, pos_label=1, average='binary') \n",
    "print \"Precision score for 'Hate' : \" , precision_score(y_test, lr_y_pred, pos_label=0, average='binary') \n",
    "print \"F-measure for 'Love' : \" , f1_score(y_test, lr_y_pred, pos_label=1, average='binary') \n",
    "print \"F-measure for 'Hate' : \" , f1_score(y_test, lr_y_pred, pos_label=0, average='binary') "
   ]
  },
  {
   "cell_type": "code",
   "execution_count": 7,
   "metadata": {
    "scrolled": true
   },
   "outputs": [
    {
     "name": "stdout",
     "output_type": "stream",
     "text": [
      "Reached Book num:  1\n",
      "Reached Book num:  50001\n",
      "Reached Book num:  100001\n",
      "Reached Book num:  150001\n",
      "Reached Book num:  200001\n",
      "Reached Book num:  250001\n",
      "Top Books\n",
      "Selected Poems 27\n",
      "Little Women 24\n",
      "Wuthering Heights 21\n",
      "The Secret Garden 20\n",
      "Dracula 20\n",
      "Adventures of Huckleberry Finn 20\n",
      "Jane Eyre 19\n",
      "The Night Before Christmas 18\n",
      "Pride and Prejudice 18\n",
      "Great Expectations 17\n",
      "Masquerade 16\n",
      "Frankenstein 16\n",
      "Black Beauty 16\n",
      "The Gift 15\n",
      "Emma 15\n",
      "Beloved 15\n",
      "Nemesis 14\n",
      "The Wedding 13\n",
      "The Secret 13\n",
      "Robinson Crusoe 13\n",
      "Psychology 13\n",
      "Legacy 13\n",
      "Journey 13\n",
      "Illusions 13\n",
      "Fahrenheit 451 13\n",
      "The Wind in the Willows 12\n",
      "The Promise 12\n",
      "The Hobbit 12\n",
      "Sense and Sensibility 12\n",
      "Sacrifice 12\n",
      "Heidi 12\n",
      "Hannibal 12\n",
      "Dreamcatcher 12\n",
      "Carrie 12\n",
      "Best Friends 12\n",
      "When the Wind Blows 11\n",
      "The Two Towers (The Lord of the Rings, Part 2) 11\n",
      "The Edge 11\n",
      "Sisters 11\n",
      "Secrets 11\n",
      "Peter Pan 11\n",
      "Paradise 11\n",
      "Mirage 11\n",
      "Matilda 11\n",
      "King Lear 11\n",
      "Homecoming 11\n",
      "Cinderella 11\n",
      "Ashes to Ashes 11\n",
      "Whispers 10\n",
      "Treasure Island 10\n",
      "Titan 10\n",
      "The Velveteen Rabbit 10\n",
      "The Return of the King (The Lord of the Rings, Part 3) 10\n",
      "Sanctuary 10\n",
      "Riptide 10\n",
      "Promises 10\n",
      "Payback 10\n",
      "On the Road 10\n",
      "Madame Bovary 10\n",
      "Macbeth 10\n",
      "Hamlet 10\n",
      "Flesh and Blood 10\n",
      "Fall from Grace 10\n",
      "Eye of the Beholder 10\n",
      "Dolores Claiborne 10\n",
      "Bittersweet 10\n",
      "Anne of Green Gables 10\n",
      "Anna Karenina 10\n",
      "Animal Farm 10\n",
      "Angel 10\n",
      "Wildfire 9\n",
      "Vanished 9\n",
      "The Wizard of Oz 9\n",
      "The Scarlet Letter 9\n",
      "The Prince 9\n",
      "The Odyssey 9\n",
      "The Lord of the Rings 9\n",
      "The Legacy 9\n",
      "The Hound of the Baskervilles 9\n",
      "The Hitchhiker's Guide to the Galaxy 9\n",
      "The Gunslinger (The Dark Tower, Book 1) 9\n",
      "The Fellowship of the Ring (The Lord of the Rings, Part 1) 9\n",
      "Temptation 9\n",
      "Sleeping Beauty 9\n",
      "Second Chance 9\n",
      "Scarlet Letter 9\n",
      "Pet Sematary 9\n",
      "No Greater Love 9\n",
      "Moby Dick 9\n",
      "Mercy 9\n",
      "Memoirs 9\n",
      "Love 9\n",
      "Heat 9\n",
      "Heartbreaker 9\n",
      "Firebird 9\n",
      "Finders Keepers 9\n",
      "Fever 9\n",
      "Family 9\n",
      "Exodus 9\n",
      "Final Dictionary\n",
      "Masquerade {114200L: {'Rating': 8, ('L', 'L', 'L'): 1}, 11676L: {'Rating': 9, ('L', 'H', 'H'): 1, ('L', 'L', 'L'): 2, ('H', 'L', 'H'): 1, ('H', 'H', 'H'): 2, ('H', 'H', 'L'): 2}, 95636L: {'Rating': 0, ('L', 'H', 'L'): 1}, 23582L: {'Rating': 8, ('L', 'H', 'L'): 1}}\n",
      "Emma {30081L: {'Rating': 10, ('L', 'L', 'L'): 2}, 94307L: {'Rating': 10, ('H', 'L', 'L'): 1}, 111190L: {'Rating': 9, ('L', 'L', 'L'): 1}, 127233L: {'Rating': 9, ('H', 'L', 'L'): 1, ('L', 'H', 'L'): 1}, 1131L: {'Rating': 8, ('L', 'L', 'L'): 1}, 8332L: {'Rating': 0, ('H', 'L', 'L'): 1}, 21618L: {'Rating': 9, ('L', 'H', 'L'): 1}, 115572L: {'Rating': 9, ('L', 'L', 'L'): 1}, 110934L: {'Rating': 9, ('H', 'H', 'L'): 1}, 177432L: {'Rating': 10, ('L', 'H', 'L'): 2, ('L', 'L', 'L'): 1}, 32793L: {'Rating': 8, ('H', 'L', 'L'): 1}, 23902L: {'Rating': 9, ('H', 'L', 'L'): 1}}\n",
      "Pride and Prejudice {26752L: {'Rating': 0, ('H', 'H', 'H'): 1, ('L', 'L', 'H'): 1, ('H', 'L', 'H'): 1}, 30081L: {('L', 'L', 'L'): 2, 'Rating': 10, ('L', 'H', 'L'): 1, ('H', 'L', 'L'): 1, ('L', 'H', 'H'): 1}, 25602L: {'Rating': 0, ('H', 'L', 'H'): 2}, 7595L: {'Rating': 0, ('L', 'L', 'L'): 1}, 110934L: {'Rating': 10, ('L', 'L', 'L'): 7, ('L', 'L', 'H'): 4, ('H', 'H', 'L'): 1, ('H', 'L', 'L'): 2, ('L', 'H', 'L'): 1}, 114695L: {'Rating': 9, ('H', 'L', 'L'): 1}, 38281L: {'Rating': 6, ('H', 'L', 'L'): 4, ('L', 'L', 'L'): 5, ('H', 'H', 'L'): 1}, 97290L: {'Rating': 10, ('L', 'L', 'L'): 6, ('L', 'H', 'H'): 1}, 35089L: {'Rating': 0, ('L', 'H', 'L'): 1, ('L', 'L', 'L'): 1}, 55187L: {'Rating': 9, ('L', 'H', 'L'): 2, ('L', 'L', 'H'): 2, ('L', 'L', 'L'): 5}, 127257L: {'Rating': 7, ('L', 'L', 'L'): 3}, 11676L: {'Rating': 8, ('L', 'H', 'H'): 2, ('L', 'L', 'L'): 6, ('L', 'H', 'L'): 4, ('H', 'H', 'H'): 1, ('H', 'H', 'L'): 3, ('H', 'L', 'L'): 4, ('L', 'L', 'H'): 1}, 32773L: {'Rating': 8, ('L', 'H', 'L'): 1, ('H', 'L', 'L'): 1, ('L', 'L', 'L'): 1, ('H', 'H', 'L'): 1}, 23772L: {'Rating': 0, ('H', 'H', 'H'): 1, ('L', 'L', 'H'): 1, ('L', 'H', 'H'): 1}, 27947L: {'Rating': 7, ('H', 'L', 'L'): 3, ('L', 'L', 'L'): 1}, 102705L: {'Rating': 4, ('L', 'L', 'L'): 4}, 59059L: {'Rating': 9, ('H', 'H', 'L'): 1}, 5769L: {'Rating': 0, ('L', 'L', 'H'): 1, ('L', 'H', 'H'): 2, ('H', 'L', 'H'): 1}, 181176L: {('L', 'L', 'L'): 5, 'Rating': 8, ('L', 'H', 'L'): 1, ('L', 'L', 'H'): 1, ('L', 'H', 'H'): 1}, 6073L: {'Rating': 8, ('L', 'H', 'L'): 1, ('H', 'L', 'L'): 1, ('L', 'L', 'L'): 2, ('H', 'H', 'H'): 1}, 7995L: {'Rating': 0, ('L', 'L', 'L'): 3}, 74056L: {'Rating': 10, ('L', 'H', 'L'): 2, ('H', 'L', 'L'): 1, ('L', 'L', 'L'): 3, ('L', 'L', 'H'): 1}, 133706L: {('L', 'L', 'L'): 2, 'Rating': 10, ('H', 'L', 'L'): 3, ('L', 'H', 'L'): 1, ('H', 'L', 'H'): 1}, 131154L: {'Rating': 10, ('L', 'L', 'H'): 1, ('L', 'L', 'L'): 3, ('L', 'H', 'H'): 1}, 47316L: {'Rating': 10, ('L', 'L', 'H'): 2, ('L', 'L', 'L'): 5}, 111190L: {'Rating': 9, ('L', 'H', 'L'): 1, ('L', 'L', 'L'): 6, ('H', 'H', 'L'): 1}, 6106L: {'Rating': 0, ('H', 'L', 'L'): 2}, 138204L: {'Rating': 0, ('L', 'H', 'L'): 1, ('L', 'L', 'L'): 3, ('L', 'H', 'H'): 1}, 23902L: {'Rating': 10, ('L', 'L', 'L'): 5, ('L', 'H', 'H'): 1, ('L', 'H', 'L'): 2, ('H', 'L', 'L'): 2, ('L', 'L', 'H'): 1}, 79712L: {'Rating': 0, ('L', 'L', 'H'): 1, ('L', 'H', 'H'): 1}, 44264L: {'Rating': 9, ('H', 'L', 'L'): 1}, 81263L: {'Rating': 9, ('L', 'L', 'H'): 1, ('L', 'L', 'L'): 3, ('L', 'H', 'H'): 1}, 22521L: {'Rating': 10, ('L', 'H', 'L'): 1, ('L', 'L', 'L'): 2}, 152186L: {'Rating': 9, ('L', 'H', 'L'): 2, ('L', 'H', 'H'): 2, ('L', 'L', 'L'): 4, ('L', 'L', 'H'): 1}, 78973L: {'Rating': 7, ('H', 'L', 'L'): 6, ('L', 'H', 'L'): 1, ('L', 'L', 'L'): 4}}\n",
      "Nemesis {40640L: {'Rating': 5, ('L', 'H', 'L'): 1}, 68533L: {'Rating': 0, ('H', 'L', 'L'): 1}, 145109L: {'Rating': 9, ('L', 'L', 'H'): 1}, 1166L: {'Rating': 0, ('L', 'H', 'H'): 1}, 154975L: {'Rating': 8, ('H', 'H', 'L'): 1}}\n",
      "The Wedding {70150L: {'Rating': 7, ('L', 'L', 'H'): 1}, 39564L: {'Rating': 0, ('H', 'H', 'H'): 1, ('H', 'H', 'L'): 1}, 28186L: {'Rating': 0, ('H', 'H', 'H'): 1, ('L', 'L', 'H'): 2, ('L', 'H', 'H'): 1}, 91675L: {'Rating': 10, ('H', 'H', 'H'): 1, ('H', 'L', 'L'): 1}, 11676L: {'Rating': 5, ('L', 'L', 'L'): 6, ('L', 'H', 'H'): 1, ('L', 'H', 'L'): 2, ('H', 'L', 'L'): 3, ('H', 'H', 'L'): 4, ('H', 'H', 'H'): 1, ('H', 'L', 'H'): 1}, 148898L: {'Rating': 10, ('L', 'L', 'H'): 1, ('L', 'H', 'H'): 2, ('L', 'L', 'L'): 8, ('H', 'H', 'L'): 1}, 16795L: {'Rating': 5, ('H', 'L', 'L'): 1, ('H', 'H', 'H'): 1, ('L', 'L', 'L'): 3}, 181156L: {'Rating': 0, ('H', 'H', 'L'): 1, ('L', 'H', 'H'): 1}, 81318L: {'Rating': 3, ('L', 'L', 'L'): 1, ('L', 'H', 'L'): 1, ('H', 'H', 'H'): 1, ('H', 'L', 'H'): 1, ('H', 'L', 'L'): 4, ('H', 'H', 'L'): 2, ('L', 'L', 'H'): 1}, 122793L: {'Rating': 10, ('H', 'H', 'H'): 2, ('H', 'L', 'L'): 1, ('L', 'L', 'L'): 5, ('L', 'L', 'H'): 1}, 71850L: {'Rating': 9, ('L', 'H', 'L'): 1}, 73003L: {'Rating': 10, ('H', 'L', 'L'): 1, ('H', 'L', 'H'): 1}, 4525L: {'Rating': 0, ('L', 'L', 'H'): 1, ('L', 'L', 'L'): 1}, 162738L: {'Rating': 9, ('H', 'H', 'H'): 1}, 45107L: {'Rating': 9, ('L', 'H', 'L'): 1, ('L', 'L', 'L'): 1}, 130484L: {'Rating': 6, ('H', 'H', 'L'): 1}, 150968L: {'Rating': 8, ('L', 'L', 'L'): 1, ('L', 'L', 'H'): 1, ('H', 'H', 'H'): 1, ('H', 'H', 'L'): 1, ('H', 'L', 'L'): 1}, 14667L: {('L', 'L', 'L'): 4, 'Rating': 3, ('L', 'H', 'L'): 1, ('L', 'L', 'H'): 1, ('L', 'H', 'H'): 1}, 143175L: {'Rating': 9, ('H', 'L', 'L'): 1, ('L', 'H', 'H'): 1}, 4427L: {'Rating': 0, ('H', 'L', 'H'): 2, ('L', 'L', 'L'): 1}, 73677L: {'Rating': 10, ('L', 'L', 'H'): 1}, 16718L: {'Rating': 8, ('L', 'H', 'L'): 3, ('L', 'H', 'H'): 2, ('L', 'L', 'H'): 2, ('L', 'L', 'L'): 5}, 50895L: {'Rating': 10, ('L', 'L', 'H'): 2, ('L', 'H', 'H'): 3, ('L', 'L', 'L'): 4, ('H', 'H', 'L'): 1}, 116280L: {'Rating': 10, ('H', 'H', 'H'): 1, ('L', 'H', 'L'): 1}, 97874L: {'Rating': 2, ('L', 'L', 'L'): 3, ('L', 'H', 'H'): 1, ('H', 'L', 'L'): 4, ('H', 'L', 'H'): 1, ('H', 'H', 'H'): 1}, 81492L: {'Rating': 9, ('L', 'H', 'L'): 3, ('L', 'L', 'L'): 1}, 24921L: {'Rating': 8, ('H', 'L', 'L'): 1, ('L', 'L', 'L'): 2, ('H', 'H', 'L'): 1}, 58458L: {'Rating': 0, ('H', 'H', 'H'): 1}, 4443L: {'Rating': 0, ('H', 'H', 'L'): 1}, 2013L: {'Rating': 0, ('L', 'L', 'H'): 2, ('L', 'L', 'L'): 1}, 160746L: {'Rating': 7, ('H', 'L', 'L'): 1, ('H', 'H', 'H'): 1}, 138351L: {'Rating': 9, ('H', 'L', 'L'): 1, ('H', 'L', 'H'): 1}, 57200L: {'Rating': 9, ('H', 'L', 'L'): 2}, 77809L: {'Rating': 9, ('H', 'L', 'L'): 2, ('H', 'H', 'H'): 1}, 137589L: {'Rating': 3, ('H', 'H', 'L'): 1}, 7158L: {'Rating': 8, ('L', 'L', 'H'): 1, ('L', 'H', 'L'): 1, ('H', 'L', 'L'): 2, ('L', 'L', 'L'): 3}, 76151L: {'Rating': 10, ('L', 'L', 'L'): 3}, 39928L: {'Rating': 8, ('L', 'H', 'H'): 1}, 185722L: {'Rating': 10, ('L', 'L', 'H'): 1, ('L', 'L', 'L'): 1}, 56554L: {'Rating': 10, ('L', 'L', 'H'): 2, ('L', 'H', 'L'): 3, ('L', 'L', 'L'): 3}}\n",
      "Adventures of Huckleberry Finn {174304L: {'Rating': 9, ('L', 'L', 'H'): 2, ('L', 'L', 'L'): 1}, 16009L: {'Rating': 3, ('H', 'L', 'L'): 1}, 160558L: {'Rating': 7, ('H', 'H', 'L'): 1, ('L', 'L', 'L'): 1}, 61038L: {'Rating': 5, ('H', 'H', 'L'): 1, ('L', 'L', 'L'): 1}, 41112L: {'Rating': 0, ('L', 'H', 'L'): 1}, 11676L: {'Rating': 9, ('H', 'H', 'H'): 1, ('H', 'L', 'L'): 2, ('H', 'L', 'H'): 1, ('L', 'L', 'H'): 3}}\n",
      "Little Women {74657L: {('L', 'L', 'L'): 7, 'Rating': 0, ('L', 'L', 'H'): 3, ('L', 'H', 'L'): 2, ('H', 'H', 'L'): 1}, 116479L: {'Rating': 0, ('L', 'H', 'L'): 1}, 147847L: {'Rating': 5, ('L', 'L', 'H'): 1}, 5769L: {'Rating': 0, ('L', 'L', 'L'): 1}, 83116L: {'Rating': 0, ('L', 'L', 'L'): 2}, 37074L: {('L', 'L', 'L'): 1, 'Rating': 0, ('H', 'L', 'L'): 4, ('H', 'H', 'L'): 2, ('H', 'L', 'H'): 4}, 1166L: {'Rating': 0, ('L', 'H', 'L'): 1, ('L', 'L', 'H'): 1}, 6870L: {'Rating': 0, ('H', 'H', 'H'): 2, ('L', 'H', 'L'): 1, ('H', 'L', 'L'): 1, ('L', 'L', 'L'): 2}, 7378L: {'Rating': 0, ('H', 'H', 'L'): 2}, 339L: {'Rating': 0, ('H', 'H', 'H'): 1, ('L', 'H', 'L'): 1, ('L', 'L', 'L'): 5, ('L', 'L', 'H'): 3}, 1910L: {'Rating': 0, ('L', 'H', 'L'): 1, ('L', 'L', 'L'): 1}, 5311L: {'Rating': 0, ('H', 'L', 'L'): 1, ('L', 'H', 'L'): 1, ('L', 'L', 'L'): 3, ('L', 'L', 'H'): 1}, 31263L: {'Rating': 0, ('H', 'L', 'L'): 1}}\n",
      "The Gift {115841L: {'Rating': 8, ('L', 'L', 'H'): 1, ('L', 'L', 'L'): 1}, 35842L: {'Rating': 0, ('L', 'H', 'L'): 1}, 163307L: {'Rating': 8, ('H', 'L', 'L'): 1, ('H', 'L', 'H'): 1}, 50823L: {'Rating': 9, ('L', 'H', 'H'): 1, ('L', 'L', 'L'): 2, ('H', 'H', 'L'): 2}, 117132L: {'Rating': 7, ('L', 'L', 'H'): 1, ('L', 'H', 'H'): 1}, 7312L: {'Rating': 0, ('H', 'H', 'H'): 1, ('H', 'L', 'L'): 1}, 38034L: {'Rating': 8, ('L', 'L', 'L'): 1, ('L', 'H', 'H'): 1}, 7955L: {'Rating': 0, ('L', 'H', 'L'): 1, ('L', 'L', 'L'): 1, ('L', 'H', 'H'): 1}, 179733L: {'Rating': 10, ('L', 'L', 'H'): 1, ('L', 'L', 'L'): 1}, 7193L: {'Rating': 0, ('H', 'H', 'L'): 2}, 16795L: {'Rating': 9, ('L', 'L', 'L'): 1, ('L', 'L', 'H'): 2, ('H', 'L', 'H'): 2, ('H', 'L', 'L'): 1, ('H', 'H', 'L'): 1, ('L', 'H', 'L'): 1}, 11676L: {'Rating': 10, ('L', 'H', 'H'): 1, ('L', 'L', 'L'): 2, ('L', 'L', 'H'): 1, ('H', 'L', 'L'): 1, ('H', 'L', 'H'): 2, ('H', 'H', 'H'): 1, ('H', 'H', 'L'): 1, ('L', 'H', 'L'): 4}, 125216L: {'Rating': 7, ('L', 'H', 'L'): 1, ('L', 'L', 'L'): 1}, 16545L: {'Rating': 7, ('H', 'L', 'L'): 1}, 59172L: {'Rating': 10, ('L', 'H', 'L'): 2, ('L', 'L', 'L'): 2, ('L', 'H', 'H'): 3, ('L', 'L', 'H'): 1}, 50481L: {'Rating': 0, ('L', 'H', 'L'): 1, ('L', 'H', 'H'): 1}, 91058L: {'Rating': 8, ('H', 'L', 'H'): 1}, 114483L: {'Rating': 8, ('L', 'L', 'H'): 1, ('L', 'H', 'L'): 1, ('L', 'L', 'L'): 2}, 12982L: {'Rating': 8, ('L', 'H', 'L'): 1, ('H', 'L', 'L'): 1, ('L', 'L', 'L'): 2, ('H', 'H', 'H'): 1}, 79929L: {'Rating': 0, ('H', 'H', 'H'): 1, ('H', 'L', 'L'): 1, ('L', 'L', 'L'): 1}, 165308L: {'Rating': 7, ('H', 'H', 'L'): 1, ('H', 'L', 'H'): 1}, 153662L: {'Rating': 6, ('L', 'L', 'H'): 3, ('L', 'H', 'H'): 2, ('L', 'H', 'L'): 2, ('L', 'L', 'L'): 2}, 127167L: {'Rating': 0, ('H', 'H', 'H'): 1}, 114368L: {'Rating': 5, ('L', 'L', 'L'): 2, ('L', 'H', 'H'): 1, ('L', 'L', 'H'): 1, ('H', 'H', 'L'): 1, ('H', 'L', 'L'): 1, ('L', 'H', 'L'): 1}, 10946L: {'Rating': 5, ('H', 'L', 'L'): 1}, 174534L: {'Rating': 10, ('L', 'L', 'L'): 1}, 173769L: {'Rating': 10, ('L', 'L', 'L'): 2, ('L', 'H', 'H'): 1}, 8016L: {'Rating': 0, ('L', 'L', 'L'): 1}, 1233L: {'Rating': 0, ('L', 'L', 'L'): 3, ('L', 'L', 'H'): 1, ('H', 'H', 'L'): 1, ('H', 'H', 'H'): 1, ('L', 'H', 'L'): 3}, 40889L: {'Rating': 7, ('L', 'L', 'L'): 1, ('L', 'H', 'H'): 1}, 67930L: {'Rating': 10, ('L', 'L', 'H'): 2, ('L', 'L', 'L'): 3}, 160735L: {'Rating': 7, ('L', 'L', 'L'): 4}, 43619L: {'Rating': 9, ('L', 'H', 'L'): 1, ('L', 'L', 'L'): 1}, 123883L: {'Rating': 5, ('H', 'L', 'L'): 5, ('H', 'H', 'L'): 1}, 78589L: {'Rating': 5, ('H', 'L', 'L'): 1, ('H', 'L', 'H'): 1}, 76151L: {'Rating': 10, ('L', 'L', 'L'): 2, ('L', 'H', 'H'): 1, ('H', 'H', 'L'): 1}, 68217L: {'Rating': 10, ('H', 'H', 'L'): 2}, 121083L: {'Rating': 8, ('L', 'L', 'L'): 2, ('L', 'L', 'H'): 1, ('H', 'L', 'H'): 1, ('H', 'L', 'L'): 2, ('H', 'H', 'L'): 1}, 45107L: {('L', 'L', 'L'): 4, 'Rating': 10, ('L', 'L', 'H'): 2, ('L', 'H', 'L'): 2, ('L', 'H', 'H'): 1}, 25981L: {'Rating': 5, ('H', 'L', 'L'): 2, ('H', 'L', 'H'): 3, ('L', 'L', 'L'): 1}, 174719L: {'Rating': 10, ('H', 'L', 'H'): 1, ('H', 'H', 'L'): 1}}\n",
      "Black Beauty {15297L: {'Rating': 0, ('L', 'H', 'H'): 1, ('L', 'L', 'L'): 1}, 134138L: {'Rating': 0, ('L', 'L', 'H'): 2, ('H', 'L', 'L'): 2, ('H', 'H', 'L'): 1, ('H', 'H', 'H'): 1}, 115419L: {'Rating': 0, ('L', 'L', 'H'): 1, ('L', 'L', 'L'): 1}, 4558L: {'Rating': 0, ('H', 'H', 'L'): 1}, 13775L: {'Rating': 0, ('L', 'L', 'L'): 1}}\n",
      "The Night Before Christmas {115841L: {'Rating': 7, ('H', 'L', 'L'): 1}, 7916L: {'Rating': 8, ('L', 'H', 'H'): 1}}\n",
      "Jane Eyre {62881L: {'Rating': 0, ('L', 'L', 'H'): 1}, 72451L: {'Rating': 0, ('H', 'L', 'L'): 1, ('H', 'H', 'L'): 1}, 21576L: {'Rating': 10, ('L', 'L', 'L'): 1}, 41097L: {'Rating': 0, ('L', 'H', 'L'): 1}, 35980L: {'Rating': 0, ('L', 'H', 'L'): 1}, 91373L: {'Rating': 0, ('L', 'L', 'L'): 1}, 8370L: {'Rating': 8, ('L', 'L', 'L'): 1}, 11676L: {'Rating': 8, ('L', 'L', 'L'): 3}, 171295L: {'Rating': 8, ('L', 'L', 'L'): 1}}\n",
      "Dracula {110112L: {'Rating': 7, ('H', 'L', 'L'): 1}, 63394L: {'Rating': 9, ('L', 'L', 'L'): 1}, 11676L: {'Rating': 10, ('H', 'H', 'L'): 1, ('L', 'L', 'L'): 1}, 12194L: {'Rating': 10, ('L', 'H', 'L'): 1}}\n",
      "The Secret Garden {36609L: {'Rating': 0, ('H', 'L', 'L'): 1, ('L', 'H', 'L'): 1, ('L', 'L', 'L'): 3}, 16024L: {'Rating': 0, ('H', 'L', 'L'): 1, ('H', 'H', 'L'): 1}, 36357L: {'Rating': 0, ('L', 'L', 'L'): 2, ('L', 'H', 'L'): 2, ('H', 'H', 'H'): 3, ('H', 'L', 'H'): 2, ('H', 'L', 'L'): 5}, 38023L: {'Rating': 10, ('H', 'L', 'L'): 1, ('L', 'L', 'L'): 1}, 27404L: {'Rating': 0, ('L', 'L', 'L'): 1}, 36749L: {'Rating': 0, ('H', 'L', 'L'): 2, ('L', 'L', 'L'): 1, ('L', 'H', 'H'): 1}, 36622L: {'Rating': 0, ('L', 'L', 'H'): 2, ('L', 'L', 'L'): 1}, 36623L: {'Rating': 0, ('L', 'L', 'L'): 3}, 28988L: {'Rating': 0, ('L', 'H', 'H'): 1, ('L', 'L', 'L'): 1}, 6808L: {'Rating': 0, ('L', 'L', 'L'): 1}, 28945L: {'Rating': 0, ('H', 'L', 'L'): 1, ('H', 'H', 'L'): 1, ('L', 'L', 'L'): 1}, 36630L: {'Rating': 0, ('H', 'L', 'L'): 1, ('L', 'H', 'L'): 1}, 36313L: {'Rating': 0, ('H', 'H', 'H'): 1, ('L', 'L', 'L'): 2}, 36632L: {'Rating': 0, ('L', 'L', 'L'): 2}, 116506L: {'Rating': 10, ('H', 'H', 'L'): 1}, 36379L: {'Rating': 0, ('H', 'L', 'L'): 1}, 11676L: {'Rating': 10, ('L', 'H', 'H'): 1, ('L', 'L', 'L'): 4, ('L', 'H', 'L'): 3, ('H', 'L', 'L'): 2, ('H', 'L', 'H'): 1, ('H', 'H', 'H'): 2, ('H', 'H', 'L'): 2, ('L', 'L', 'H'): 2}, 36771L: {'Rating': 0, ('H', 'H', 'H'): 2, ('H', 'L', 'L'): 3, ('H', 'L', 'H'): 2, ('H', 'H', 'L'): 5}, 32773L: {'Rating': 9, ('H', 'H', 'L'): 1}, 16795L: {'Rating': 8, ('L', 'H', 'H'): 2, ('L', 'L', 'L'): 10, ('L', 'L', 'H'): 1, ('H', 'L', 'H'): 1, ('H', 'L', 'L'): 4, ('H', 'H', 'L'): 1, ('L', 'H', 'L'): 1}, 36554L: {'Rating': 0, ('H', 'L', 'L'): 1, ('L', 'H', 'L'): 1, ('L', 'L', 'L'): 2}, 14876L: {'Rating': 0, ('L', 'L', 'L'): 1}, 21014L: {'Rating': 9, ('L', 'L', 'L'): 10, ('L', 'H', 'L'): 3, ('H', 'H', 'H'): 1, ('H', 'L', 'H'): 1, ('H', 'L', 'L'): 2, ('L', 'L', 'H'): 2}, 36653L: {'Rating': 0, ('H', 'L', 'L'): 1}, 8495L: {'Rating': 0, ('L', 'L', 'H'): 2, ('L', 'L', 'L'): 3}, 36656L: {'Rating': 0, ('L', 'L', 'H'): 2, ('L', 'H', 'H'): 5, ('L', 'H', 'L'): 1, ('L', 'L', 'L'): 4}, 36787L: {'Rating': 0, ('L', 'H', 'L'): 1, ('L', 'L', 'H'): 1, ('L', 'L', 'L'): 4}, 114868L: {'Rating': 9, ('L', 'H', 'H'): 1, ('L', 'L', 'L'): 4, ('L', 'H', 'L'): 1, ('H', 'L', 'H'): 1, ('H', 'H', 'H'): 1, ('H', 'H', 'L'): 1}, 36406L: {'Rating': 0, ('L', 'L', 'H'): 1, ('L', 'H', 'H'): 4, ('L', 'L', 'L'): 5}, 36663L: {'Rating': 0, ('H', 'H', 'H'): 1, ('L', 'H', 'L'): 2, ('L', 'L', 'L'): 2, ('L', 'L', 'H'): 1}, 49212L: {'Rating': 10, ('L', 'H', 'L'): 2, ('L', 'L', 'L'): 2, ('H', 'H', 'L'): 1, ('L', 'L', 'H'): 2}, 36413L: {'Rating': 0, ('H', 'H', 'H'): 3, ('H', 'L', 'L'): 5, ('H', 'L', 'H'): 2, ('H', 'H', 'L'): 1}, 126492L: {'Rating': 10, ('L', 'H', 'L'): 1, ('L', 'L', 'L'): 1}, 36403L: {'Rating': 0, ('L', 'H', 'H'): 4, ('L', 'L', 'L'): 3, ('L', 'H', 'L'): 1, ('H', 'H', 'L'): 1, ('L', 'L', 'H'): 2}, 36672L: {'Rating': 0, ('L', 'L', 'L'): 2, ('L', 'L', 'H'): 1, ('H', 'H', 'H'): 3, ('H', 'L', 'H'): 2, ('H', 'L', 'L'): 5}, 36420L: {'Rating': 0, ('L', 'L', 'L'): 2}, 36678L: {('L', 'L', 'L'): 6, 'Rating': 0, ('L', 'L', 'H'): 5, ('L', 'H', 'L'): 1, ('H', 'H', 'L'): 1}, 5962L: {'Rating': 0, ('H', 'L', 'L'): 1}, 93047L: {'Rating': 9, ('H', 'L', 'L'): 1}, 8034L: {'Rating': 0, ('L', 'L', 'H'): 2, ('L', 'H', 'H'): 6, ('L', 'H', 'L'): 4, ('L', 'L', 'L'): 7}, 36430L: {'Rating': 0, ('L', 'L', 'L'): 1}, 36304L: {'Rating': 0, ('L', 'H', 'L'): 1, ('L', 'L', 'L'): 1}, 76626L: {'Rating': 10, ('L', 'L', 'L'): 3, ('L', 'H', 'L'): 4, ('H', 'L', 'H'): 1, ('H', 'L', 'L'): 4, ('H', 'H', 'L'): 1, ('L', 'L', 'H'): 2}, 76499L: {'Rating': 10, ('L', 'L', 'L'): 3, ('L', 'H', 'H'): 1, ('L', 'H', 'L'): 4, ('H', 'L', 'L'): 5, ('H', 'L', 'H'): 2, ('H', 'H', 'H'): 2, ('H', 'H', 'L'): 4, ('L', 'L', 'H'): 1}, 5204L: {'Rating': 0, ('H', 'H', 'L'): 1}, 78553L: {'Rating': 10, ('L', 'H', 'L'): 3, ('L', 'L', 'L'): 6, ('L', 'H', 'H'): 1}, 36442L: {'Rating': 0, ('L', 'L', 'L'): 1}, 36575L: {'Rating': 0, ('L', 'H', 'L'): 1, ('L', 'L', 'H'): 1}, 174304L: {'Rating': 9, ('L', 'L', 'L'): 7, ('L', 'H', 'H'): 1, ('L', 'H', 'L'): 1, ('H', 'L', 'L'): 1, ('H', 'H', 'L'): 1, ('H', 'H', 'H'): 1, ('L', 'L', 'H'): 2}, 36706L: {'Rating': 0, ('L', 'L', 'L'): 1}, 36709L: {'Rating': 0, ('L', 'L', 'L'): 1}, 278246L: {'Rating': 0, ('L', 'H', 'H'): 1, ('L', 'L', 'L'): 8, ('L', 'L', 'H'): 4, ('H', 'L', 'H'): 1, ('H', 'L', 'L'): 1, ('H', 'H', 'L'): 3}, 36327L: {'Rating': 0, ('L', 'H', 'L'): 2, ('L', 'L', 'L'): 3}, 36369L: {'Rating': 0, ('H', 'H', 'L'): 1}, 36540L: {'Rating': 0, ('L', 'H', 'L'): 1, ('L', 'L', 'L'): 2}, 277743L: {'Rating': 0, ('L', 'L', 'L'): 2}, 27120L: {'Rating': 0, ('H', 'L', 'L'): 1}, 277873L: {'Rating': 0, ('L', 'L', 'L'): 1, ('H', 'L', 'L'): 5, ('H', 'L', 'H'): 4, ('H', 'H', 'H'): 4, ('H', 'H', 'L'): 6}, 36691L: {'Rating': 0, ('L', 'L', 'L'): 2, ('L', 'L', 'H'): 1, ('H', 'H', 'H'): 3, ('H', 'L', 'H'): 2, ('H', 'L', 'L'): 4, ('H', 'H', 'L'): 4}, 115572L: {'Rating': 10, ('L', 'H', 'L'): 1, ('L', 'L', 'L'): 5}, 153662L: {'Rating': 10, ('L', 'L', 'L'): 6, ('L', 'H', 'L'): 4, ('H', 'H', 'L'): 4, ('H', 'H', 'H'): 3, ('H', 'L', 'H'): 2, ('L', 'L', 'H'): 2}, 86518L: {'Rating': 6, ('L', 'H', 'L'): 1}, 36777L: {'Rating': 0, ('L', 'H', 'L'): 2}, 182442L: {'Rating': 9, ('L', 'H', 'L'): 2, ('L', 'L', 'H'): 1, ('L', 'L', 'L'): 2}}\n",
      "Beloved {94466L: {'Rating': 0, ('H', 'H', 'L'): 1}, 107784L: {'Rating': 1, ('L', 'L', 'L'): 3, ('L', 'L', 'H'): 1, ('H', 'L', 'H'): 2, ('H', 'L', 'L'): 5, ('H', 'H', 'L'): 1}, 51593L: {'Rating': 0, ('H', 'L', 'L'): 1}, 16023L: {'Rating': 0, ('H', 'L', 'L'): 1, ('L', 'L', 'H'): 1, ('L', 'L', 'L'): 1}, 23699L: {'Rating': 10, ('H', 'H', 'L'): 1}, 158254L: {'Rating': 7, ('H', 'H', 'H'): 1, ('L', 'H', 'L'): 1, ('L', 'L', 'L'): 3, ('L', 'L', 'H'): 3}, 3095L: {'Rating': 0, ('H', 'L', 'L'): 1, ('H', 'H', 'L'): 1}, 80538L: {('L', 'L', 'L'): 5, 'Rating': 8, ('H', 'L', 'L'): 1, ('L', 'L', 'H'): 3, ('L', 'H', 'H'): 1}, 173341L: {'Rating': 0, ('H', 'H', 'L'): 1}, 5790L: {'Rating': 0, ('L', 'H', 'L'): 1, ('L', 'L', 'L'): 1, ('L', 'H', 'H'): 1, ('H', 'H', 'L'): 1}, 5920L: {'Rating': 0, ('L', 'H', 'L'): 1, ('H', 'L', 'L'): 1, ('L', 'L', 'L'): 3}, 70052L: {'Rating': 3, ('L', 'H', 'H'): 1, ('L', 'L', 'L'): 4, ('H', 'L', 'L'): 1, ('H', 'H', 'L'): 1, ('H', 'H', 'H'): 1}, 4017L: {'Rating': 10, ('L', 'H', 'L'): 1, ('L', 'H', 'H'): 1, ('L', 'L', 'H'): 3, ('L', 'L', 'L'): 5}, 59180L: {'Rating': 0, ('L', 'L', 'L'): 2}, 179118L: {'Rating': 7, ('L', 'L', 'L'): 1}, 25009L: {'Rating': 0, ('L', 'H', 'L'): 2, ('L', 'L', 'L'): 1}, 32056L: {'Rating': 0, ('H', 'H', 'L'): 1}, 77241L: {'Rating': 0, ('L', 'L', 'H'): 1, ('H', 'H', 'L'): 2}, 125754L: {'Rating': 0, ('L', 'L', 'L'): 1, ('L', 'H', 'H'): 1}, 27331L: {'Rating': 0, ('H', 'L', 'L'): 1, ('L', 'L', 'L'): 2, ('H', 'L', 'H'): 1, ('H', 'H', 'L'): 1}, 182085L: {'Rating': 9, ('H', 'H', 'H'): 1, ('L', 'L', 'L'): 2, ('L', 'H', 'H'): 1}, 4426L: {'Rating': 0, ('L', 'L', 'L'): 3, ('L', 'L', 'H'): 1, ('H', 'H', 'H'): 1, ('H', 'H', 'L'): 3, ('H', 'L', 'L'): 4, ('L', 'H', 'L'): 1}, 92498L: {'Rating': 9, ('L', 'L', 'H'): 2, ('L', 'L', 'L'): 4}, 73044L: {'Rating': 8, ('L', 'L', 'L'): 2, ('L', 'H', 'L'): 2, ('H', 'L', 'H'): 1, ('H', 'L', 'L'): 2, ('L', 'L', 'H'): 1}, 88283L: {'Rating': 9, ('L', 'H', 'H'): 1, ('L', 'L', 'L'): 2, ('L', 'H', 'L'): 2, ('H', 'H', 'L'): 1, ('L', 'L', 'H'): 1}, 77790L: {'Rating': 0, ('L', 'H', 'H'): 1, ('L', 'L', 'L'): 3, ('L', 'H', 'L'): 2, ('H', 'H', 'L'): 1, ('H', 'L', 'L'): 1}, 5728L: {'Rating': 9, ('L', 'L', 'H'): 1, ('L', 'L', 'L'): 2}, 5031L: {'Rating': 0, ('L', 'H', 'H'): 3, ('L', 'L', 'L'): 5, ('L', 'L', 'H'): 2, ('H', 'H', 'L'): 2, ('H', 'L', 'L'): 1, ('H', 'L', 'H'): 1, ('L', 'H', 'L'): 2}, 8786L: {'Rating': 0, ('H', 'L', 'L'): 1, ('L', 'H', 'L'): 1}, 168816L: {'Rating': 8, ('L', 'L', 'L'): 2}, 152946L: {'Rating': 8, ('L', 'L', 'L'): 3}, 3061L: {'Rating': 0, ('L', 'H', 'H'): 1, ('L', 'L', 'L'): 1, ('L', 'L', 'H'): 1, ('H', 'H', 'H'): 2, ('H', 'H', 'L'): 5, ('H', 'L', 'L'): 4}, 164728L: {'Rating': 8, ('H', 'H', 'H'): 2}}\n",
      "The Secret {69697L: {'Rating': 9, ('L', 'L', 'H'): 1, ('L', 'L', 'L'): 8, ('L', 'H', 'H'): 1}, 139141L: {'Rating': 5, ('H', 'L', 'L'): 1, ('H', 'H', 'H'): 1, ('H', 'L', 'H'): 1, ('H', 'H', 'L'): 1}, 123883L: {'Rating': 5, ('H', 'L', 'L'): 5, ('H', 'H', 'H'): 1, ('H', 'L', 'H'): 1, ('H', 'H', 'L'): 2}, 49900L: {'Rating': 8, ('L', 'H', 'H'): 1, ('L', 'L', 'L'): 1}, 153361L: {'Rating': 9, ('L', 'H', 'L'): 1}, 168245L: {'Rating': 7, ('L', 'H', 'L'): 1, ('L', 'L', 'L'): 6, ('L', 'H', 'H'): 2}, 12982L: {'Rating': 9, ('L', 'L', 'H'): 1, ('H', 'L', 'L'): 1, ('L', 'L', 'L'): 3, ('H', 'H', 'H'): 1}, 76151L: {'Rating': 10, ('L', 'L', 'H'): 1, ('L', 'L', 'L'): 6, ('L', 'H', 'H'): 1}, 37208L: {'Rating': 10, ('H', 'L', 'L'): 3, ('H', 'H', 'H'): 2, ('L', 'L', 'L'): 4, ('L', 'L', 'H'): 1}, 153662L: {'Rating': 10, ('L', 'H', 'L'): 2, ('L', 'H', 'H'): 2, ('L', 'L', 'L'): 6, ('L', 'L', 'H'): 1}}\n",
      "Great Expectations {33297L: {'Rating': 5, ('L', 'L', 'H'): 1}, 65966L: {'Rating': 0, ('L', 'L', 'H'): 1}}\n",
      "Selected Poems {2504L: {'Rating': 0, ('H', 'H', 'H'): 1}, 78275L: {'Rating': 0, ('H', 'H', 'H'): 1}}\n",
      "Wuthering Heights {73923L: {'Rating': 8, ('H', 'L', 'L'): 3, ('L', 'L', 'H'): 1, ('H', 'H', 'L'): 1}, 60005L: {'Rating': 0, ('H', 'L', 'L'): 1}, 77702L: {'Rating': 0, ('H', 'L', 'L'): 1, ('L', 'H', 'L'): 1}, 132392L: {'Rating': 6, ('H', 'L', 'L'): 1}, 55548L: {'Rating': 10, ('L', 'H', 'L'): 2, ('L', 'L', 'H'): 2, ('L', 'L', 'L'): 1}, 136491L: {'Rating': 4, ('H', 'H', 'L'): 2}, 74286L: {'Rating': 9, ('L', 'H', 'L'): 1, ('H', 'L', 'L'): 2}, 276989L: {'Rating': 0, ('H', 'H', 'H'): 1, ('L', 'H', 'H'): 1}, 1200L: {'Rating': 0, ('H', 'L', 'L'): 1}, 178920L: {'Rating': 8, ('L', 'L', 'L'): 1, ('H', 'H', 'L'): 1}, 15602L: {'Rating': 10, ('L', 'L', 'L'): 1}, 77710L: {'Rating': 0, ('L', 'L', 'L'): 1, ('H', 'H', 'L'): 1}, 123094L: {'Rating': 8, ('L', 'L', 'L'): 1}, 110214L: {'Rating': 8, ('L', 'L', 'L'): 1}, 14521L: {'Rating': 1, ('L', 'L', 'H'): 1, ('H', 'H', 'L'): 1, ('L', 'L', 'L'): 1}, 16634L: {'Rating': 8, ('L', 'L', 'H'): 1, ('H', 'L', 'L'): 1, ('L', 'L', 'L'): 1}, 11676L: {'Rating': 10, ('L', 'H', 'L'): 1, ('H', 'H', 'H'): 1, ('H', 'H', 'L'): 2, ('H', 'L', 'L'): 1, ('H', 'L', 'H'): 1}, 167517L: {'Rating': 10, ('H', 'H', 'H'): 1, ('L', 'L', 'H'): 1}, 23902L: {'Rating': 10, ('L', 'H', 'L'): 1, ('L', 'L', 'L'): 2, ('H', 'L', 'H'): 1}, 135045L: {'Rating': 4, ('L', 'L', 'L'): 2}}\n"
     ]
    },
    {
     "name": "stdout",
     "output_type": "stream",
     "text": [
      "Stored 'Dict_output' (defaultdict)\n",
      "Stored 'top_books' (list)\n",
      "Stored 'book_name' (list)\n",
      "Stored 'isbn' (list)\n"
     ]
    }
   ],
   "source": [
    "#Prints top 100 books and a dictionary for top 1000 books that contains the user that have rated them, their ratings and the configuration that was formed\n",
    "\n",
    "%store -r book_name\n",
    "%store -r isbn\n",
    "%store -r Dictionary\n",
    "%store -r df_mat_book\n",
    "Bookcount = {}\n",
    "\n",
    "from collections import defaultdict\n",
    "\n",
    "isbn =[row[0] for row in df_mat_book]\n",
    "book_name =[row[1] for row in df_mat_book]\n",
    "\n",
    "for i in range(len(book_name)):\n",
    "    if i% 50000 == 0:\n",
    "        print \"Reached Book num: \", i+1\n",
    "    if isbn[i] in bookmap.keys():\n",
    "        if book_name[i] not in Bookcount.keys():\n",
    "            Bookcount[book_name[i]]=book_name.count(book_name[i])  \n",
    "\n",
    "top_books =[]\n",
    "print (\"Top Books\")\n",
    "\n",
    "counter = 0\n",
    "for key,item in sorted(Bookcount.iteritems(),key=lambda (k,v):(v,k),reverse=True):\n",
    "    if counter == 1000:\n",
    "        break\n",
    "    counter+=1\n",
    "    top_books.append(key)\n",
    "    if counter<100:\n",
    "        print key,item\n",
    "    \n",
    "print(\"Final Dictionary\")\n",
    "\n",
    "Dict_output = defaultdict(dict)\n",
    "for key, item in Dictionary.iteritems():\n",
    "    isbn_temp = bookmap.keys()[bookmap.values().index(key[1])]\n",
    "    if isbn_temp in isbn:\n",
    "        bookname = book_name[isbn.index(isbn_temp)]\n",
    "        if bookname in top_books:\n",
    "            Dict_output[bookname][usermap.keys()[usermap.values().index(key[0])]]=item\n",
    " \n",
    "counter=0\n",
    "for key,item in Dict_output.iteritems():\n",
    "    if counter==20:\n",
    "        break\n",
    "    if key in top_books[:20]:\n",
    "        print key,item\n",
    "        counter+=1\n",
    "    \n",
    "%store Dict_output\n",
    "%store top_books\n",
    "%store book_name\n",
    "%store isbn"
   ]
  },
  {
   "cell_type": "code",
   "execution_count": 17,
   "metadata": {},
   "outputs": [
    {
     "name": "stdout",
     "output_type": "stream",
     "text": [
      "Book ID : Misery User ID : 31826 Actual Rating : Love Predicted Rating : Hate\n",
      "('L', 'H', 'L')  : 2\n",
      "('L', 'H', 'H')  : 3\n",
      "('L', 'L', 'L')  : 11\n",
      "Book ID : Misery User ID : 39441 Actual Rating : Hate Predicted Rating : Hate\n",
      "('L', 'H', 'H')  : 1\n",
      "('L', 'L', 'L')  : 3\n",
      "('L', 'L', 'H')  : 1\n",
      "('H', 'H', 'L')  : 1\n",
      "('H', 'L', 'L')  : 2\n",
      "('L', 'H', 'L')  : 1\n",
      "Book ID : Misery User ID : 42113 Actual Rating : Hate Predicted Rating : Hate\n",
      "('H', 'L', 'L')  : 1\n",
      "('H', 'H', 'H')  : 1\n",
      "Book ID : Misery User ID : 33474 Actual Rating : Hate Predicted Rating : Hate\n",
      "('L', 'H', 'L')  : 2\n",
      "('H', 'H', 'H')  : 2\n",
      "('H', 'L', 'H')  : 1\n",
      "('H', 'L', 'L')  : 9\n",
      "('H', 'H', 'L')  : 11\n",
      "Book ID : Misery User ID : 6962 Actual Rating : Hate Predicted Rating : Hate\n",
      "('H', 'H', 'H')  : 1\n",
      "('H', 'L', 'L')  : 3\n",
      "Book ID : Misery User ID : 21332 Actual Rating : Hate Predicted Rating : Hate\n",
      "('L', 'L', 'L')  : 9\n",
      "('L', 'H', 'H')  : 2\n",
      "('L', 'H', 'L')  : 12\n",
      "('L', 'L', 'H')  : 1\n",
      "Book ID : Misery User ID : 78194 Actual Rating : Hate Predicted Rating : Hate\n",
      "('L', 'L', 'L')  : 1\n",
      "Book ID : Misery User ID : 8599 Actual Rating : Hate Predicted Rating : Hate\n",
      "('L', 'L', 'L')  : 3\n",
      "('L', 'L', 'H')  : 1\n",
      "('H', 'H', 'H')  : 2\n",
      "('H', 'L', 'H')  : 1\n",
      "('H', 'L', 'L')  : 8\n",
      "('H', 'H', 'L')  : 10\n",
      "Book ID : Misery User ID : 124888 Actual Rating : Hate Predicted Rating : Hate\n",
      "('H', 'L', 'L')  : 3\n",
      "('H', 'H', 'H')  : 1\n",
      "('L', 'L', 'L')  : 1\n",
      "Book ID : The Corrections User ID : 112953 Actual Rating : Love Predicted Rating : Love\n",
      "('L', 'L', 'H')  : 1\n",
      "('L', 'L', 'L')  : 1\n",
      "Stored 'book_name' (list)\n",
      "Stored 'isbn' (list)\n"
     ]
    }
   ],
   "source": [
    "# Demo considering top 1000 books (700 books picked in random to find predicted values for predicted their user ratings and 10 of them displayed)\n",
    "%store -r X_train\n",
    "%store -r y_test\n",
    "%store -r lr_y_pred\n",
    "%store -r df_mat_book\n",
    "%store -r usermap\n",
    "%store -r bookmap\n",
    "%store -r pair_dic\n",
    "%store -r Dictionary\n",
    "%store -r Dict_output\n",
    "%store -r top_books\n",
    "%store -r  book_name\n",
    "%store  -r isbn\n",
    "from random import randint\n",
    "\n",
    "offset_train = len(X_train)\n",
    "offset_test = len(y_test)\n",
    "\n",
    "count=0\n",
    "#for i in range(0,offset_test):\n",
    "while(True):\n",
    "    i = randint(0,offset_test-1)\n",
    "    if count==700:\n",
    "        break\n",
    "    if lr_y_pred[i] == 0:\n",
    "        lr_p = 'Hate'\n",
    "    else : lr_p = 'Love'\n",
    "    if y_test[i] == 0:\n",
    "        yt_p = 'Hate'\n",
    "    else : yt_p = 'Love'   \n",
    "    if isbn.count(bookmap.keys()[bookmap.values().index(pair_dic[i+offset_train][1])])!=0:\n",
    "        bookNAME = book_name[isbn.index(bookmap.keys()[bookmap.values().index(pair_dic[i+offset_train][1])])]\n",
    "        userNAME = usermap.keys()[usermap.values().index(pair_dic[i+offset_train][0])]\n",
    "        if bookNAME in Dict_output.keys():\n",
    "            if userNAME in Dict_output[bookNAME].keys():\n",
    "                    Dict_output[bookNAME][userNAME][\"Predicted\"] = lr_p\n",
    "                    count+=1\n",
    "              \n",
    "count=0\n",
    "for key_outer in Dict_output.keys():\n",
    "    for key_inner in Dict_output[key_outer].keys():\n",
    "        if \"Predicted\" in Dict_output[key_outer][key_inner].keys():\n",
    "            if count==10:\n",
    "                break\n",
    "            if Dict_output[key_outer][key_inner]['Rating'] < 8:\n",
    "                actual_rating = 'Hate'\n",
    "            else: actual_rating = 'Love'\n",
    "            print \"Book ID :\", key_outer, \"User ID :\", key_inner, \"Actual Rating :\",actual_rating, \"Predicted Rating :\", Dict_output[key_outer][key_inner]['Predicted']\n",
    "            for key,item in Dict_output[key_outer][key_inner].iteritems():\n",
    "                if key!= 'Rating' and key!= 'Predicted':\n",
    "                    print key,\" :\", item\n",
    "            count+=1\n",
    "    \n",
    "%store book_name\n",
    "%store isbn"
   ]
  },
  {
   "cell_type": "code",
   "execution_count": 27,
   "metadata": {},
   "outputs": [
    {
     "name": "stdout",
     "output_type": "stream",
     "text": [
      " USER ID:  26706  BOOK NAME:  Ralph S. Mouse (Cleary Reissue)  PREDICTED:  Hate  ACTUAL:  Hate\n",
      " USER ID:  62621  BOOK NAME:  Conspiracy.Com : A Novel  PREDICTED:  Love  ACTUAL:  Hate\n",
      " USER ID:  136382  BOOK NAME:  The Thorn Birds  PREDICTED:  Hate  ACTUAL:  Love\n",
      " USER ID:  49460  BOOK NAME:  Dirty Jokes and Beer : Stories of the Unrefined  PREDICTED:  Love  ACTUAL:  Love\n",
      " USER ID:  113657  BOOK NAME:  Without Reservations : The Travels of an Independent Woman  PREDICTED:  Hate  ACTUAL:  Hate\n"
     ]
    }
   ],
   "source": [
    "# Demo considering all books\n",
    "%store -r X_train\n",
    "%store -r y_test\n",
    "%store -r lr_y_pred\n",
    "%store -r df_mat_book\n",
    "%store -r usermap\n",
    "%store -r bookmap\n",
    "%store -r pair_dic\n",
    "%store -r book_name\n",
    "%store -r isbn\n",
    "\n",
    "from random import randint\n",
    "isbn =[row[0] for row in df_mat_book]\n",
    "book_name =[row[1] for row in df_mat_book]\n",
    "count=0\n",
    "# 5922 , 23938 \n",
    "offset_train = len(X_train)\n",
    "offset_test = len(y_test)\n",
    "while(count<5):\n",
    "    rnd = randint(0,offset_test-1)\n",
    "    if lr_y_pred[rnd] == 0:\n",
    "        lr_p = 'Hate'\n",
    "    else : lr_p = 'Love'\n",
    "    if y_test[rnd] == 0:\n",
    "        yt_p = 'Hate'\n",
    "    else : yt_p = 'Love'   \n",
    "    if isbn.count(bookmap.keys()[bookmap.values().index(pair_dic[rnd+offset_train][1])])!=0:\n",
    "        print \" USER ID: \",usermap.keys()[usermap.values().index(pair_dic[rnd+offset_train][0])],\n",
    "        print \" BOOK NAME: \",book_name[isbn.index(bookmap.keys()[bookmap.values().index(pair_dic[rnd+offset_train][1])])],\n",
    "        print \" PREDICTED: \",lr_p,\" ACTUAL: \",yt_p\n",
    "        count+=1\n"
   ]
  },
  {
   "cell_type": "code",
   "execution_count": null,
   "metadata": {},
   "outputs": [],
   "source": []
  }
 ],
 "metadata": {
  "kernelspec": {
   "display_name": "Python 2",
   "language": "python",
   "name": "python2"
  },
  "language_info": {
   "codemirror_mode": {
    "name": "ipython",
    "version": 2
   },
   "file_extension": ".py",
   "mimetype": "text/x-python",
   "name": "python",
   "nbconvert_exporter": "python",
   "pygments_lexer": "ipython2",
   "version": "2.7.14"
  }
 },
 "nbformat": 4,
 "nbformat_minor": 2
}
