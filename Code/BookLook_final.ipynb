{
 "cells": [
  {
   "cell_type": "code",
   "execution_count": 0,
   "metadata": {
    "colab": {
     "autoexec": {
      "startup": false,
      "wait_interval": 0
     }
    },
    "colab_type": "code",
    "id": "ID3ikatdy13h",
    "outputId": "9918ec44-8e91-4390-e68f-da17e536abb1"
   },
   "outputs": [
    {
     "name": "stderr",
     "output_type": "stream",
     "text": [
      "C:\\Users\\karth\\Anaconda2\\envs\\cs670\\lib\\site-packages\\IPython\\core\\interactiveshell.py:2718: DtypeWarning: Columns (0,2) have mixed types. Specify dtype option on import or set low_memory=False.\n",
      "  interactivity=interactivity, compiler=compiler, result=result)\n"
     ]
    }
   ],
   "source": [
    "import pandas as pd\n",
    "import numpy\n",
    "df = pd.read_csv('BX-Book-Ratings.csv', names=[\"User-ID\", \"ISBN\", \"Book-Rating\"], delimiter=\";\")\n",
    "rating_matrix = numpy.ndarray(shape=(50000,50000), dtype = 'int64')\n",
    "df_mat = df.as_matrix()[1:]\n",
    "#print(df_mat)"
   ]
  },
  {
   "cell_type": "code",
   "execution_count": 0,
   "metadata": {
    "colab": {
     "autoexec": {
      "startup": false,
      "wait_interval": 0
     }
    },
    "colab_type": "code",
    "id": "xYN7nVAKy13q",
    "outputId": "948d9d6d-62d2-4dfc-fae7-4633f8980464"
   },
   "outputs": [
    {
     "name": "stdout",
     "output_type": "stream",
     "text": [
      "Stored 'df_mat' (ndarray)\n"
     ]
    }
   ],
   "source": [
    "%store df_mat"
   ]
  },
  {
   "cell_type": "code",
   "execution_count": 0,
   "metadata": {
    "colab": {
     "autoexec": {
      "startup": false,
      "wait_interval": 0
     }
    },
    "colab_type": "code",
    "id": "uZzwij2oy13v",
    "outputId": "b85c8f83-2dc6-4d11-bb8a-cad9d495794f"
   },
   "outputs": [
    {
     "name": "stdout",
     "output_type": "stream",
     "text": [
      "1149780\n"
     ]
    }
   ],
   "source": [
    "%store -r df_mat\n",
    "totalratings = len(df_mat[:,0])\n",
    "print totalratings"
   ]
  },
  {
   "cell_type": "code",
   "execution_count": 0,
   "metadata": {
    "colab": {
     "autoexec": {
      "startup": false,
      "wait_interval": 0
     }
    },
    "colab_type": "code",
    "id": "3jt8oKway134"
   },
   "outputs": [],
   "source": [
    "import numpy as np\n",
    "df_mat[:,0] = df_mat[:,0].astype('int64')\n",
    "df_mat[:,2] = df_mat[:,2].astype('int64')\n",
    "\n",
    "usercount = (len(np.unique(df_mat[:,0])))\n",
    "bookcount = (len(np.unique(df_mat[:,1])))\n",
    "#numpy.unique(df_mat[:,1]).shape"
   ]
  },
  {
   "cell_type": "code",
   "execution_count": 0,
   "metadata": {
    "colab": {
     "autoexec": {
      "startup": false,
      "wait_interval": 0
     }
    },
    "colab_type": "code",
    "id": "kVO1SZ7Fy13_",
    "outputId": "0521601e-1c24-4dce-85a5-dc77d81f3a33"
   },
   "outputs": [
    {
     "name": "stdout",
     "output_type": "stream",
     "text": [
      "105283\n",
      "340556\n"
     ]
    }
   ],
   "source": [
    "print usercount\n",
    "print bookcount"
   ]
  },
  {
   "cell_type": "code",
   "execution_count": 0,
   "metadata": {
    "colab": {
     "autoexec": {
      "startup": false,
      "wait_interval": 0
     }
    },
    "colab_type": "code",
    "id": "FyIg8inEy14D"
   },
   "outputs": [],
   "source": [
    "bookid = 0\n",
    "usernum = 0\n",
    "bookmap = {}\n",
    "usermap = {}\n",
    "useridslist = []\n",
    "for k in range(0,800000):\n",
    "    userid = df_mat[k,0]\n",
    "    isbn = df_mat[k,1]\n",
    "    if isbn not in bookmap:\n",
    "        if bookid < 50000:\n",
    "            bookmap[isbn] = bookid\n",
    "            if userid not in usermap:\n",
    "                if usernum < 50000:\n",
    "                    usermap[userid]=usernum\n",
    "                    rating_matrix[usernum, bookid] = df_mat[k,2]\n",
    "                    usernum+=1\n",
    "            else:\n",
    "                rating_matrix[usermap[userid], bookid] = df_mat[k,2]\n",
    "            bookid = bookid+1\n",
    "    else:\n",
    "        if userid not in usermap:\n",
    "            if usernum < 50000:\n",
    "                usermap[userid]=usernum\n",
    "                rating_matrix[usernum, bookmap[isbn]] = df_mat[k,2]\n",
    "                usernum+=1\n",
    "        else:\n",
    "            rating_matrix[usermap[userid], bookmap[isbn]] = df_mat[k,2]\n",
    "            \n"
   ]
  },
  {
   "cell_type": "code",
   "execution_count": 0,
   "metadata": {
    "colab": {
     "autoexec": {
      "startup": false,
      "wait_interval": 0
     }
    },
    "colab_type": "code",
    "id": "BucY0KSiy14I",
    "outputId": "f058b251-02bf-4c20-dcf4-070524bc05de"
   },
   "outputs": [
    {
     "name": "stdout",
     "output_type": "stream",
     "text": [
      "(50000L, 50000L)\n"
     ]
    }
   ],
   "source": [
    "print(rating_matrix.shape)"
   ]
  },
  {
   "cell_type": "code",
   "execution_count": 0,
   "metadata": {
    "colab": {
     "autoexec": {
      "startup": false,
      "wait_interval": 0
     }
    },
    "colab_type": "code",
    "id": "ryWUPAv_y14N",
    "outputId": "debebeeb-0522-4cd6-8044-7e1d196d8837"
   },
   "outputs": [
    {
     "name": "stdout",
     "output_type": "stream",
     "text": [
      "105283\n"
     ]
    }
   ],
   "source": [
    "import numpy as np\n",
    "user_list = np.unique(df_mat[:,0])\n",
    "print len(user_list)"
   ]
  },
  {
   "cell_type": "code",
   "execution_count": 0,
   "metadata": {
    "colab": {
     "autoexec": {
      "startup": false,
      "wait_interval": 0
     }
    },
    "colab_type": "code",
    "id": "HaLjBI-5y14R",
    "outputId": "37da1a19-0600-43c2-9184-9efe48b0e8e0"
   },
   "outputs": [
    {
     "name": "stdout",
     "output_type": "stream",
     "text": [
      "50000\n",
      "50000\n"
     ]
    }
   ],
   "source": [
    "print len(bookmap.values())\n",
    "print len(usermap.values())\n",
    "\n",
    "#print df_mat[0,0]\n",
    "#print bookmap[df_mat[0,1]]"
   ]
  },
  {
   "cell_type": "code",
   "execution_count": 0,
   "metadata": {
    "colab": {
     "autoexec": {
      "startup": false,
      "wait_interval": 0
     }
    },
    "colab_type": "code",
    "id": "EzehWXWdy14W"
   },
   "outputs": [],
   "source": [
    "import networkx as nx\n",
    "from networkx.algorithms import bipartite"
   ]
  },
  {
   "cell_type": "code",
   "execution_count": 0,
   "metadata": {
    "colab": {
     "autoexec": {
      "startup": false,
      "wait_interval": 0
     }
    },
    "colab_type": "code",
    "id": "6G6-fOfEy14Y"
   },
   "outputs": [],
   "source": [
    "# constructing a bipartite graph\n",
    "\n",
    "B = nx.Graph()\n",
    "B.add_nodes_from(usermap.values(), bipartite=0) #0 indicates one class of nodes, here: users\n",
    "B.add_nodes_from(bookmap.values(), bipartite=1) #1 for isbn"
   ]
  },
  {
   "cell_type": "code",
   "execution_count": 0,
   "metadata": {
    "colab": {
     "autoexec": {
      "startup": false,
      "wait_interval": 0
     }
    },
    "colab_type": "code",
    "id": "Qy-fy0XSy14c",
    "outputId": "dde878a1-11c8-41e1-c822-60e1c82f9e0d"
   },
   "outputs": [
    {
     "name": "stdout",
     "output_type": "stream",
     "text": [
      "0\n",
      "50000\n",
      "100000\n",
      "150000\n",
      "200000\n",
      "250000\n",
      "300000\n",
      "350000\n",
      "400000\n",
      "450000\n",
      "500000\n",
      "550000\n",
      "600000\n",
      "650000\n",
      "700000\n",
      "750000\n"
     ]
    },
    {
     "data": {
      "text/plain": [
       "'\\nls.append()\\n'"
      ]
     },
     "execution_count": 43,
     "metadata": {
      "tags": []
     },
     "output_type": "execute_result"
    }
   ],
   "source": [
    "edge_ls = []\n",
    "\n",
    "for k in range(0,800000):\n",
    "    ls = []\n",
    "    if k%50000==0:\n",
    "        print k\n",
    "    if df_mat[k,0] in usermap.keys() and df_mat[k,1] in bookmap.keys() and df_mat[k,2]!=0:\n",
    "        ls.append(usermap[df_mat[k,0]])\n",
    "        ls.append(bookmap[df_mat[k,1]])\n",
    "        if df_mat[k,2] > 6:\n",
    "            rate = 'L' # for love\n",
    "        else: rate = 'H' # for hate\n",
    "        ls.append(rate)\n",
    "        edge_ls.append(ls)\n",
    "#print edge_ls\n",
    "B.add_weighted_edges_from(edge_ls)\n",
    "\n",
    "'''\n",
    "ls.append()\n",
    "'''"
   ]
  },
  {
   "cell_type": "code",
   "execution_count": 0,
   "metadata": {
    "colab": {
     "autoexec": {
      "startup": false,
      "wait_interval": 0
     }
    },
    "colab_type": "code",
    "id": "VnJa_PnVy14g",
    "outputId": "33af2a57-8f94-4621-b6ae-b34fe98a3d91"
   },
   "outputs": [
    {
     "name": "stdout",
     "output_type": "stream",
     "text": [
      "50000\n"
     ]
    }
   ],
   "source": [
    "print(len(B))"
   ]
  },
  {
   "cell_type": "code",
   "execution_count": 0,
   "metadata": {
    "colab": {
     "autoexec": {
      "startup": false,
      "wait_interval": 0
     }
    },
    "colab_type": "code",
    "id": "Af3HGazFy14k"
   },
   "outputs": [],
   "source": [
    "# import networkx as nx\n",
    "# from networkx.algorithms import bipartite\n",
    "\n",
    "# B = nx.Graph()\n",
    "# B.add_nodes_from(usermap.values(), bipartite=0)\n",
    "# B.add_nodes_from(bookmap.values(), bipartite=1)\n",
    "\n",
    "# edge_ls = []\n",
    "# for i in range(0,50000):\n",
    "#     for j in range(0,50000):\n",
    "#         if rating_matrix[i,j] !=0:\n",
    "#             ls = []\n",
    "#             ls.append(i)\n",
    "#             ls.append(j)\n",
    "#             if rating_matrix[i,j] > 6:\n",
    "#                 rate = 'L' # for love\n",
    "#             else: \n",
    "#                 rate = 'H' # for hate\n",
    "#             ls.append(rate)\n",
    "#             edge_ls.append(ls)\n",
    "# B.add_weighted_edges_from(edge_ls)"
   ]
  },
  {
   "cell_type": "code",
   "execution_count": 0,
   "metadata": {
    "colab": {
     "autoexec": {
      "startup": false,
      "wait_interval": 0
     }
    },
    "colab_type": "code",
    "id": "LeN-6hVUy14n"
   },
   "outputs": [],
   "source": [
    "%store -r B\n",
    "import pickle\n",
    "pickle.dump(B,open(\"a.p\",\"wb\"))"
   ]
  },
  {
   "cell_type": "code",
   "execution_count": 0,
   "metadata": {
    "colab": {
     "autoexec": {
      "startup": false,
      "wait_interval": 0
     }
    },
    "colab_type": "code",
    "id": "k2Ph-1oOy14q",
    "outputId": "afdf4f52-b184-40ad-9742-0bab49e94201"
   },
   "outputs": [
    {
     "name": "stdout",
     "output_type": "stream",
     "text": [
      "Reached user  1\n",
      "Reached user  10001\n",
      "Reached user  20001\n",
      "Reached user  30001\n",
      "Reached user  40001\n"
     ]
    }
   ],
   "source": [
    "import pickle\n",
    "#B= pickle.load(open(\"a.p\",\"rb\"))\n",
    "from collections import defaultdict\n",
    "Dictionary = defaultdict(dict)\n",
    "count =0\n",
    "dictionary_adj = dict(B.adjacency()) \n",
    "for user1 in usermap.values():\n",
    "    BFS_Dict= dict(nx.bfs_successors(B,user1))\n",
    "    User_item_list = []\n",
    "    User_item_list.append(user1)\n",
    "    edge_list=[]\n",
    "    if count%10000 ==0:\n",
    "        print \"Reached user \",count+1\n",
    "    count+=1\n",
    "    if bool(BFS_Dict):\n",
    "        for book1 in BFS_Dict[user1]:\n",
    "            if book1 in BFS_Dict.keys():\n",
    "                edge_list.append(dictionary_adj[user1][book1]['weight'])\n",
    "                for user2 in BFS_Dict[book1]:\n",
    "                    edge_list.append(dictionary_adj[book1][user2]['weight'])    \n",
    "                    '''\n",
    "                    if count%100 ==0:\n",
    "                        print \"Hello\"\n",
    "                        print dictionary_adj[user2]\n",
    "                        print BFS_Dict[user1]\n",
    "                    '''\n",
    "                    for book2 in dictionary_adj[user2].keys(): \n",
    "                        if book2 in BFS_Dict[user1] and book2!=book1:\n",
    "                            edge_list.append(dictionary_adj[user2][book2]['weight'])\n",
    "                            User_item_list.append(book2)\n",
    "                            Dictionary[tuple(User_item_list)][tuple(edge_list)] = Dictionary[tuple(User_item_list)].get(tuple(edge_list),0)+1\n",
    "                            Dictionary[tuple(User_item_list)][\"Rating\"]=rating_matrix[User_item_list[0]][User_item_list[1]]\n",
    "                            edge_list.pop()\n",
    "                            User_item_list.pop()\n",
    "                    edge_list.pop()\n",
    "                edge_list.pop()\n",
    "            \n",
    "#print(Dictionary)\n",
    "                        "
   ]
  },
  {
   "cell_type": "code",
   "execution_count": 0,
   "metadata": {
    "colab": {
     "autoexec": {
      "startup": false,
      "wait_interval": 0
     }
    },
    "colab_type": "code",
    "id": "1QOijdKMy14y",
    "outputId": "f64bf524-d8eb-4d9a-ab92-7d8650c282ae"
   },
   "outputs": [
    {
     "name": "stdout",
     "output_type": "stream",
     "text": [
      "Stored 'Dictionary' (defaultdict)\n"
     ]
    }
   ],
   "source": [
    "%store Dictionary\n",
    "import pickle\n",
    "pickle.dump(Dictionary,open(\"b.p\",\"wb\"))"
   ]
  },
  {
   "cell_type": "code",
   "execution_count": 0,
   "metadata": {
    "colab": {
     "autoexec": {
      "startup": false,
      "wait_interval": 0
     }
    },
    "colab_type": "code",
    "id": "Z1q7Auzry142"
   },
   "outputs": [],
   "source": [
    "# naming all configurations\n",
    "con = []\n",
    "\n",
    "con.append([('H', 'H', 'H')])\n",
    "con.append([('H', 'H', 'L')])\n",
    "con.append([('H', 'L', 'L')])\n",
    "con.append([('L', 'L', 'L')])\n",
    "con.append([('L', 'L', 'H')])\n",
    "con.append([('L', 'H', 'H')])\n",
    "con.append([('H', 'L', 'H')])\n",
    "con.append([('L', 'L', 'L')])\n",
    "\n"
   ]
  },
  {
   "cell_type": "code",
   "execution_count": 0,
   "metadata": {
    "colab": {
     "autoexec": {
      "startup": false,
      "wait_interval": 0
     }
    },
    "colab_type": "code",
    "id": "9x4hTEcpy145"
   },
   "outputs": [],
   "source": [
    "%store -r Dictionary\n",
    "import numpy as np\n",
    "config_mat = np.zeros((len(Dictionary), 9))\n",
    "pair_dic = {}\n",
    "i=0\n",
    "for k in Dictionary.keys():\n",
    "    userItemConfig = Dictionary[k]\n",
    "    pair_dic[i] = k\n",
    "    for key in userItemConfig.keys():\n",
    "        for j in range(0,8):\n",
    "            if con[j][0] == key:\n",
    "                config_mat[i,j] = userItemConfig[key]\n",
    "    if rating_matrix[k[0],k[1]]!=0:\n",
    "        if rating_matrix[k[0],k[1]] > 6:\n",
    "            config_mat[i,-1] = 1\n",
    "        else: config_mat[i,-1] = 0\n",
    "    #config_mat[i,-1] = rating_matrix[k[0],k[1]] \n",
    "    i+=1\n",
    "            "
   ]
  },
  {
   "cell_type": "code",
   "execution_count": 0,
   "metadata": {
    "colab": {
     "autoexec": {
      "startup": false,
      "wait_interval": 0
     }
    },
    "colab_type": "code",
    "id": "0PrtaQ5by14_",
    "outputId": "361c3b02-872b-4430-d198-9ba5fc2537bf"
   },
   "outputs": [
    {
     "name": "stdout",
     "output_type": "stream",
     "text": [
      "Stored 'config_mat' (ndarray)\n"
     ]
    }
   ],
   "source": [
    "%store config_mat\n",
    "import pickle\n",
    "pickle.dump(config_mat,open(\"c.p\",\"wb\"))"
   ]
  },
  {
   "cell_type": "code",
   "execution_count": 0,
   "metadata": {
    "colab": {
     "autoexec": {
      "startup": false,
      "wait_interval": 0
     }
    },
    "colab_type": "code",
    "id": "cuZtcWDXy15C",
    "outputId": "5e2d1cb1-e15f-4d7e-fd24-091444e03454"
   },
   "outputs": [
    {
     "name": "stdout",
     "output_type": "stream",
     "text": [
      "[[ 0.  0.  0. ...  0.  1.  1.]\n",
      " [ 0.  0.  0. ...  0.  0.  1.]\n",
      " [ 0.  0.  0. ...  0.  1.  0.]\n",
      " ...\n",
      " [ 0.  1. 10. ...  1.  8.  0.]\n",
      " [ 0.  0.  0. ...  1.  3.  0.]\n",
      " [ 0.  1.  2. ...  0.  0.  0.]]\n"
     ]
    }
   ],
   "source": [
    "%store -r config_mat\n",
    "print(config_mat)"
   ]
  },
  {
   "cell_type": "code",
   "execution_count": 0,
   "metadata": {
    "colab": {
     "autoexec": {
      "startup": false,
      "wait_interval": 0
     }
    },
    "colab_type": "code",
    "id": "q6yGTMLCy15G",
    "outputId": "e4866578-75c9-4e43-c607-93151dd580ef"
   },
   "outputs": [
    {
     "data": {
      "text/plain": [
       "MultinomialNB(alpha=1.0, class_prior=None, fit_prior=True)"
      ]
     },
     "execution_count": 168,
     "metadata": {
      "tags": []
     },
     "output_type": "execute_result"
    }
   ],
   "source": [
    "from sklearn.model_selection import train_test_split\n",
    "\n",
    "X_train, X_test, y_train, y_test = train_test_split(config_mat[:,0:8], config_mat[:,-1], test_size=0.30, shuffle=False)\n",
    "\n",
    "from sklearn.naive_bayes import MultinomialNB\n",
    "\n",
    "mnb = MultinomialNB()\n",
    "mnb.fit(X_train, y_train)"
   ]
  },
  {
   "cell_type": "code",
   "execution_count": 0,
   "metadata": {
    "colab": {
     "autoexec": {
      "startup": false,
      "wait_interval": 0
     }
    },
    "colab_type": "code",
    "id": "HpBk7v0_y15L",
    "outputId": "d7992677-cfb4-482d-d8e6-d126a31a9b58"
   },
   "outputs": [
    {
     "name": "stdout",
     "output_type": "stream",
     "text": [
      "48388\n"
     ]
    }
   ],
   "source": [
    "mnb_y_pred = mnb.predict(X_test)\n",
    "print len(mnb_y_pred)"
   ]
  },
  {
   "cell_type": "code",
   "execution_count": 0,
   "metadata": {
    "colab": {
     "autoexec": {
      "startup": false,
      "wait_interval": 0
     }
    },
    "colab_type": "code",
    "id": "YqgOUMTHy15O",
    "outputId": "02f0d46b-a5af-4ce4-b89d-d854b959643c"
   },
   "outputs": [
    {
     "name": "stdout",
     "output_type": "stream",
     "text": [
      "RMSE with Naive Bayes: 0.66533580754\n"
     ]
    }
   ],
   "source": [
    "#print len(y_test)\n",
    "\n",
    "from sklearn.metrics import mean_squared_error\n",
    "from math import sqrt\n",
    "\n",
    "rmse = sqrt(mean_squared_error(y_test, mnb_y_pred))\n",
    "print \"RMSE with Naive Bayes:\",rmse"
   ]
  },
  {
   "cell_type": "code",
   "execution_count": 0,
   "metadata": {
    "colab": {
     "autoexec": {
      "startup": false,
      "wait_interval": 0
     }
    },
    "colab_type": "code",
    "id": "lMJQl_Npy15U",
    "outputId": "4a92b25e-67f2-47bc-e007-ab8967ccdf0f"
   },
   "outputs": [
    {
     "name": "stdout",
     "output_type": "stream",
     "text": [
      "Stored 'X_train' (ndarray)\n",
      "Stored 'X_test' (ndarray)\n",
      "Stored 'y_train' (ndarray)\n",
      "Stored 'y_test' (ndarray)\n"
     ]
    }
   ],
   "source": [
    "%store X_train\n",
    "%store X_test\n",
    "%store y_train\n",
    "%store y_test"
   ]
  },
  {
   "cell_type": "code",
   "execution_count": 0,
   "metadata": {
    "colab": {
     "autoexec": {
      "startup": false,
      "wait_interval": 0
     }
    },
    "colab_type": "code",
    "id": "V8OBR3X4y15Z",
    "outputId": "e2595f64-4ac2-4dcc-c696-dc17db9a7b9b"
   },
   "outputs": [
    {
     "name": "stdout",
     "output_type": "stream",
     "text": [
      "RMSE with kNN: 0.665118341998\n"
     ]
    }
   ],
   "source": [
    "%store -r X_train\n",
    "%store -r X_test\n",
    "%store -r y_train\n",
    "%store -r y_test\n",
    "\n",
    "from sklearn.neighbors import KNeighborsClassifier\n",
    "from sklearn.metrics import mean_squared_error\n",
    "from math import sqrt\n",
    "\n",
    "knn = KNeighborsClassifier(n_neighbors=5)\n",
    "knn.fit(X_train, y_train)\n",
    "KNN_y_pred = knn.predict(X_test)\n",
    "rmse_knn = sqrt(mean_squared_error(y_test, KNN_y_pred))\n",
    "print \"RMSE with kNN:\", rmse_knn"
   ]
  },
  {
   "cell_type": "code",
   "execution_count": 0,
   "metadata": {
    "colab": {
     "autoexec": {
      "startup": false,
      "wait_interval": 0
     }
    },
    "colab_type": "code",
    "id": "s-FFNKJgy15c",
    "outputId": "cddbf654-b99a-4407-ed75-18f8aea60505"
   },
   "outputs": [
    {
     "name": "stdout",
     "output_type": "stream",
     "text": [
      "Stored 'df_mat_book' (ndarray)\n",
      "Stored 'bookmap' (dict)\n",
      "Stored 'usermap' (dict)\n",
      "Stored 'pair_dic' (dict)\n",
      "Stored 'lr_y_pred' (ndarray)\n"
     ]
    }
   ],
   "source": [
    "%store df_mat_book\n",
    "%store bookmap\n",
    "%store usermap\n",
    "%store pair_dic\n",
    "%store lr_y_pred"
   ]
  },
  {
   "cell_type": "code",
   "execution_count": 3,
   "metadata": {
    "colab": {
     "autoexec": {
      "startup": false,
      "wait_interval": 0
     }
    },
    "colab_type": "code",
    "id": "sp1xl7FFy15g",
    "outputId": "8508671d-08f6-435d-bae2-25d23583e432"
   },
   "outputs": [
    {
     "name": "stdout",
     "output_type": "stream",
     "text": [
      " USER ID:  146230  BOOK NAME:  Harry Potter and the Chamber of Secrets (Book 2)  PREDICTED:  Hate  ACTUAL:  Love\n",
      " USER ID:  51399  BOOK NAME:  The Sophisticated traveler: Winter, love it or leave it  PREDICTED:  Hate  ACTUAL:  Hate\n",
      " USER ID:  96357  BOOK NAME:  The Bonfire of the Vanities  PREDICTED:  Hate  ACTUAL:  Hate\n",
      " USER ID:  132203  BOOK NAME:  Skeleton Crew  PREDICTED:  Hate  ACTUAL:  Love\n",
      " USER ID:  85510  BOOK NAME:  Eyes of Prey  PREDICTED:  Hate  ACTUAL:  Love\n",
      "Stored 'book_name' (list)\n",
      "Stored 'isbn' (list)\n"
     ]
    }
   ],
   "source": []
  },
  {
   "cell_type": "code",
   "execution_count": 16,
   "metadata": {},
   "outputs": [
    {
     "name": "stdout",
     "output_type": "stream",
     "text": [
      "Selected Poems 27\n",
      "Little Women 24\n",
      "Wuthering Heights 21\n",
      "The Secret Garden 20\n",
      "Dracula 20\n",
      "Adventures of Huckleberry Finn 20\n",
      "Jane Eyre 19\n",
      "The Night Before Christmas 18\n",
      "Pride and Prejudice 18\n",
      "Great Expectations 17\n",
      "Masquerade 16\n",
      "Frankenstein 16\n",
      "Black Beauty 16\n",
      "The Gift 15\n",
      "Emma 15\n",
      "Beloved 15\n",
      "Nemesis 14\n",
      "The Wedding 13\n",
      "The Secret 13\n",
      "Robinson Crusoe 13\n",
      "['Selected Poems', 'Little Women', 'Wuthering Heights', 'The Secret Garden', 'Dracula', 'Adventures of Huckleberry Finn', 'Jane Eyre', 'The Night Before Christmas', 'Pride and Prejudice', 'Great Expectations', 'Masquerade', 'Frankenstein', 'Black Beauty', 'The Gift', 'Emma', 'Beloved', 'Nemesis', 'The Wedding', 'The Secret', 'Robinson Crusoe']\n"
     ]
    }
   ],
   "source": [
    "#print Bookcount\n",
    "counter = 0\n",
    "list_book =[]\n",
    "for key,item in sorted(Bookcount.iteritems(),key=lambda (k,v):(v,k),reverse=True):\n",
    "    if counter == 20:\n",
    "        break\n",
    "    counter+=1\n",
    "    list_book.append(key)\n",
    "    print key,item\n",
    "print list_book\n",
    "%store list_book"
   ]
  },
  {
   "cell_type": "code",
   "execution_count": 22,
   "metadata": {
    "scrolled": true
   },
   "outputs": [
    {
     "name": "stdout",
     "output_type": "stream",
     "text": [
      "0\n",
      "10000\n",
      "20000\n",
      "30000\n",
      "40000\n",
      "50000\n",
      "60000\n",
      "70000\n",
      "80000\n",
      "90000\n",
      "100000\n",
      "110000\n",
      "120000\n",
      "130000\n",
      "140000\n",
      "150000\n",
      "160000\n"
     ]
    }
   ],
   "source": [
    "%store -r Dictionary\n",
    "counter=0\n",
    "from collections import defaultdict\n",
    "Dict_new = defaultdict(dict)\n",
    "for key, item in Dictionary.iteritems():\n",
    "    val = bookmap.keys()[bookmap.values().index(key[1])]\n",
    "    if val in isbn:\n",
    "        bookname = book_name[isbn.index(val)]\n",
    "        if bookname in list_book:\n",
    "            Dict_new[bookname][usermap.keys()[usermap.values().index(key[0])]]=item\n",
    "for key,item in Dict_new.iteritems():\n",
    "    print key,item"
   ]
  },
  {
   "cell_type": "code",
   "execution_count": 24,
   "metadata": {},
   "outputs": [
    {
     "name": "stdout",
     "output_type": "stream",
     "text": [
      "18\n"
     ]
    }
   ],
   "source": [
    "print (len(Dict_new))"
   ]
  },
  {
   "cell_type": "code",
   "execution_count": 23,
   "metadata": {},
   "outputs": [
    {
     "name": "stdout",
     "output_type": "stream",
     "text": [
      "Jane Eyre {62881L: {'Rating': 0, ('L', 'L', 'H'): 1}, 72451L: {'Rating': 0, ('H', 'L', 'L'): 1, ('H', 'H', 'L'): 1}, 21576L: {'Rating': 10, ('L', 'L', 'L'): 1}, 41097L: {'Rating': 0, ('L', 'H', 'L'): 1}, 35980L: {'Rating': 0, ('L', 'H', 'L'): 1}, 91373L: {'Rating': 0, ('L', 'L', 'L'): 1}, 8370L: {'Rating': 8, ('L', 'L', 'L'): 1}, 11676L: {'Rating': 8, ('L', 'L', 'L'): 3}, 171295L: {'Rating': 8, ('L', 'L', 'L'): 1}}\n",
      "Nemesis {40640L: {'Rating': 5, ('L', 'H', 'L'): 1}, 68533L: {'Rating': 0, ('H', 'L', 'L'): 1}, 145109L: {'Rating': 9, ('L', 'L', 'H'): 1}, 1166L: {'Rating': 0, ('L', 'H', 'H'): 1}, 154975L: {'Rating': 8, ('H', 'H', 'L'): 1}}\n",
      "Emma {30081L: {'Rating': 10, ('L', 'L', 'L'): 2}, 94307L: {'Rating': 10, ('H', 'L', 'L'): 1}, 111190L: {'Rating': 9, ('L', 'L', 'L'): 1}, 127233L: {'Rating': 9, ('H', 'L', 'L'): 1, ('L', 'H', 'L'): 1}, 1131L: {'Rating': 8, ('L', 'L', 'L'): 1}, 8332L: {'Rating': 0, ('H', 'L', 'L'): 1}, 21618L: {'Rating': 9, ('L', 'H', 'L'): 1}, 115572L: {'Rating': 9, ('L', 'L', 'L'): 1}, 110934L: {'Rating': 9, ('H', 'H', 'L'): 1}, 177432L: {'Rating': 10, ('L', 'H', 'L'): 2, ('L', 'L', 'L'): 1}, 32793L: {'Rating': 8, ('H', 'L', 'L'): 1}, 23902L: {'Rating': 9, ('H', 'L', 'L'): 1}}\n",
      "Adventures of Huckleberry Finn {174304L: {'Rating': 9, ('L', 'L', 'H'): 2, ('L', 'L', 'L'): 1}, 16009L: {'Rating': 3, ('H', 'L', 'L'): 1}, 160558L: {'Rating': 7, ('H', 'H', 'L'): 1, ('L', 'L', 'L'): 1}, 61038L: {'Rating': 5, ('H', 'H', 'L'): 1, ('L', 'L', 'L'): 1}, 41112L: {'Rating': 0, ('L', 'H', 'L'): 1}, 11676L: {'Rating': 9, ('H', 'H', 'H'): 1, ('H', 'L', 'L'): 2, ('H', 'L', 'H'): 1, ('L', 'L', 'H'): 3}}\n",
      "Masquerade {114200L: {'Rating': 8, ('L', 'L', 'L'): 1}, 11676L: {'Rating': 9, ('L', 'H', 'H'): 1, ('L', 'L', 'L'): 2, ('H', 'L', 'H'): 1, ('H', 'H', 'H'): 2, ('H', 'H', 'L'): 2}, 95636L: {'Rating': 0, ('L', 'H', 'L'): 1}, 23582L: {'Rating': 8, ('L', 'H', 'L'): 1}}\n",
      "Dracula {110112L: {'Rating': 7, ('H', 'L', 'L'): 1}, 63394L: {'Rating': 9, ('L', 'L', 'L'): 1}, 11676L: {'Rating': 10, ('H', 'H', 'L'): 1, ('L', 'L', 'L'): 1}, 12194L: {'Rating': 10, ('L', 'H', 'L'): 1}}\n",
      "The Secret {69697L: {'Rating': 9, ('L', 'L', 'H'): 1, ('L', 'L', 'L'): 8, ('L', 'H', 'H'): 1}, 139141L: {'Rating': 5, ('H', 'L', 'L'): 1, ('H', 'H', 'H'): 1, ('H', 'L', 'H'): 1, ('H', 'H', 'L'): 1}, 123883L: {'Rating': 5, ('H', 'L', 'L'): 5, ('H', 'H', 'H'): 1, ('H', 'L', 'H'): 1, ('H', 'H', 'L'): 2}, 49900L: {'Rating': 8, ('L', 'H', 'H'): 1, ('L', 'L', 'L'): 1}, 153361L: {'Rating': 9, ('L', 'H', 'L'): 1}, 168245L: {'Rating': 7, ('L', 'H', 'L'): 1, ('L', 'L', 'L'): 6, ('L', 'H', 'H'): 2}, 12982L: {'Rating': 9, ('L', 'L', 'H'): 1, ('H', 'L', 'L'): 1, ('L', 'L', 'L'): 3, ('H', 'H', 'H'): 1}, 76151L: {'Rating': 10, ('L', 'L', 'H'): 1, ('L', 'L', 'L'): 6, ('L', 'H', 'H'): 1}, 37208L: {'Rating': 10, ('H', 'L', 'L'): 3, ('H', 'H', 'H'): 2, ('L', 'L', 'L'): 4, ('L', 'L', 'H'): 1}, 153662L: {'Rating': 10, ('L', 'H', 'L'): 2, ('L', 'H', 'H'): 2, ('L', 'L', 'L'): 6, ('L', 'L', 'H'): 1}}\n",
      "Selected Poems {2504L: {'Rating': 0, ('H', 'H', 'H'): 1}, 78275L: {'Rating': 0, ('H', 'H', 'H'): 1}}\n",
      "The Wedding {70150L: {'Rating': 7, ('L', 'L', 'H'): 1}, 39564L: {'Rating': 0, ('H', 'H', 'H'): 1, ('H', 'H', 'L'): 1}, 28186L: {'Rating': 0, ('H', 'H', 'H'): 1, ('L', 'L', 'H'): 2, ('L', 'H', 'H'): 1}, 91675L: {'Rating': 10, ('H', 'H', 'H'): 1, ('H', 'L', 'L'): 1}, 11676L: {'Rating': 5, ('L', 'L', 'L'): 6, ('L', 'H', 'H'): 1, ('L', 'H', 'L'): 2, ('H', 'L', 'L'): 3, ('H', 'H', 'L'): 4, ('H', 'H', 'H'): 1, ('H', 'L', 'H'): 1}, 148898L: {'Rating': 10, ('L', 'L', 'H'): 1, ('L', 'H', 'H'): 2, ('L', 'L', 'L'): 8, ('H', 'H', 'L'): 1}, 16795L: {'Rating': 5, ('H', 'L', 'L'): 1, ('H', 'H', 'H'): 1, ('L', 'L', 'L'): 3}, 181156L: {'Rating': 0, ('H', 'H', 'L'): 1, ('L', 'H', 'H'): 1}, 81318L: {'Rating': 3, ('L', 'L', 'L'): 1, ('L', 'H', 'L'): 1, ('H', 'H', 'H'): 1, ('H', 'L', 'H'): 1, ('H', 'L', 'L'): 4, ('H', 'H', 'L'): 2, ('L', 'L', 'H'): 1}, 122793L: {'Rating': 10, ('H', 'H', 'H'): 2, ('H', 'L', 'L'): 1, ('L', 'L', 'L'): 5, ('L', 'L', 'H'): 1}, 71850L: {'Rating': 9, ('L', 'H', 'L'): 1}, 73003L: {'Rating': 10, ('H', 'L', 'L'): 1, ('H', 'L', 'H'): 1}, 4525L: {'Rating': 0, ('L', 'L', 'H'): 1, ('L', 'L', 'L'): 1}, 162738L: {'Rating': 9, ('H', 'H', 'H'): 1}, 45107L: {'Rating': 9, ('L', 'H', 'L'): 1, ('L', 'L', 'L'): 1}, 130484L: {'Rating': 6, ('H', 'H', 'L'): 1}, 150968L: {'Rating': 8, ('L', 'L', 'L'): 1, ('L', 'L', 'H'): 1, ('H', 'H', 'H'): 1, ('H', 'H', 'L'): 1, ('H', 'L', 'L'): 1}, 14667L: {('L', 'L', 'L'): 4, 'Rating': 3, ('L', 'H', 'L'): 1, ('L', 'L', 'H'): 1, ('L', 'H', 'H'): 1}, 143175L: {'Rating': 9, ('H', 'L', 'L'): 1, ('L', 'H', 'H'): 1}, 4427L: {'Rating': 0, ('H', 'L', 'H'): 2, ('L', 'L', 'L'): 1}, 73677L: {'Rating': 10, ('L', 'L', 'H'): 1}, 16718L: {'Rating': 8, ('L', 'H', 'L'): 3, ('L', 'H', 'H'): 2, ('L', 'L', 'H'): 2, ('L', 'L', 'L'): 5}, 50895L: {'Rating': 10, ('L', 'L', 'H'): 2, ('L', 'H', 'H'): 3, ('L', 'L', 'L'): 4, ('H', 'H', 'L'): 1}, 116280L: {'Rating': 10, ('H', 'H', 'H'): 1, ('L', 'H', 'L'): 1}, 97874L: {'Rating': 2, ('L', 'L', 'L'): 3, ('L', 'H', 'H'): 1, ('H', 'L', 'L'): 4, ('H', 'L', 'H'): 1, ('H', 'H', 'H'): 1}, 81492L: {'Rating': 9, ('L', 'H', 'L'): 3, ('L', 'L', 'L'): 1}, 24921L: {'Rating': 8, ('H', 'L', 'L'): 1, ('L', 'L', 'L'): 2, ('H', 'H', 'L'): 1}, 58458L: {'Rating': 0, ('H', 'H', 'H'): 1}, 4443L: {'Rating': 0, ('H', 'H', 'L'): 1}, 2013L: {'Rating': 0, ('L', 'L', 'H'): 2, ('L', 'L', 'L'): 1}, 160746L: {'Rating': 7, ('H', 'L', 'L'): 1, ('H', 'H', 'H'): 1}, 138351L: {'Rating': 9, ('H', 'L', 'L'): 1, ('H', 'L', 'H'): 1}, 57200L: {'Rating': 9, ('H', 'L', 'L'): 2}, 77809L: {'Rating': 9, ('H', 'L', 'L'): 2, ('H', 'H', 'H'): 1}, 137589L: {'Rating': 3, ('H', 'H', 'L'): 1}, 7158L: {'Rating': 8, ('L', 'L', 'H'): 1, ('L', 'H', 'L'): 1, ('H', 'L', 'L'): 2, ('L', 'L', 'L'): 3}, 76151L: {'Rating': 10, ('L', 'L', 'L'): 3}, 39928L: {'Rating': 8, ('L', 'H', 'H'): 1}, 185722L: {'Rating': 10, ('L', 'L', 'H'): 1, ('L', 'L', 'L'): 1}, 56554L: {'Rating': 10, ('L', 'L', 'H'): 2, ('L', 'H', 'L'): 3, ('L', 'L', 'L'): 3}}\n",
      "Pride and Prejudice {26752L: {'Rating': 0, ('H', 'H', 'H'): 1, ('L', 'L', 'H'): 1, ('H', 'L', 'H'): 1}, 30081L: {('L', 'L', 'L'): 2, 'Rating': 10, ('L', 'H', 'L'): 1, ('H', 'L', 'L'): 1, ('L', 'H', 'H'): 1}, 25602L: {'Rating': 0, ('H', 'L', 'H'): 2}, 7595L: {'Rating': 0, ('L', 'L', 'L'): 1}, 110934L: {'Rating': 10, ('L', 'L', 'L'): 7, ('L', 'L', 'H'): 4, ('H', 'H', 'L'): 1, ('H', 'L', 'L'): 2, ('L', 'H', 'L'): 1}, 114695L: {'Rating': 9, ('H', 'L', 'L'): 1}, 38281L: {'Rating': 6, ('H', 'L', 'L'): 4, ('L', 'L', 'L'): 5, ('H', 'H', 'L'): 1}, 97290L: {'Rating': 10, ('L', 'L', 'L'): 6, ('L', 'H', 'H'): 1}, 35089L: {'Rating': 0, ('L', 'H', 'L'): 1, ('L', 'L', 'L'): 1}, 55187L: {'Rating': 9, ('L', 'H', 'L'): 2, ('L', 'L', 'H'): 2, ('L', 'L', 'L'): 5}, 127257L: {'Rating': 7, ('L', 'L', 'L'): 3}, 11676L: {'Rating': 8, ('L', 'H', 'H'): 2, ('L', 'L', 'L'): 6, ('L', 'H', 'L'): 4, ('H', 'H', 'H'): 1, ('H', 'H', 'L'): 3, ('H', 'L', 'L'): 4, ('L', 'L', 'H'): 1}, 32773L: {'Rating': 8, ('L', 'H', 'L'): 1, ('H', 'L', 'L'): 1, ('L', 'L', 'L'): 1, ('H', 'H', 'L'): 1}, 23772L: {'Rating': 0, ('H', 'H', 'H'): 1, ('L', 'L', 'H'): 1, ('L', 'H', 'H'): 1}, 27947L: {'Rating': 7, ('H', 'L', 'L'): 3, ('L', 'L', 'L'): 1}, 102705L: {'Rating': 4, ('L', 'L', 'L'): 4}, 59059L: {'Rating': 9, ('H', 'H', 'L'): 1}, 5769L: {'Rating': 0, ('L', 'L', 'H'): 1, ('L', 'H', 'H'): 2, ('H', 'L', 'H'): 1}, 181176L: {('L', 'L', 'L'): 5, 'Rating': 8, ('L', 'H', 'L'): 1, ('L', 'L', 'H'): 1, ('L', 'H', 'H'): 1}, 6073L: {'Rating': 8, ('L', 'H', 'L'): 1, ('H', 'L', 'L'): 1, ('L', 'L', 'L'): 2, ('H', 'H', 'H'): 1}, 7995L: {'Rating': 0, ('L', 'L', 'L'): 3}, 74056L: {'Rating': 10, ('L', 'H', 'L'): 2, ('H', 'L', 'L'): 1, ('L', 'L', 'L'): 3, ('L', 'L', 'H'): 1}, 133706L: {('L', 'L', 'L'): 2, 'Rating': 10, ('H', 'L', 'L'): 3, ('L', 'H', 'L'): 1, ('H', 'L', 'H'): 1}, 131154L: {'Rating': 10, ('L', 'L', 'H'): 1, ('L', 'L', 'L'): 3, ('L', 'H', 'H'): 1}, 47316L: {'Rating': 10, ('L', 'L', 'H'): 2, ('L', 'L', 'L'): 5}, 111190L: {'Rating': 9, ('L', 'H', 'L'): 1, ('L', 'L', 'L'): 6, ('H', 'H', 'L'): 1}, 6106L: {'Rating': 0, ('H', 'L', 'L'): 2}, 138204L: {'Rating': 0, ('L', 'H', 'L'): 1, ('L', 'L', 'L'): 3, ('L', 'H', 'H'): 1}, 23902L: {'Rating': 10, ('L', 'L', 'L'): 5, ('L', 'H', 'H'): 1, ('L', 'H', 'L'): 2, ('H', 'L', 'L'): 2, ('L', 'L', 'H'): 1}, 79712L: {'Rating': 0, ('L', 'L', 'H'): 1, ('L', 'H', 'H'): 1}, 44264L: {'Rating': 9, ('H', 'L', 'L'): 1}, 81263L: {'Rating': 9, ('L', 'L', 'H'): 1, ('L', 'L', 'L'): 3, ('L', 'H', 'H'): 1}, 22521L: {'Rating': 10, ('L', 'H', 'L'): 1, ('L', 'L', 'L'): 2}, 152186L: {'Rating': 9, ('L', 'H', 'L'): 2, ('L', 'H', 'H'): 2, ('L', 'L', 'L'): 4, ('L', 'L', 'H'): 1}, 78973L: {'Rating': 7, ('H', 'L', 'L'): 6, ('L', 'H', 'L'): 1, ('L', 'L', 'L'): 4}}\n",
      "Great Expectations {33297L: {'Rating': 5, ('L', 'L', 'H'): 1}, 65966L: {'Rating': 0, ('L', 'L', 'H'): 1}}\n",
      "Beloved {94466L: {'Rating': 0, ('H', 'H', 'L'): 1}, 107784L: {'Rating': 1, ('L', 'L', 'L'): 3, ('L', 'L', 'H'): 1, ('H', 'L', 'H'): 2, ('H', 'L', 'L'): 5, ('H', 'H', 'L'): 1}, 51593L: {'Rating': 0, ('H', 'L', 'L'): 1}, 16023L: {'Rating': 0, ('H', 'L', 'L'): 1, ('L', 'L', 'H'): 1, ('L', 'L', 'L'): 1}, 23699L: {'Rating': 10, ('H', 'H', 'L'): 1}, 158254L: {'Rating': 7, ('H', 'H', 'H'): 1, ('L', 'H', 'L'): 1, ('L', 'L', 'L'): 3, ('L', 'L', 'H'): 3}, 3095L: {'Rating': 0, ('H', 'L', 'L'): 1, ('H', 'H', 'L'): 1}, 80538L: {('L', 'L', 'L'): 5, 'Rating': 8, ('H', 'L', 'L'): 1, ('L', 'L', 'H'): 3, ('L', 'H', 'H'): 1}, 173341L: {'Rating': 0, ('H', 'H', 'L'): 1}, 5790L: {'Rating': 0, ('L', 'H', 'L'): 1, ('L', 'L', 'L'): 1, ('L', 'H', 'H'): 1, ('H', 'H', 'L'): 1}, 5920L: {'Rating': 0, ('L', 'H', 'L'): 1, ('H', 'L', 'L'): 1, ('L', 'L', 'L'): 3}, 70052L: {'Rating': 3, ('L', 'H', 'H'): 1, ('L', 'L', 'L'): 4, ('H', 'L', 'L'): 1, ('H', 'H', 'L'): 1, ('H', 'H', 'H'): 1}, 4017L: {'Rating': 10, ('L', 'H', 'L'): 1, ('L', 'H', 'H'): 1, ('L', 'L', 'H'): 3, ('L', 'L', 'L'): 5}, 59180L: {'Rating': 0, ('L', 'L', 'L'): 2}, 179118L: {'Rating': 7, ('L', 'L', 'L'): 1}, 25009L: {'Rating': 0, ('L', 'H', 'L'): 2, ('L', 'L', 'L'): 1}, 32056L: {'Rating': 0, ('H', 'H', 'L'): 1}, 77241L: {'Rating': 0, ('L', 'L', 'H'): 1, ('H', 'H', 'L'): 2}, 125754L: {'Rating': 0, ('L', 'L', 'L'): 1, ('L', 'H', 'H'): 1}, 27331L: {'Rating': 0, ('H', 'L', 'L'): 1, ('L', 'L', 'L'): 2, ('H', 'L', 'H'): 1, ('H', 'H', 'L'): 1}, 182085L: {'Rating': 9, ('H', 'H', 'H'): 1, ('L', 'L', 'L'): 2, ('L', 'H', 'H'): 1}, 4426L: {'Rating': 0, ('L', 'L', 'L'): 3, ('L', 'L', 'H'): 1, ('H', 'H', 'H'): 1, ('H', 'H', 'L'): 3, ('H', 'L', 'L'): 4, ('L', 'H', 'L'): 1}, 92498L: {'Rating': 9, ('L', 'L', 'H'): 2, ('L', 'L', 'L'): 4}, 73044L: {'Rating': 8, ('L', 'L', 'L'): 2, ('L', 'H', 'L'): 2, ('H', 'L', 'H'): 1, ('H', 'L', 'L'): 2, ('L', 'L', 'H'): 1}, 88283L: {'Rating': 9, ('L', 'H', 'H'): 1, ('L', 'L', 'L'): 2, ('L', 'H', 'L'): 2, ('H', 'H', 'L'): 1, ('L', 'L', 'H'): 1}, 77790L: {'Rating': 0, ('L', 'H', 'H'): 1, ('L', 'L', 'L'): 3, ('L', 'H', 'L'): 2, ('H', 'H', 'L'): 1, ('H', 'L', 'L'): 1}, 5728L: {'Rating': 9, ('L', 'L', 'H'): 1, ('L', 'L', 'L'): 2}, 5031L: {'Rating': 0, ('L', 'H', 'H'): 3, ('L', 'L', 'L'): 5, ('L', 'L', 'H'): 2, ('H', 'H', 'L'): 2, ('H', 'L', 'L'): 1, ('H', 'L', 'H'): 1, ('L', 'H', 'L'): 2}, 8786L: {'Rating': 0, ('H', 'L', 'L'): 1, ('L', 'H', 'L'): 1}, 168816L: {'Rating': 8, ('L', 'L', 'L'): 2}, 152946L: {'Rating': 8, ('L', 'L', 'L'): 3}, 3061L: {'Rating': 0, ('L', 'H', 'H'): 1, ('L', 'L', 'L'): 1, ('L', 'L', 'H'): 1, ('H', 'H', 'H'): 2, ('H', 'H', 'L'): 5, ('H', 'L', 'L'): 4}, 164728L: {'Rating': 8, ('H', 'H', 'H'): 2}}\n",
      "The Secret Garden {36609L: {'Rating': 0, ('H', 'L', 'L'): 1, ('L', 'H', 'L'): 1, ('L', 'L', 'L'): 3}, 16024L: {'Rating': 0, ('H', 'L', 'L'): 1, ('H', 'H', 'L'): 1}, 36357L: {'Rating': 0, ('L', 'L', 'L'): 2, ('L', 'H', 'L'): 2, ('H', 'H', 'H'): 3, ('H', 'L', 'H'): 2, ('H', 'L', 'L'): 5}, 38023L: {'Rating': 10, ('H', 'L', 'L'): 1, ('L', 'L', 'L'): 1}, 27404L: {'Rating': 0, ('L', 'L', 'L'): 1}, 36749L: {'Rating': 0, ('H', 'L', 'L'): 2, ('L', 'L', 'L'): 1, ('L', 'H', 'H'): 1}, 36622L: {'Rating': 0, ('L', 'L', 'H'): 2, ('L', 'L', 'L'): 1}, 36623L: {'Rating': 0, ('L', 'L', 'L'): 3}, 28988L: {'Rating': 0, ('L', 'H', 'H'): 1, ('L', 'L', 'L'): 1}, 6808L: {'Rating': 0, ('L', 'L', 'L'): 1}, 28945L: {'Rating': 0, ('H', 'L', 'L'): 1, ('H', 'H', 'L'): 1, ('L', 'L', 'L'): 1}, 36630L: {'Rating': 0, ('H', 'L', 'L'): 1, ('L', 'H', 'L'): 1}, 36313L: {'Rating': 0, ('H', 'H', 'H'): 1, ('L', 'L', 'L'): 2}, 36632L: {'Rating': 0, ('L', 'L', 'L'): 2}, 116506L: {'Rating': 10, ('H', 'H', 'L'): 1}, 36379L: {'Rating': 0, ('H', 'L', 'L'): 1}, 11676L: {'Rating': 10, ('L', 'H', 'H'): 1, ('L', 'L', 'L'): 4, ('L', 'H', 'L'): 3, ('H', 'L', 'L'): 2, ('H', 'L', 'H'): 1, ('H', 'H', 'H'): 2, ('H', 'H', 'L'): 2, ('L', 'L', 'H'): 2}, 36771L: {'Rating': 0, ('H', 'H', 'H'): 2, ('H', 'L', 'L'): 3, ('H', 'L', 'H'): 2, ('H', 'H', 'L'): 5}, 32773L: {'Rating': 9, ('H', 'H', 'L'): 1}, 16795L: {'Rating': 8, ('L', 'H', 'H'): 2, ('L', 'L', 'L'): 10, ('L', 'L', 'H'): 1, ('H', 'L', 'H'): 1, ('H', 'L', 'L'): 4, ('H', 'H', 'L'): 1, ('L', 'H', 'L'): 1}, 36554L: {'Rating': 0, ('H', 'L', 'L'): 1, ('L', 'H', 'L'): 1, ('L', 'L', 'L'): 2}, 14876L: {'Rating': 0, ('L', 'L', 'L'): 1}, 21014L: {'Rating': 9, ('L', 'L', 'L'): 10, ('L', 'H', 'L'): 3, ('H', 'H', 'H'): 1, ('H', 'L', 'H'): 1, ('H', 'L', 'L'): 2, ('L', 'L', 'H'): 2}, 36653L: {'Rating': 0, ('H', 'L', 'L'): 1}, 8495L: {'Rating': 0, ('L', 'L', 'H'): 2, ('L', 'L', 'L'): 3}, 36656L: {'Rating': 0, ('L', 'L', 'H'): 2, ('L', 'H', 'H'): 5, ('L', 'H', 'L'): 1, ('L', 'L', 'L'): 4}, 36787L: {'Rating': 0, ('L', 'H', 'L'): 1, ('L', 'L', 'H'): 1, ('L', 'L', 'L'): 4}, 114868L: {'Rating': 9, ('L', 'H', 'H'): 1, ('L', 'L', 'L'): 4, ('L', 'H', 'L'): 1, ('H', 'L', 'H'): 1, ('H', 'H', 'H'): 1, ('H', 'H', 'L'): 1}, 36406L: {'Rating': 0, ('L', 'L', 'H'): 1, ('L', 'H', 'H'): 4, ('L', 'L', 'L'): 5}, 36663L: {'Rating': 0, ('H', 'H', 'H'): 1, ('L', 'H', 'L'): 2, ('L', 'L', 'L'): 2, ('L', 'L', 'H'): 1}, 49212L: {'Rating': 10, ('L', 'H', 'L'): 2, ('L', 'L', 'L'): 2, ('H', 'H', 'L'): 1, ('L', 'L', 'H'): 2}, 36413L: {'Rating': 0, ('H', 'H', 'H'): 3, ('H', 'L', 'L'): 5, ('H', 'L', 'H'): 2, ('H', 'H', 'L'): 1}, 126492L: {'Rating': 10, ('L', 'H', 'L'): 1, ('L', 'L', 'L'): 1}, 36403L: {'Rating': 0, ('L', 'H', 'H'): 4, ('L', 'L', 'L'): 3, ('L', 'H', 'L'): 1, ('H', 'H', 'L'): 1, ('L', 'L', 'H'): 2}, 36672L: {'Rating': 0, ('L', 'L', 'L'): 2, ('L', 'L', 'H'): 1, ('H', 'H', 'H'): 3, ('H', 'L', 'H'): 2, ('H', 'L', 'L'): 5}, 36420L: {'Rating': 0, ('L', 'L', 'L'): 2}, 36678L: {('L', 'L', 'L'): 6, 'Rating': 0, ('L', 'L', 'H'): 5, ('L', 'H', 'L'): 1, ('H', 'H', 'L'): 1}, 5962L: {'Rating': 0, ('H', 'L', 'L'): 1}, 93047L: {'Rating': 9, ('H', 'L', 'L'): 1}, 8034L: {'Rating': 0, ('L', 'L', 'H'): 2, ('L', 'H', 'H'): 6, ('L', 'H', 'L'): 4, ('L', 'L', 'L'): 7}, 36430L: {'Rating': 0, ('L', 'L', 'L'): 1}, 36304L: {'Rating': 0, ('L', 'H', 'L'): 1, ('L', 'L', 'L'): 1}, 76626L: {'Rating': 10, ('L', 'L', 'L'): 3, ('L', 'H', 'L'): 4, ('H', 'L', 'H'): 1, ('H', 'L', 'L'): 4, ('H', 'H', 'L'): 1, ('L', 'L', 'H'): 2}, 76499L: {'Rating': 10, ('L', 'L', 'L'): 3, ('L', 'H', 'H'): 1, ('L', 'H', 'L'): 4, ('H', 'L', 'L'): 5, ('H', 'L', 'H'): 2, ('H', 'H', 'H'): 2, ('H', 'H', 'L'): 4, ('L', 'L', 'H'): 1}, 5204L: {'Rating': 0, ('H', 'H', 'L'): 1}, 78553L: {'Rating': 10, ('L', 'H', 'L'): 3, ('L', 'L', 'L'): 6, ('L', 'H', 'H'): 1}, 36442L: {'Rating': 0, ('L', 'L', 'L'): 1}, 36575L: {'Rating': 0, ('L', 'H', 'L'): 1, ('L', 'L', 'H'): 1}, 174304L: {'Rating': 9, ('L', 'L', 'L'): 7, ('L', 'H', 'H'): 1, ('L', 'H', 'L'): 1, ('H', 'L', 'L'): 1, ('H', 'H', 'L'): 1, ('H', 'H', 'H'): 1, ('L', 'L', 'H'): 2}, 36706L: {'Rating': 0, ('L', 'L', 'L'): 1}, 36709L: {'Rating': 0, ('L', 'L', 'L'): 1}, 278246L: {'Rating': 0, ('L', 'H', 'H'): 1, ('L', 'L', 'L'): 8, ('L', 'L', 'H'): 4, ('H', 'L', 'H'): 1, ('H', 'L', 'L'): 1, ('H', 'H', 'L'): 3}, 36327L: {'Rating': 0, ('L', 'H', 'L'): 2, ('L', 'L', 'L'): 3}, 36369L: {'Rating': 0, ('H', 'H', 'L'): 1}, 36540L: {'Rating': 0, ('L', 'H', 'L'): 1, ('L', 'L', 'L'): 2}, 277743L: {'Rating': 0, ('L', 'L', 'L'): 2}, 27120L: {'Rating': 0, ('H', 'L', 'L'): 1}, 277873L: {'Rating': 0, ('L', 'L', 'L'): 1, ('H', 'L', 'L'): 5, ('H', 'L', 'H'): 4, ('H', 'H', 'H'): 4, ('H', 'H', 'L'): 6}, 36691L: {'Rating': 0, ('L', 'L', 'L'): 2, ('L', 'L', 'H'): 1, ('H', 'H', 'H'): 3, ('H', 'L', 'H'): 2, ('H', 'L', 'L'): 4, ('H', 'H', 'L'): 4}, 115572L: {'Rating': 10, ('L', 'H', 'L'): 1, ('L', 'L', 'L'): 5}, 153662L: {'Rating': 10, ('L', 'L', 'L'): 6, ('L', 'H', 'L'): 4, ('H', 'H', 'L'): 4, ('H', 'H', 'H'): 3, ('H', 'L', 'H'): 2, ('L', 'L', 'H'): 2}, 86518L: {'Rating': 6, ('L', 'H', 'L'): 1}, 36777L: {'Rating': 0, ('L', 'H', 'L'): 2}, 182442L: {'Rating': 9, ('L', 'H', 'L'): 2, ('L', 'L', 'H'): 1, ('L', 'L', 'L'): 2}}\n",
      "Black Beauty {15297L: {'Rating': 0, ('L', 'H', 'H'): 1, ('L', 'L', 'L'): 1}, 134138L: {'Rating': 0, ('L', 'L', 'H'): 2, ('H', 'L', 'L'): 2, ('H', 'H', 'L'): 1, ('H', 'H', 'H'): 1}, 115419L: {'Rating': 0, ('L', 'L', 'H'): 1, ('L', 'L', 'L'): 1}, 4558L: {'Rating': 0, ('H', 'H', 'L'): 1}, 13775L: {'Rating': 0, ('L', 'L', 'L'): 1}}\n",
      "The Gift {115841L: {'Rating': 8, ('L', 'L', 'H'): 1, ('L', 'L', 'L'): 1}, 35842L: {'Rating': 0, ('L', 'H', 'L'): 1}, 163307L: {'Rating': 8, ('H', 'L', 'L'): 1, ('H', 'L', 'H'): 1}, 50823L: {'Rating': 9, ('L', 'H', 'H'): 1, ('L', 'L', 'L'): 2, ('H', 'H', 'L'): 2}, 117132L: {'Rating': 7, ('L', 'L', 'H'): 1, ('L', 'H', 'H'): 1}, 7312L: {'Rating': 0, ('H', 'H', 'H'): 1, ('H', 'L', 'L'): 1}, 38034L: {'Rating': 8, ('L', 'L', 'L'): 1, ('L', 'H', 'H'): 1}, 7955L: {'Rating': 0, ('L', 'H', 'L'): 1, ('L', 'L', 'L'): 1, ('L', 'H', 'H'): 1}, 179733L: {'Rating': 10, ('L', 'L', 'H'): 1, ('L', 'L', 'L'): 1}, 7193L: {'Rating': 0, ('H', 'H', 'L'): 2}, 16795L: {'Rating': 9, ('L', 'L', 'L'): 1, ('L', 'L', 'H'): 2, ('H', 'L', 'H'): 2, ('H', 'L', 'L'): 1, ('H', 'H', 'L'): 1, ('L', 'H', 'L'): 1}, 11676L: {'Rating': 10, ('L', 'H', 'H'): 1, ('L', 'L', 'L'): 2, ('L', 'L', 'H'): 1, ('H', 'L', 'L'): 1, ('H', 'L', 'H'): 2, ('H', 'H', 'H'): 1, ('H', 'H', 'L'): 1, ('L', 'H', 'L'): 4}, 125216L: {'Rating': 7, ('L', 'H', 'L'): 1, ('L', 'L', 'L'): 1}, 16545L: {'Rating': 7, ('H', 'L', 'L'): 1}, 59172L: {'Rating': 10, ('L', 'H', 'L'): 2, ('L', 'L', 'L'): 2, ('L', 'H', 'H'): 3, ('L', 'L', 'H'): 1}, 50481L: {'Rating': 0, ('L', 'H', 'L'): 1, ('L', 'H', 'H'): 1}, 91058L: {'Rating': 8, ('H', 'L', 'H'): 1}, 114483L: {'Rating': 8, ('L', 'L', 'H'): 1, ('L', 'H', 'L'): 1, ('L', 'L', 'L'): 2}, 12982L: {'Rating': 8, ('L', 'H', 'L'): 1, ('H', 'L', 'L'): 1, ('L', 'L', 'L'): 2, ('H', 'H', 'H'): 1}, 79929L: {'Rating': 0, ('H', 'H', 'H'): 1, ('H', 'L', 'L'): 1, ('L', 'L', 'L'): 1}, 165308L: {'Rating': 7, ('H', 'H', 'L'): 1, ('H', 'L', 'H'): 1}, 153662L: {'Rating': 6, ('L', 'L', 'H'): 3, ('L', 'H', 'H'): 2, ('L', 'H', 'L'): 2, ('L', 'L', 'L'): 2}, 127167L: {'Rating': 0, ('H', 'H', 'H'): 1}, 114368L: {'Rating': 5, ('L', 'L', 'L'): 2, ('L', 'H', 'H'): 1, ('L', 'L', 'H'): 1, ('H', 'H', 'L'): 1, ('H', 'L', 'L'): 1, ('L', 'H', 'L'): 1}, 10946L: {'Rating': 5, ('H', 'L', 'L'): 1}, 174534L: {'Rating': 10, ('L', 'L', 'L'): 1}, 173769L: {'Rating': 10, ('L', 'L', 'L'): 2, ('L', 'H', 'H'): 1}, 8016L: {'Rating': 0, ('L', 'L', 'L'): 1}, 1233L: {'Rating': 0, ('L', 'L', 'L'): 3, ('L', 'L', 'H'): 1, ('H', 'H', 'L'): 1, ('H', 'H', 'H'): 1, ('L', 'H', 'L'): 3}, 40889L: {'Rating': 7, ('L', 'L', 'L'): 1, ('L', 'H', 'H'): 1}, 67930L: {'Rating': 10, ('L', 'L', 'H'): 2, ('L', 'L', 'L'): 3}, 160735L: {'Rating': 7, ('L', 'L', 'L'): 4}, 43619L: {'Rating': 9, ('L', 'H', 'L'): 1, ('L', 'L', 'L'): 1}, 123883L: {'Rating': 5, ('H', 'L', 'L'): 5, ('H', 'H', 'L'): 1}, 78589L: {'Rating': 5, ('H', 'L', 'L'): 1, ('H', 'L', 'H'): 1}, 76151L: {'Rating': 10, ('L', 'L', 'L'): 2, ('L', 'H', 'H'): 1, ('H', 'H', 'L'): 1}, 68217L: {'Rating': 10, ('H', 'H', 'L'): 2}, 121083L: {'Rating': 8, ('L', 'L', 'L'): 2, ('L', 'L', 'H'): 1, ('H', 'L', 'H'): 1, ('H', 'L', 'L'): 2, ('H', 'H', 'L'): 1}, 45107L: {('L', 'L', 'L'): 4, 'Rating': 10, ('L', 'L', 'H'): 2, ('L', 'H', 'L'): 2, ('L', 'H', 'H'): 1}, 25981L: {'Rating': 5, ('H', 'L', 'L'): 2, ('H', 'L', 'H'): 3, ('L', 'L', 'L'): 1}, 174719L: {'Rating': 10, ('H', 'L', 'H'): 1, ('H', 'H', 'L'): 1}}\n",
      "Little Women {74657L: {('L', 'L', 'L'): 7, 'Rating': 0, ('L', 'L', 'H'): 3, ('L', 'H', 'L'): 2, ('H', 'H', 'L'): 1}, 116479L: {'Rating': 0, ('L', 'H', 'L'): 1}, 147847L: {'Rating': 5, ('L', 'L', 'H'): 1}, 5769L: {'Rating': 0, ('L', 'L', 'L'): 1}, 83116L: {'Rating': 0, ('L', 'L', 'L'): 2}, 37074L: {('L', 'L', 'L'): 1, 'Rating': 0, ('H', 'L', 'L'): 4, ('H', 'H', 'L'): 2, ('H', 'L', 'H'): 4}, 1166L: {'Rating': 0, ('L', 'H', 'L'): 1, ('L', 'L', 'H'): 1}, 6870L: {'Rating': 0, ('H', 'H', 'H'): 2, ('L', 'H', 'L'): 1, ('H', 'L', 'L'): 1, ('L', 'L', 'L'): 2}, 7378L: {'Rating': 0, ('H', 'H', 'L'): 2}, 339L: {'Rating': 0, ('H', 'H', 'H'): 1, ('L', 'H', 'L'): 1, ('L', 'L', 'L'): 5, ('L', 'L', 'H'): 3}, 1910L: {'Rating': 0, ('L', 'H', 'L'): 1, ('L', 'L', 'L'): 1}, 5311L: {'Rating': 0, ('H', 'L', 'L'): 1, ('L', 'H', 'L'): 1, ('L', 'L', 'L'): 3, ('L', 'L', 'H'): 1}, 31263L: {'Rating': 0, ('H', 'L', 'L'): 1}}\n",
      "Wuthering Heights {73923L: {'Rating': 8, ('H', 'L', 'L'): 3, ('L', 'L', 'H'): 1, ('H', 'H', 'L'): 1}, 60005L: {'Rating': 0, ('H', 'L', 'L'): 1}, 77702L: {'Rating': 0, ('H', 'L', 'L'): 1, ('L', 'H', 'L'): 1}, 132392L: {'Rating': 6, ('H', 'L', 'L'): 1}, 55548L: {'Rating': 10, ('L', 'H', 'L'): 2, ('L', 'L', 'H'): 2, ('L', 'L', 'L'): 1}, 136491L: {'Rating': 4, ('H', 'H', 'L'): 2}, 74286L: {'Rating': 9, ('L', 'H', 'L'): 1, ('H', 'L', 'L'): 2}, 276989L: {'Rating': 0, ('H', 'H', 'H'): 1, ('L', 'H', 'H'): 1}, 1200L: {'Rating': 0, ('H', 'L', 'L'): 1}, 178920L: {'Rating': 8, ('L', 'L', 'L'): 1, ('H', 'H', 'L'): 1}, 15602L: {'Rating': 10, ('L', 'L', 'L'): 1}, 77710L: {'Rating': 0, ('L', 'L', 'L'): 1, ('H', 'H', 'L'): 1}, 123094L: {'Rating': 8, ('L', 'L', 'L'): 1}, 110214L: {'Rating': 8, ('L', 'L', 'L'): 1}, 14521L: {'Rating': 1, ('L', 'L', 'H'): 1, ('H', 'H', 'L'): 1, ('L', 'L', 'L'): 1}, 16634L: {'Rating': 8, ('L', 'L', 'H'): 1, ('H', 'L', 'L'): 1, ('L', 'L', 'L'): 1}, 11676L: {'Rating': 10, ('L', 'H', 'L'): 1, ('H', 'H', 'H'): 1, ('H', 'H', 'L'): 2, ('H', 'L', 'L'): 1, ('H', 'L', 'H'): 1}, 167517L: {'Rating': 10, ('H', 'H', 'H'): 1, ('L', 'L', 'H'): 1}, 23902L: {'Rating': 10, ('L', 'H', 'L'): 1, ('L', 'L', 'L'): 2, ('H', 'L', 'H'): 1}, 135045L: {'Rating': 4, ('L', 'L', 'L'): 2}}\n",
      "The Night Before Christmas {115841L: {'Rating': 7, ('H', 'L', 'L'): 1}, 7916L: {'Rating': 8, ('L', 'H', 'H'): 1}}\n"
     ]
    }
   ],
   "source": [
    "for key,item in Dict_new.iteritems():\n",
    "    print key,item"
   ]
  },
  {
   "cell_type": "code",
   "execution_count": 0,
   "metadata": {
    "colab": {
     "autoexec": {
      "startup": false,
      "wait_interval": 0
     }
    },
    "colab_type": "code",
    "id": "-RTRBa1uy15j"
   },
   "outputs": [],
   "source": [
    "# import pandas as pd\n",
    "# df_book = pd.read_csv('BX-Books.csv', names=[\"ISBN\",\"Book-Title\",\"Book-Author\",\"Year-Of-Publication\",\"Publisher\",\"Image-URL-S\",\"Image-URL-M\",\"Image-URL-L\"], delimiter=\";\")\n",
    "# df_mat_book = df_book.as_matrix()[1:]"
   ]
  },
  {
   "cell_type": "code",
   "execution_count": 0,
   "metadata": {
    "colab": {
     "autoexec": {
      "startup": false,
      "wait_interval": 0
     }
    },
    "colab_type": "code",
    "id": "Jt9CD5wty15m",
    "outputId": "5aa996d2-79de-4ae6-ae00-132504f6e2b7"
   },
   "outputs": [
    {
     "name": "stdout",
     "output_type": "stream",
     "text": [
      "RMSE with SVM: 0.629274668368\n"
     ]
    }
   ],
   "source": [
    "%store -r X_train\n",
    "%store -r X_test\n",
    "%store -r y_train\n",
    "%store -r y_test\n",
    "\n",
    "from sklearn.svm import LinearSVC\n",
    "from sklearn.metrics import mean_squared_error\n",
    "from math import sqrt\n",
    "\n",
    "clf = LinearSVC()\n",
    "\n",
    "clf = clf.fit(X_train, y_train)\n",
    "svc_y_pred = clf.predict(X_test)\n",
    "rmse_svc = sqrt(mean_squared_error(y_test, svc_y_pred))\n",
    "print \"RMSE with SVM:\", rmse_svc"
   ]
  },
  {
   "cell_type": "code",
   "execution_count": 0,
   "metadata": {
    "colab": {
     "autoexec": {
      "startup": false,
      "wait_interval": 0
     }
    },
    "colab_type": "code",
    "id": "5adLQN3Fy15p",
    "outputId": "853f207a-4da6-4b84-b3cf-d09783dde9e0"
   },
   "outputs": [
    {
     "name": "stdout",
     "output_type": "stream",
     "text": [
      "RMSE with Decision tree: 0.633529668826\n"
     ]
    }
   ],
   "source": [
    "%store -r X_train\n",
    "%store -r X_test\n",
    "%store -r y_train\n",
    "%store -r y_test\n",
    "\n",
    "from sklearn import tree\n",
    "from sklearn.metrics import mean_squared_error\n",
    "from math import sqrt\n",
    "\n",
    "dt = tree.DecisionTreeClassifier()\n",
    "dt = dt.fit(X_train, y_train)\n",
    "dt_y_pred = dt.predict(X_test)\n",
    "rmse_dt = sqrt(mean_squared_error(y_test, dt_y_pred))\n",
    "print \"RMSE with Decision tree:\", rmse_dt"
   ]
  },
  {
   "cell_type": "code",
   "execution_count": 0,
   "metadata": {
    "colab": {
     "autoexec": {
      "startup": false,
      "wait_interval": 0
     }
    },
    "colab_type": "code",
    "id": "VatxmCl1y15t",
    "outputId": "c48d374f-c979-46e9-de9e-d4ff377773bb"
   },
   "outputs": [
    {
     "name": "stdout",
     "output_type": "stream",
     "text": [
      "RMSE with Logistic Regression: 0.628995454256\n"
     ]
    }
   ],
   "source": [
    "%store -r X_train\n",
    "%store -r X_test\n",
    "%store -r y_train\n",
    "%store -r y_test\n",
    "\n",
    "from sklearn import linear_model\n",
    "from sklearn.metrics import mean_squared_error\n",
    "from math import sqrt\n",
    "\n",
    "lr = linear_model.LogisticRegression()\n",
    "lr = lr.fit(X_train, y_train)\n",
    "lr_y_pred = lr.predict(X_test)\n",
    "rmse_lr = sqrt(mean_squared_error(y_test, lr_y_pred))\n",
    "print \"RMSE with Logistic Regression:\", rmse_lr"
   ]
  },
  {
   "cell_type": "code",
   "execution_count": 26,
   "metadata": {},
   "outputs": [
    {
     "name": "stdout",
     "output_type": "stream",
     "text": [
      " USER ID:  31846  BOOK NAME:  Innocent Blood  PREDICTED:  Love  ACTUAL:  Hate\n",
      " USER ID:  4402  BOOK NAME:  Lightning  PREDICTED:  Hate  ACTUAL:  Hate\n",
      " USER ID:  243  BOOK NAME:  The God of Small Things  PREDICTED:  Hate  ACTUAL:  Hate\n",
      " USER ID:  50215  BOOK NAME:  The Love of Stones: A Novel  PREDICTED:  Hate  ACTUAL:  Love\n",
      " USER ID:  83869  BOOK NAME:  Managing Your Mind: The Mental Fitness Guide  PREDICTED:  Hate  ACTUAL:  Love\n",
      "Stored 'book_name' (list)\n",
      "Stored 'isbn' (list)\n"
     ]
    }
   ],
   "source": [
    "# Demo\n",
    "%store -r X_train\n",
    "%store -r y_test\n",
    "%store -r lr_y_pred\n",
    "%store -r df_mat_book\n",
    "%store -r usermap\n",
    "%store -r bookmap\n",
    "%store -r pair_dic\n",
    "\n",
    "\n",
    "from random import randint\n",
    "isbn =[row[0] for row in df_mat_book]\n",
    "book_name =[row[1] for row in df_mat_book]\n",
    "count=0\n",
    "# 5922 , 23938 \n",
    "offset_train = len(X_train)\n",
    "offset_test = len(y_test)\n",
    "while(count<5):\n",
    "    rnd = randint(0,offset_test-1)\n",
    "    #print pair_dic[rnd][0]\n",
    "    if lr_y_pred[rnd] == 0:\n",
    "        lr_p = 'Hate'\n",
    "    else : lr_p = 'Love'\n",
    "    if y_test[rnd] == 0:\n",
    "        yt_p = 'Hate'\n",
    "    else : yt_p = 'Love'   \n",
    "    if isbn.count(bookmap.keys()[bookmap.values().index(pair_dic[rnd+offset_train][1])])!=0:\n",
    "        print \" USER ID: \",usermap.keys()[usermap.values().index(pair_dic[rnd+offset_train][0])],\n",
    "        print \" BOOK NAME: \",book_name[isbn.index(bookmap.keys()[bookmap.values().index(pair_dic[rnd+offset_train][1])])],\n",
    "        print \" PREDICTED: \",lr_p,\" ACTUAL: \",yt_p\n",
    "        count+=1\n",
    "%store book_name\n",
    "%store isbn"
   ]
  },
  {
   "cell_type": "code",
   "execution_count": 31,
   "metadata": {},
   "outputs": [
    {
     "name": "stdout",
     "output_type": "stream",
     "text": [
      "Top Books\n",
      "Selected Poems 27\n",
      "Little Women 24\n",
      "Wuthering Heights 21\n",
      "The Secret Garden 20\n",
      "Dracula 20\n",
      "Adventures of Huckleberry Finn 20\n",
      "Jane Eyre 19\n",
      "The Night Before Christmas 18\n",
      "Pride and Prejudice 18\n",
      "Great Expectations 17\n",
      "Masquerade 16\n",
      "Frankenstein 16\n",
      "Black Beauty 16\n",
      "The Gift 15\n",
      "Emma 15\n",
      "Beloved 15\n",
      "Nemesis 14\n",
      "The Wedding 13\n",
      "The Secret 13\n",
      "Robinson Crusoe 13\n",
      "Final Dicitonary\n",
      "Bookname :Jane Eyre {'User id : 35980': {'Rating': 0, ('L', 'H', 'L'): 1}, 'User id : 62881': {'Rating': 0, ('L', 'L', 'H'): 1}, 'User id : 91373': {'Rating': 0, ('L', 'L', 'L'): 1}, 'User id : 11676': {'Rating': 8, ('L', 'L', 'L'): 3}, 'User id : 8370': {'Rating': 8, ('L', 'L', 'L'): 1}, 'User id : 41097': {'Rating': 0, ('L', 'H', 'L'): 1}, 'User id : 21576': {'Rating': 10, ('L', 'L', 'L'): 1}, 'User id : 72451': {'Rating': 0, ('H', 'L', 'L'): 1, ('H', 'H', 'L'): 1}, 'User id : 171295': {'Rating': 8, ('L', 'L', 'L'): 1}}\n",
      "Bookname :The Secret {'User id : 12982': {'Rating': 9, ('L', 'L', 'H'): 1, ('H', 'L', 'L'): 1, ('L', 'L', 'L'): 3, ('H', 'H', 'H'): 1}, 'User id : 49900': {'Rating': 8, ('L', 'H', 'H'): 1, ('L', 'L', 'L'): 1}, 'User id : 168245': {'Rating': 7, ('L', 'H', 'L'): 1, ('L', 'L', 'L'): 6, ('L', 'H', 'H'): 2}, 'User id : 123883': {'Rating': 5, ('H', 'L', 'L'): 5, ('H', 'H', 'H'): 1, ('H', 'L', 'H'): 1, ('H', 'H', 'L'): 2}, 'User id : 69697': {'Rating': 9, ('L', 'L', 'H'): 1, ('L', 'L', 'L'): 8, ('L', 'H', 'H'): 1}, 'User id : 153662': {'Rating': 10, ('L', 'H', 'L'): 2, ('L', 'H', 'H'): 2, ('L', 'L', 'L'): 6, ('L', 'L', 'H'): 1}, 'User id : 153361': {'Rating': 9, ('L', 'H', 'L'): 1}, 'User id : 139141': {'Rating': 5, ('H', 'L', 'L'): 1, ('H', 'H', 'H'): 1, ('H', 'L', 'H'): 1, ('H', 'H', 'L'): 1}, 'User id : 76151': {'Rating': 10, ('L', 'L', 'H'): 1, ('L', 'L', 'L'): 6, ('L', 'H', 'H'): 1}, 'User id : 37208': {'Rating': 10, ('H', 'L', 'L'): 3, ('H', 'H', 'H'): 2, ('L', 'L', 'L'): 4, ('L', 'L', 'H'): 1}}\n",
      "Bookname :The Secret Garden {'User id : 5204': {'Rating': 0, ('H', 'H', 'L'): 1}, 'User id : 36623': {'Rating': 0, ('L', 'L', 'L'): 3}, 'User id : 38023': {'Rating': 10, ('H', 'L', 'L'): 1, ('L', 'L', 'L'): 1}, 'User id : 36357': {'Rating': 0, ('L', 'L', 'L'): 2, ('L', 'H', 'L'): 2, ('H', 'H', 'H'): 3, ('H', 'L', 'H'): 2, ('H', 'L', 'L'): 5}, 'User id : 36313': {'Rating': 0, ('H', 'H', 'H'): 1, ('L', 'L', 'L'): 2}, 'User id : 28988': {'Rating': 0, ('L', 'H', 'H'): 1, ('L', 'L', 'L'): 1}, 'User id : 32773': {'Rating': 9, ('H', 'H', 'L'): 1}, 'User id : 28945': {'Rating': 0, ('H', 'L', 'L'): 1, ('H', 'H', 'L'): 1, ('L', 'L', 'L'): 1}, 'User id : 116506': {'Rating': 10, ('H', 'H', 'L'): 1}, 'User id : 27120': {'Rating': 0, ('H', 'L', 'L'): 1}, 'User id : 36709': {'Rating': 0, ('L', 'L', 'L'): 1}, 'User id : 36706': {'Rating': 0, ('L', 'L', 'L'): 1}, 'User id : 8034': {'Rating': 0, ('L', 'L', 'H'): 2, ('L', 'H', 'H'): 6, ('L', 'H', 'L'): 4, ('L', 'L', 'L'): 7}, 'User id : 5962': {'Rating': 0, ('H', 'L', 'L'): 1}, 'User id : 174304': {'Rating': 9, ('L', 'L', 'L'): 7, ('L', 'H', 'H'): 1, ('L', 'H', 'L'): 1, ('H', 'L', 'L'): 1, ('H', 'H', 'L'): 1, ('H', 'H', 'H'): 1, ('L', 'L', 'H'): 2}, 'User id : 16024': {'Rating': 0, ('H', 'L', 'L'): 1, ('H', 'H', 'L'): 1}, 'User id : 11676': {'Rating': 10, ('L', 'H', 'H'): 1, ('L', 'L', 'L'): 4, ('L', 'H', 'L'): 3, ('H', 'L', 'L'): 2, ('H', 'L', 'H'): 1, ('H', 'H', 'H'): 2, ('H', 'H', 'L'): 2, ('L', 'L', 'H'): 2}, 'User id : 36609': {'Rating': 0, ('H', 'L', 'L'): 1, ('L', 'H', 'L'): 1, ('L', 'L', 'L'): 3}, 'User id : 36430': {'Rating': 0, ('L', 'L', 'L'): 1}, 'User id : 36554': {'Rating': 0, ('H', 'L', 'L'): 1, ('L', 'H', 'L'): 1, ('L', 'L', 'L'): 2}, 'User id : 126492': {'Rating': 10, ('L', 'H', 'L'): 1, ('L', 'L', 'L'): 1}, 'User id : 49212': {'Rating': 10, ('L', 'H', 'L'): 2, ('L', 'L', 'L'): 2, ('H', 'H', 'L'): 1, ('L', 'L', 'H'): 2}, 'User id : 114868': {'Rating': 9, ('L', 'H', 'H'): 1, ('L', 'L', 'L'): 4, ('L', 'H', 'L'): 1, ('H', 'L', 'H'): 1, ('H', 'H', 'H'): 1, ('H', 'H', 'L'): 1}, 'User id : 278246': {'Rating': 0, ('L', 'H', 'H'): 1, ('L', 'L', 'L'): 8, ('L', 'L', 'H'): 4, ('H', 'L', 'H'): 1, ('H', 'L', 'L'): 1, ('H', 'H', 'L'): 3}, 'User id : 36369': {'Rating': 0, ('H', 'H', 'L'): 1}, 'User id : 36575': {'Rating': 0, ('L', 'H', 'L'): 1, ('L', 'L', 'H'): 1}, 'User id : 76499': {'Rating': 10, ('L', 'L', 'L'): 3, ('L', 'H', 'H'): 1, ('L', 'H', 'L'): 4, ('H', 'L', 'L'): 5, ('H', 'L', 'H'): 2, ('H', 'H', 'H'): 2, ('H', 'H', 'L'): 4, ('L', 'L', 'H'): 1}, 'User id : 36663': {'Rating': 0, ('H', 'H', 'H'): 1, ('L', 'H', 'L'): 2, ('L', 'L', 'L'): 2, ('L', 'L', 'H'): 1}, 'User id : 8495': {'Rating': 0, ('L', 'L', 'H'): 2, ('L', 'L', 'L'): 3}, 'User id : 36749': {'Rating': 0, ('H', 'L', 'L'): 2, ('L', 'L', 'L'): 1, ('L', 'H', 'H'): 1}, 'User id : 78553': {'Rating': 10, ('L', 'H', 'L'): 3, ('L', 'L', 'L'): 6, ('L', 'H', 'H'): 1}, 'User id : 277873': {'Rating': 0, ('L', 'L', 'L'): 1, ('H', 'L', 'L'): 5, ('H', 'L', 'H'): 4, ('H', 'H', 'H'): 4, ('H', 'H', 'L'): 6}, 'User id : 36787': {'Rating': 0, ('L', 'H', 'L'): 1, ('L', 'L', 'H'): 1, ('L', 'L', 'L'): 4}, 'User id : 36413': {'Rating': 0, ('H', 'H', 'H'): 3, ('H', 'L', 'L'): 5, ('H', 'L', 'H'): 2, ('H', 'H', 'L'): 1}, 'User id : 36403': {'Rating': 0, ('L', 'H', 'H'): 4, ('L', 'L', 'L'): 3, ('L', 'H', 'L'): 1, ('H', 'H', 'L'): 1, ('L', 'L', 'H'): 2}, 'User id : 36304': {'Rating': 0, ('L', 'H', 'L'): 1, ('L', 'L', 'L'): 1}, 'User id : 36327': {'Rating': 0, ('L', 'H', 'L'): 2, ('L', 'L', 'L'): 3}, 'User id : 36656': {'Rating': 0, ('L', 'L', 'H'): 2, ('L', 'H', 'H'): 5, ('L', 'H', 'L'): 1, ('L', 'L', 'L'): 4}, 'User id : 14876': {'Rating': 0, ('L', 'L', 'L'): 1}, 'User id : 93047': {'Rating': 9, ('H', 'L', 'L'): 1}, 'User id : 21014': {'Rating': 9, ('L', 'L', 'L'): 10, ('L', 'H', 'L'): 3, ('H', 'H', 'H'): 1, ('H', 'L', 'H'): 1, ('H', 'L', 'L'): 2, ('L', 'L', 'H'): 2}, 'User id : 115572': {'Rating': 10, ('L', 'H', 'L'): 1, ('L', 'L', 'L'): 5}, 'User id : 27404': {'Rating': 0, ('L', 'L', 'L'): 1}, 'User id : 153662': {'Rating': 10, ('L', 'L', 'L'): 6, ('L', 'H', 'L'): 4, ('H', 'H', 'L'): 4, ('H', 'H', 'H'): 3, ('H', 'L', 'H'): 2, ('L', 'L', 'H'): 2}, 'User id : 182442': {'Rating': 9, ('L', 'H', 'L'): 2, ('L', 'L', 'H'): 1, ('L', 'L', 'L'): 2}, 'User id : 6808': {'Rating': 0, ('L', 'L', 'L'): 1}, 'User id : 36632': {'Rating': 0, ('L', 'L', 'L'): 2}, 'User id : 36420': {'Rating': 0, ('L', 'L', 'L'): 2}, 'User id : 36630': {'Rating': 0, ('H', 'L', 'L'): 1, ('L', 'H', 'L'): 1}, 'User id : 36540': {'Rating': 0, ('L', 'H', 'L'): 1, ('L', 'L', 'L'): 2}, 'User id : 36771': {'Rating': 0, ('H', 'H', 'H'): 2, ('H', 'L', 'L'): 3, ('H', 'L', 'H'): 2, ('H', 'H', 'L'): 5}, 'User id : 277743': {'Rating': 0, ('L', 'L', 'L'): 2}, 'User id : 36653': {'Rating': 0, ('H', 'L', 'L'): 1}, 'User id : 36379': {'Rating': 0, ('H', 'L', 'L'): 1}, 'User id : 36672': {'Rating': 0, ('L', 'L', 'L'): 2, ('L', 'L', 'H'): 1, ('H', 'H', 'H'): 3, ('H', 'L', 'H'): 2, ('H', 'L', 'L'): 5}, 'User id : 36406': {'Rating': 0, ('L', 'L', 'H'): 1, ('L', 'H', 'H'): 4, ('L', 'L', 'L'): 5}, 'User id : 36777': {'Rating': 0, ('L', 'H', 'L'): 2}, 'User id : 86518': {'Rating': 6, ('L', 'H', 'L'): 1}, 'User id : 76626': {'Rating': 10, ('L', 'L', 'L'): 3, ('L', 'H', 'L'): 4, ('H', 'L', 'H'): 1, ('H', 'L', 'L'): 4, ('H', 'H', 'L'): 1, ('L', 'L', 'H'): 2}, 'User id : 16795': {'Rating': 8, ('L', 'H', 'H'): 2, ('L', 'L', 'L'): 10, ('L', 'L', 'H'): 1, ('H', 'L', 'H'): 1, ('H', 'L', 'L'): 4, ('H', 'H', 'L'): 1, ('L', 'H', 'L'): 1}, 'User id : 36691': {'Rating': 0, ('L', 'L', 'L'): 2, ('L', 'L', 'H'): 1, ('H', 'H', 'H'): 3, ('H', 'L', 'H'): 2, ('H', 'L', 'L'): 4, ('H', 'H', 'L'): 4}, 'User id : 36622': {'Rating': 0, ('L', 'L', 'H'): 2, ('L', 'L', 'L'): 1}, 'User id : 36442': {'Rating': 0, ('L', 'L', 'L'): 1}, 'User id : 36678': {('L', 'L', 'L'): 6, 'Rating': 0, ('L', 'L', 'H'): 5, ('L', 'H', 'L'): 1, ('H', 'H', 'L'): 1}}\n",
      "Bookname :Emma {'User id : 110934': {'Rating': 9, ('H', 'H', 'L'): 1}, 'User id : 127233': {'Rating': 9, ('H', 'L', 'L'): 1, ('L', 'H', 'L'): 1}, 'User id : 177432': {'Rating': 10, ('L', 'H', 'L'): 2, ('L', 'L', 'L'): 1}, 'User id : 21618': {'Rating': 9, ('L', 'H', 'L'): 1}, 'User id : 1131': {'Rating': 8, ('L', 'L', 'L'): 1}, 'User id : 30081': {'Rating': 10, ('L', 'L', 'L'): 2}, 'User id : 8332': {'Rating': 0, ('H', 'L', 'L'): 1}, 'User id : 23902': {'Rating': 9, ('H', 'L', 'L'): 1}, 'User id : 111190': {'Rating': 9, ('L', 'L', 'L'): 1}, 'User id : 94307': {'Rating': 10, ('H', 'L', 'L'): 1}, 'User id : 115572': {'Rating': 9, ('L', 'L', 'L'): 1}, 'User id : 32793': {'Rating': 8, ('H', 'L', 'L'): 1}}\n",
      "Bookname :Dracula {'User id : 110112': {'Rating': 7, ('H', 'L', 'L'): 1}, 'User id : 11676': {'Rating': 10, ('H', 'H', 'L'): 1, ('L', 'L', 'L'): 1}, 'User id : 12194': {'Rating': 10, ('L', 'H', 'L'): 1}, 'User id : 63394': {'Rating': 9, ('L', 'L', 'L'): 1}}\n",
      "Bookname :Little Women {'User id : 6870': {'Rating': 0, ('H', 'H', 'H'): 2, ('L', 'H', 'L'): 1, ('H', 'L', 'L'): 1, ('L', 'L', 'L'): 2}, 'User id : 339': {'Rating': 0, ('H', 'H', 'H'): 1, ('L', 'H', 'L'): 1, ('L', 'L', 'L'): 5, ('L', 'L', 'H'): 3}, 'User id : 5311': {'Rating': 0, ('H', 'L', 'L'): 1, ('L', 'H', 'L'): 1, ('L', 'L', 'L'): 3, ('L', 'L', 'H'): 1}, 'User id : 5769': {'Rating': 0, ('L', 'L', 'L'): 1}, 'User id : 83116': {'Rating': 0, ('L', 'L', 'L'): 2}, 'User id : 31263': {'Rating': 0, ('H', 'L', 'L'): 1}, 'User id : 74657': {('L', 'L', 'L'): 7, 'Rating': 0, ('L', 'L', 'H'): 3, ('L', 'H', 'L'): 2, ('H', 'H', 'L'): 1}, 'User id : 1166': {'Rating': 0, ('L', 'H', 'L'): 1, ('L', 'L', 'H'): 1}, 'User id : 147847': {'Rating': 5, ('L', 'L', 'H'): 1}, 'User id : 1910': {'Rating': 0, ('L', 'H', 'L'): 1, ('L', 'L', 'L'): 1}, 'User id : 7378': {'Rating': 0, ('H', 'H', 'L'): 2}, 'User id : 116479': {'Rating': 0, ('L', 'H', 'L'): 1}, 'User id : 37074': {('L', 'L', 'L'): 1, 'Rating': 0, ('H', 'L', 'L'): 4, ('H', 'H', 'L'): 2, ('H', 'L', 'H'): 4}}\n",
      "Bookname :The Gift {'User id : 153662': {'Rating': 6, ('L', 'L', 'H'): 3, ('L', 'H', 'H'): 2, ('L', 'H', 'L'): 2, ('L', 'L', 'L'): 2}, 'User id : 7312': {'Rating': 0, ('H', 'H', 'H'): 1, ('H', 'L', 'L'): 1}, 'User id : 7193': {'Rating': 0, ('H', 'H', 'L'): 2}, 'User id : 123883': {'Rating': 5, ('H', 'L', 'L'): 5, ('H', 'H', 'L'): 1}, 'User id : 125216': {'Rating': 7, ('L', 'H', 'L'): 1, ('L', 'L', 'L'): 1}, 'User id : 165308': {'Rating': 7, ('H', 'H', 'L'): 1, ('H', 'L', 'H'): 1}, 'User id : 16545': {'Rating': 7, ('H', 'L', 'L'): 1}, 'User id : 127167': {'Rating': 0, ('H', 'H', 'H'): 1}, 'User id : 1233': {'Rating': 0, ('L', 'L', 'L'): 3, ('L', 'L', 'H'): 1, ('H', 'H', 'L'): 1, ('H', 'H', 'H'): 1, ('L', 'H', 'L'): 3}, 'User id : 79929': {'Rating': 0, ('H', 'H', 'H'): 1, ('H', 'L', 'L'): 1, ('L', 'L', 'L'): 1}, 'User id : 8016': {'Rating': 0, ('L', 'L', 'L'): 1}, 'User id : 114483': {'Rating': 8, ('L', 'L', 'H'): 1, ('L', 'H', 'L'): 1, ('L', 'L', 'L'): 2}, 'User id : 12982': {'Rating': 8, ('L', 'H', 'L'): 1, ('H', 'L', 'L'): 1, ('L', 'L', 'L'): 2, ('H', 'H', 'H'): 1}, 'User id : 50823': {'Rating': 9, ('L', 'H', 'H'): 1, ('L', 'L', 'L'): 2, ('H', 'H', 'L'): 2}, 'User id : 174719': {'Rating': 10, ('H', 'L', 'H'): 1, ('H', 'H', 'L'): 1}, 'User id : 160735': {'Rating': 7, ('L', 'L', 'L'): 4}, 'User id : 11676': {'Rating': 10, ('L', 'H', 'H'): 1, ('L', 'L', 'L'): 2, ('L', 'L', 'H'): 1, ('H', 'L', 'L'): 1, ('H', 'L', 'H'): 2, ('H', 'H', 'H'): 1, ('H', 'H', 'L'): 1, ('L', 'H', 'L'): 4}, 'User id : 35842': {'Rating': 0, ('L', 'H', 'L'): 1}, 'User id : 25981': {'Rating': 5, ('H', 'L', 'L'): 2, ('H', 'L', 'H'): 3, ('L', 'L', 'L'): 1}, 'User id : 115841': {'Rating': 8, ('L', 'L', 'H'): 1, ('L', 'L', 'L'): 1}, 'User id : 121083': {'Rating': 8, ('L', 'L', 'L'): 2, ('L', 'L', 'H'): 1, ('H', 'L', 'H'): 1, ('H', 'L', 'L'): 2, ('H', 'H', 'L'): 1}, 'User id : 117132': {'Rating': 7, ('L', 'L', 'H'): 1, ('L', 'H', 'H'): 1}, 'User id : 45107': {('L', 'L', 'L'): 4, 'Rating': 10, ('L', 'L', 'H'): 2, ('L', 'H', 'L'): 2, ('L', 'H', 'H'): 1}, 'User id : 38034': {'Rating': 8, ('L', 'L', 'L'): 1, ('L', 'H', 'H'): 1}, 'User id : 59172': {'Rating': 10, ('L', 'H', 'L'): 2, ('L', 'L', 'L'): 2, ('L', 'H', 'H'): 3, ('L', 'L', 'H'): 1}, 'User id : 179733': {'Rating': 10, ('L', 'L', 'H'): 1, ('L', 'L', 'L'): 1}, 'User id : 7955': {'Rating': 0, ('L', 'H', 'L'): 1, ('L', 'L', 'L'): 1, ('L', 'H', 'H'): 1}, 'User id : 68217': {'Rating': 10, ('H', 'H', 'L'): 2}, 'User id : 67930': {'Rating': 10, ('L', 'L', 'H'): 2, ('L', 'L', 'L'): 3}, 'User id : 50481': {'Rating': 0, ('L', 'H', 'L'): 1, ('L', 'H', 'H'): 1}, 'User id : 76151': {'Rating': 10, ('L', 'L', 'L'): 2, ('L', 'H', 'H'): 1, ('H', 'H', 'L'): 1}, 'User id : 40889': {'Rating': 7, ('L', 'L', 'L'): 1, ('L', 'H', 'H'): 1}, 'User id : 174534': {'Rating': 10, ('L', 'L', 'L'): 1}, 'User id : 10946': {'Rating': 5, ('H', 'L', 'L'): 1}, 'User id : 114368': {'Rating': 5, ('L', 'L', 'L'): 2, ('L', 'H', 'H'): 1, ('L', 'L', 'H'): 1, ('H', 'H', 'L'): 1, ('H', 'L', 'L'): 1, ('L', 'H', 'L'): 1}, 'User id : 173769': {'Rating': 10, ('L', 'L', 'L'): 2, ('L', 'H', 'H'): 1}, 'User id : 78589': {'Rating': 5, ('H', 'L', 'L'): 1, ('H', 'L', 'H'): 1}, 'User id : 43619': {'Rating': 9, ('L', 'H', 'L'): 1, ('L', 'L', 'L'): 1}, 'User id : 91058': {'Rating': 8, ('H', 'L', 'H'): 1}, 'User id : 16795': {'Rating': 9, ('L', 'L', 'L'): 1, ('L', 'L', 'H'): 2, ('H', 'L', 'H'): 2, ('H', 'L', 'L'): 1, ('H', 'H', 'L'): 1, ('L', 'H', 'L'): 1}, 'User id : 163307': {'Rating': 8, ('H', 'L', 'L'): 1, ('H', 'L', 'H'): 1}}\n",
      "Bookname :Great Expectations {'User id : 33297': {'Rating': 5, ('L', 'L', 'H'): 1}, 'User id : 65966': {'Rating': 0, ('L', 'L', 'H'): 1}}\n",
      "Bookname :Masquerade {'User id : 95636': {'Rating': 0, ('L', 'H', 'L'): 1}, 'User id : 11676': {'Rating': 9, ('L', 'H', 'H'): 1, ('L', 'L', 'L'): 2, ('H', 'L', 'H'): 1, ('H', 'H', 'H'): 2, ('H', 'H', 'L'): 2}, 'User id : 23582': {'Rating': 8, ('L', 'H', 'L'): 1}, 'User id : 114200': {'Rating': 8, ('L', 'L', 'L'): 1}}\n",
      "Bookname :Black Beauty {'User id : 13775': {'Rating': 0, ('L', 'L', 'L'): 1}, 'User id : 4558': {'Rating': 0, ('H', 'H', 'L'): 1}, 'User id : 115419': {'Rating': 0, ('L', 'L', 'H'): 1, ('L', 'L', 'L'): 1}, 'User id : 134138': {'Rating': 0, ('L', 'L', 'H'): 2, ('H', 'L', 'L'): 2, ('H', 'H', 'L'): 1, ('H', 'H', 'H'): 1}, 'User id : 15297': {'Rating': 0, ('L', 'H', 'H'): 1, ('L', 'L', 'L'): 1}}\n",
      "Bookname :Selected Poems {'User id : 78275': {'Rating': 0, ('H', 'H', 'H'): 1}, 'User id : 2504': {'Rating': 0, ('H', 'H', 'H'): 1}}\n",
      "Bookname :The Wedding {'User id : 4443': {'Rating': 0, ('H', 'H', 'L'): 1}, 'User id : 148898': {'Rating': 10, ('L', 'L', 'H'): 1, ('L', 'H', 'H'): 2, ('L', 'L', 'L'): 8, ('H', 'H', 'L'): 1}, 'User id : 81318': {'Rating': 3, ('L', 'L', 'L'): 1, ('L', 'H', 'L'): 1, ('H', 'H', 'H'): 1, ('H', 'L', 'H'): 1, ('H', 'L', 'L'): 4, ('H', 'H', 'L'): 2, ('L', 'L', 'H'): 1}, 'User id : 116280': {'Rating': 10, ('H', 'H', 'H'): 1, ('L', 'H', 'L'): 1}, 'User id : 137589': {'Rating': 3, ('H', 'H', 'L'): 1}, 'User id : 185722': {'Rating': 10, ('L', 'L', 'H'): 1, ('L', 'L', 'L'): 1}, 'User id : 77809': {'Rating': 9, ('H', 'L', 'L'): 2, ('H', 'H', 'H'): 1}, 'User id : 14667': {('L', 'L', 'L'): 4, 'Rating': 3, ('L', 'H', 'L'): 1, ('L', 'L', 'H'): 1, ('L', 'H', 'H'): 1}, 'User id : 28186': {'Rating': 0, ('H', 'H', 'H'): 1, ('L', 'L', 'H'): 2, ('L', 'H', 'H'): 1}, 'User id : 160746': {'Rating': 7, ('H', 'L', 'L'): 1, ('H', 'H', 'H'): 1}, 'User id : 76151': {'Rating': 10, ('L', 'L', 'L'): 3}, 'User id : 122793': {'Rating': 10, ('H', 'H', 'H'): 2, ('H', 'L', 'L'): 1, ('L', 'L', 'L'): 5, ('L', 'L', 'H'): 1}, 'User id : 71850': {'Rating': 9, ('L', 'H', 'L'): 1}, 'User id : 70150': {'Rating': 7, ('L', 'L', 'H'): 1}, 'User id : 91675': {'Rating': 10, ('H', 'H', 'H'): 1, ('H', 'L', 'L'): 1}, 'User id : 162738': {'Rating': 9, ('H', 'H', 'H'): 1}, 'User id : 16718': {'Rating': 8, ('L', 'H', 'L'): 3, ('L', 'H', 'H'): 2, ('L', 'L', 'H'): 2, ('L', 'L', 'L'): 5}, 'User id : 130484': {'Rating': 6, ('H', 'H', 'L'): 1}, 'User id : 45107': {'Rating': 9, ('L', 'H', 'L'): 1, ('L', 'L', 'L'): 1}, 'User id : 4525': {'Rating': 0, ('L', 'L', 'H'): 1, ('L', 'L', 'L'): 1}, 'User id : 11676': {'Rating': 5, ('L', 'L', 'L'): 6, ('L', 'H', 'H'): 1, ('L', 'H', 'L'): 2, ('H', 'L', 'L'): 3, ('H', 'H', 'L'): 4, ('H', 'H', 'H'): 1, ('H', 'L', 'H'): 1}, 'User id : 39928': {'Rating': 8, ('L', 'H', 'H'): 1}, 'User id : 150968': {'Rating': 8, ('L', 'L', 'L'): 1, ('L', 'L', 'H'): 1, ('H', 'H', 'H'): 1, ('H', 'H', 'L'): 1, ('H', 'L', 'L'): 1}, 'User id : 58458': {'Rating': 0, ('H', 'H', 'H'): 1}, 'User id : 50895': {'Rating': 10, ('L', 'L', 'H'): 2, ('L', 'H', 'H'): 3, ('L', 'L', 'L'): 4, ('H', 'H', 'L'): 1}, 'User id : 81492': {'Rating': 9, ('L', 'H', 'L'): 3, ('L', 'L', 'L'): 1}, 'User id : 73677': {'Rating': 10, ('L', 'L', 'H'): 1}, 'User id : 97874': {'Rating': 2, ('L', 'L', 'L'): 3, ('L', 'H', 'H'): 1, ('H', 'L', 'L'): 4, ('H', 'L', 'H'): 1, ('H', 'H', 'H'): 1}, 'User id : 138351': {'Rating': 9, ('H', 'L', 'L'): 1, ('H', 'L', 'H'): 1}, 'User id : 73003': {'Rating': 10, ('H', 'L', 'L'): 1, ('H', 'L', 'H'): 1}, 'User id : 24921': {'Rating': 8, ('H', 'L', 'L'): 1, ('L', 'L', 'L'): 2, ('H', 'H', 'L'): 1}, 'User id : 181156': {'Rating': 0, ('H', 'H', 'L'): 1, ('L', 'H', 'H'): 1}, 'User id : 4427': {'Rating': 0, ('H', 'L', 'H'): 2, ('L', 'L', 'L'): 1}, 'User id : 143175': {'Rating': 9, ('H', 'L', 'L'): 1, ('L', 'H', 'H'): 1}, 'User id : 56554': {'Rating': 10, ('L', 'L', 'H'): 2, ('L', 'H', 'L'): 3, ('L', 'L', 'L'): 3}, 'User id : 7158': {'Rating': 8, ('L', 'L', 'H'): 1, ('L', 'H', 'L'): 1, ('H', 'L', 'L'): 2, ('L', 'L', 'L'): 3}, 'User id : 2013': {'Rating': 0, ('L', 'L', 'H'): 2, ('L', 'L', 'L'): 1}, 'User id : 16795': {'Rating': 5, ('H', 'L', 'L'): 1, ('H', 'H', 'H'): 1, ('L', 'L', 'L'): 3}, 'User id : 39564': {'Rating': 0, ('H', 'H', 'H'): 1, ('H', 'H', 'L'): 1}, 'User id : 57200': {'Rating': 9, ('H', 'L', 'L'): 2}}\n",
      "Bookname :The Night Before Christmas {'User id : 7916': {'Rating': 8, ('L', 'H', 'H'): 1}, 'User id : 115841': {'Rating': 7, ('H', 'L', 'L'): 1}}\n",
      "Bookname :Beloved {'User id : 16023': {'Rating': 0, ('H', 'L', 'L'): 1, ('L', 'L', 'H'): 1, ('L', 'L', 'L'): 1}, 'User id : 152946': {'Rating': 8, ('L', 'L', 'L'): 3}, 'User id : 5790': {'Rating': 0, ('L', 'H', 'L'): 1, ('L', 'L', 'L'): 1, ('L', 'H', 'H'): 1, ('H', 'H', 'L'): 1}, 'User id : 70052': {'Rating': 3, ('L', 'H', 'H'): 1, ('L', 'L', 'L'): 4, ('H', 'L', 'L'): 1, ('H', 'H', 'L'): 1, ('H', 'H', 'H'): 1}, 'User id : 5728': {'Rating': 9, ('L', 'L', 'H'): 1, ('L', 'L', 'L'): 2}, 'User id : 59180': {'Rating': 0, ('L', 'L', 'L'): 2}, 'User id : 168816': {'Rating': 8, ('L', 'L', 'L'): 2}, 'User id : 179118': {'Rating': 7, ('L', 'L', 'L'): 1}, 'User id : 5920': {'Rating': 0, ('L', 'H', 'L'): 1, ('H', 'L', 'L'): 1, ('L', 'L', 'L'): 3}, 'User id : 182085': {'Rating': 9, ('H', 'H', 'H'): 1, ('L', 'L', 'L'): 2, ('L', 'H', 'H'): 1}, 'User id : 23699': {'Rating': 10, ('H', 'H', 'L'): 1}, 'User id : 92498': {'Rating': 9, ('L', 'L', 'H'): 2, ('L', 'L', 'L'): 4}, 'User id : 5031': {'Rating': 0, ('L', 'H', 'H'): 3, ('L', 'L', 'L'): 5, ('L', 'L', 'H'): 2, ('H', 'H', 'L'): 2, ('H', 'L', 'L'): 1, ('H', 'L', 'H'): 1, ('L', 'H', 'L'): 2}, 'User id : 158254': {'Rating': 7, ('H', 'H', 'H'): 1, ('L', 'H', 'L'): 1, ('L', 'L', 'L'): 3, ('L', 'L', 'H'): 3}, 'User id : 51593': {'Rating': 0, ('H', 'L', 'L'): 1}, 'User id : 94466': {'Rating': 0, ('H', 'H', 'L'): 1}, 'User id : 3061': {'Rating': 0, ('L', 'H', 'H'): 1, ('L', 'L', 'L'): 1, ('L', 'L', 'H'): 1, ('H', 'H', 'H'): 2, ('H', 'H', 'L'): 5, ('H', 'L', 'L'): 4}, 'User id : 88283': {'Rating': 9, ('L', 'H', 'H'): 1, ('L', 'L', 'L'): 2, ('L', 'H', 'L'): 2, ('H', 'H', 'L'): 1, ('L', 'L', 'H'): 1}, 'User id : 80538': {('L', 'L', 'L'): 5, 'Rating': 8, ('H', 'L', 'L'): 1, ('L', 'L', 'H'): 3, ('L', 'H', 'H'): 1}, 'User id : 125754': {'Rating': 0, ('L', 'L', 'L'): 1, ('L', 'H', 'H'): 1}, 'User id : 32056': {'Rating': 0, ('H', 'H', 'L'): 1}, 'User id : 27331': {'Rating': 0, ('H', 'L', 'L'): 1, ('L', 'L', 'L'): 2, ('H', 'L', 'H'): 1, ('H', 'H', 'L'): 1}, 'User id : 77241': {'Rating': 0, ('L', 'L', 'H'): 1, ('H', 'H', 'L'): 2}, 'User id : 8786': {'Rating': 0, ('H', 'L', 'L'): 1, ('L', 'H', 'L'): 1}, 'User id : 73044': {'Rating': 8, ('L', 'L', 'L'): 2, ('L', 'H', 'L'): 2, ('H', 'L', 'H'): 1, ('H', 'L', 'L'): 2, ('L', 'L', 'H'): 1}, 'User id : 164728': {'Rating': 8, ('H', 'H', 'H'): 2}, 'User id : 4017': {'Rating': 10, ('L', 'H', 'L'): 1, ('L', 'H', 'H'): 1, ('L', 'L', 'H'): 3, ('L', 'L', 'L'): 5}, 'User id : 173341': {'Rating': 0, ('H', 'H', 'L'): 1}, 'User id : 3095': {'Rating': 0, ('H', 'L', 'L'): 1, ('H', 'H', 'L'): 1}, 'User id : 107784': {'Rating': 1, ('L', 'L', 'L'): 3, ('L', 'L', 'H'): 1, ('H', 'L', 'H'): 2, ('H', 'L', 'L'): 5, ('H', 'H', 'L'): 1}, 'User id : 4426': {'Rating': 0, ('L', 'L', 'L'): 3, ('L', 'L', 'H'): 1, ('H', 'H', 'H'): 1, ('H', 'H', 'L'): 3, ('H', 'L', 'L'): 4, ('L', 'H', 'L'): 1}, 'User id : 25009': {'Rating': 0, ('L', 'H', 'L'): 2, ('L', 'L', 'L'): 1}, 'User id : 77790': {'Rating': 0, ('L', 'H', 'H'): 1, ('L', 'L', 'L'): 3, ('L', 'H', 'L'): 2, ('H', 'H', 'L'): 1, ('H', 'L', 'L'): 1}}\n",
      "Bookname :Adventures of Huckleberry Finn {'User id : 61038': {'Rating': 5, ('H', 'H', 'L'): 1, ('L', 'L', 'L'): 1}, 'User id : 11676': {'Rating': 9, ('H', 'H', 'H'): 1, ('H', 'L', 'L'): 2, ('H', 'L', 'H'): 1, ('L', 'L', 'H'): 3}, 'User id : 160558': {'Rating': 7, ('H', 'H', 'L'): 1, ('L', 'L', 'L'): 1}, 'User id : 16009': {'Rating': 3, ('H', 'L', 'L'): 1}, 'User id : 174304': {'Rating': 9, ('L', 'L', 'H'): 2, ('L', 'L', 'L'): 1}, 'User id : 41112': {'Rating': 0, ('L', 'H', 'L'): 1}}\n",
      "Bookname :Nemesis {'User id : 68533': {'Rating': 0, ('H', 'L', 'L'): 1}, 'User id : 145109': {'Rating': 9, ('L', 'L', 'H'): 1}, 'User id : 154975': {'Rating': 8, ('H', 'H', 'L'): 1}, 'User id : 1166': {'Rating': 0, ('L', 'H', 'H'): 1}, 'User id : 40640': {'Rating': 5, ('L', 'H', 'L'): 1}}\n",
      "Bookname :Wuthering Heights {'User id : 123094': {'Rating': 8, ('L', 'L', 'L'): 1}, 'User id : 60005': {'Rating': 0, ('H', 'L', 'L'): 1}, 'User id : 15602': {'Rating': 10, ('L', 'L', 'L'): 1}, 'User id : 77702': {'Rating': 0, ('H', 'L', 'L'): 1, ('L', 'H', 'L'): 1}, 'User id : 14521': {'Rating': 1, ('L', 'L', 'H'): 1, ('H', 'H', 'L'): 1, ('L', 'L', 'L'): 1}, 'User id : 77710': {'Rating': 0, ('L', 'L', 'L'): 1, ('H', 'H', 'L'): 1}, 'User id : 132392': {'Rating': 6, ('H', 'L', 'L'): 1}, 'User id : 16634': {'Rating': 8, ('L', 'L', 'H'): 1, ('H', 'L', 'L'): 1, ('L', 'L', 'L'): 1}, 'User id : 11676': {'Rating': 10, ('L', 'H', 'L'): 1, ('H', 'H', 'H'): 1, ('H', 'H', 'L'): 2, ('H', 'L', 'L'): 1, ('H', 'L', 'H'): 1}, 'User id : 167517': {'Rating': 10, ('H', 'H', 'H'): 1, ('L', 'L', 'H'): 1}, 'User id : 135045': {'Rating': 4, ('L', 'L', 'L'): 2}, 'User id : 73923': {'Rating': 8, ('H', 'L', 'L'): 3, ('L', 'L', 'H'): 1, ('H', 'H', 'L'): 1}, 'User id : 23902': {'Rating': 10, ('L', 'H', 'L'): 1, ('L', 'L', 'L'): 2, ('H', 'L', 'H'): 1}, 'User id : 110214': {'Rating': 8, ('L', 'L', 'L'): 1}, 'User id : 74286': {'Rating': 9, ('L', 'H', 'L'): 1, ('H', 'L', 'L'): 2}, 'User id : 178920': {'Rating': 8, ('L', 'L', 'L'): 1, ('H', 'H', 'L'): 1}, 'User id : 1200': {'Rating': 0, ('H', 'L', 'L'): 1}, 'User id : 136491': {'Rating': 4, ('H', 'H', 'L'): 2}, 'User id : 55548': {'Rating': 10, ('L', 'H', 'L'): 2, ('L', 'L', 'H'): 2, ('L', 'L', 'L'): 1}, 'User id : 276989': {'Rating': 0, ('H', 'H', 'H'): 1, ('L', 'H', 'H'): 1}}\n",
      "Bookname :Pride and Prejudice {'User id : 38281': {'Rating': 6, ('H', 'L', 'L'): 4, ('L', 'L', 'L'): 5, ('H', 'H', 'L'): 1}, 'User id : 27947': {'Rating': 7, ('H', 'L', 'L'): 3, ('L', 'L', 'L'): 1}, 'User id : 59059': {'Rating': 9, ('H', 'H', 'L'): 1}, 'User id : 97290': {'Rating': 10, ('L', 'L', 'L'): 6, ('L', 'H', 'H'): 1}, 'User id : 32773': {'Rating': 8, ('L', 'H', 'L'): 1, ('H', 'L', 'L'): 1, ('L', 'L', 'L'): 1, ('H', 'H', 'L'): 1}, 'User id : 79712': {'Rating': 0, ('L', 'L', 'H'): 1, ('L', 'H', 'H'): 1}, 'User id : 74056': {'Rating': 10, ('L', 'H', 'L'): 2, ('H', 'L', 'L'): 1, ('L', 'L', 'L'): 3, ('L', 'L', 'H'): 1}, 'User id : 110934': {'Rating': 10, ('L', 'L', 'L'): 7, ('L', 'L', 'H'): 4, ('H', 'H', 'L'): 1, ('H', 'L', 'L'): 2, ('L', 'H', 'L'): 1}, 'User id : 47316': {'Rating': 10, ('L', 'L', 'H'): 2, ('L', 'L', 'L'): 5}, 'User id : 35089': {'Rating': 0, ('L', 'H', 'L'): 1, ('L', 'L', 'L'): 1}, 'User id : 152186': {'Rating': 9, ('L', 'H', 'L'): 2, ('L', 'H', 'H'): 2, ('L', 'L', 'L'): 4, ('L', 'L', 'H'): 1}, 'User id : 11676': {'Rating': 8, ('L', 'H', 'H'): 2, ('L', 'L', 'L'): 6, ('L', 'H', 'L'): 4, ('H', 'H', 'H'): 1, ('H', 'H', 'L'): 3, ('H', 'L', 'L'): 4, ('L', 'L', 'H'): 1}, 'User id : 30081': {('L', 'L', 'L'): 2, 'Rating': 10, ('L', 'H', 'L'): 1, ('H', 'L', 'L'): 1, ('L', 'H', 'H'): 1}, 'User id : 102705': {'Rating': 4, ('L', 'L', 'L'): 4}, 'User id : 6073': {'Rating': 8, ('L', 'H', 'L'): 1, ('H', 'L', 'L'): 1, ('L', 'L', 'L'): 2, ('H', 'H', 'H'): 1}, 'User id : 114695': {'Rating': 9, ('H', 'L', 'L'): 1}, 'User id : 133706': {('L', 'L', 'L'): 2, 'Rating': 10, ('H', 'L', 'L'): 3, ('L', 'H', 'L'): 1, ('H', 'L', 'H'): 1}, 'User id : 23772': {'Rating': 0, ('H', 'H', 'H'): 1, ('L', 'L', 'H'): 1, ('L', 'H', 'H'): 1}, 'User id : 138204': {'Rating': 0, ('L', 'H', 'L'): 1, ('L', 'L', 'L'): 3, ('L', 'H', 'H'): 1}, 'User id : 7595': {'Rating': 0, ('L', 'L', 'L'): 1}, 'User id : 55187': {'Rating': 9, ('L', 'H', 'L'): 2, ('L', 'L', 'H'): 2, ('L', 'L', 'L'): 5}, 'User id : 7995': {'Rating': 0, ('L', 'L', 'L'): 3}, 'User id : 78973': {'Rating': 7, ('H', 'L', 'L'): 6, ('L', 'H', 'L'): 1, ('L', 'L', 'L'): 4}, 'User id : 5769': {'Rating': 0, ('L', 'L', 'H'): 1, ('L', 'H', 'H'): 2, ('H', 'L', 'H'): 1}, 'User id : 23902': {'Rating': 10, ('L', 'L', 'L'): 5, ('L', 'H', 'H'): 1, ('L', 'H', 'L'): 2, ('H', 'L', 'L'): 2, ('L', 'L', 'H'): 1}, 'User id : 127257': {'Rating': 7, ('L', 'L', 'L'): 3}, 'User id : 22521': {'Rating': 10, ('L', 'H', 'L'): 1, ('L', 'L', 'L'): 2}, 'User id : 25602': {'Rating': 0, ('H', 'L', 'H'): 2}, 'User id : 111190': {'Rating': 9, ('L', 'H', 'L'): 1, ('L', 'L', 'L'): 6, ('H', 'H', 'L'): 1}, 'User id : 131154': {'Rating': 10, ('L', 'L', 'H'): 1, ('L', 'L', 'L'): 3, ('L', 'H', 'H'): 1}, 'User id : 44264': {'Rating': 9, ('H', 'L', 'L'): 1}, 'User id : 181176': {('L', 'L', 'L'): 5, 'Rating': 8, ('L', 'H', 'L'): 1, ('L', 'L', 'H'): 1, ('L', 'H', 'H'): 1}, 'User id : 81263': {'Rating': 9, ('L', 'L', 'H'): 1, ('L', 'L', 'L'): 3, ('L', 'H', 'H'): 1}, 'User id : 6106': {'Rating': 0, ('H', 'L', 'L'): 2}, 'User id : 26752': {'Rating': 0, ('H', 'H', 'H'): 1, ('L', 'L', 'H'): 1, ('H', 'L', 'H'): 1}}\n"
     ]
    }
   ],
   "source": [
    "%store -r book_name\n",
    "%store -r isbn\n",
    "%store -r Dictionary\n",
    "Bookcount = {}\n",
    "for i in range(len(book_name)):\n",
    "    if isbn[i] in bookmap.keys():\n",
    "        if book_name[i] not in Bookcount.keys():\n",
    "            Bookcount[book_name[i]]=book_name.count(book_name[i])  \n",
    "counter = 0\n",
    "top_books =[]\n",
    "print (\"Top Books\")\n",
    "for key,item in sorted(Bookcount.iteritems(),key=lambda (k,v):(v,k),reverse=True):\n",
    "    if counter == 20:\n",
    "        break\n",
    "    counter+=1\n",
    "    top_books.append(key)\n",
    "    print key,item\n",
    "counter=0\n",
    "print(\"Final Dicitonary\")\n",
    "from collections import defaultdict\n",
    "Dict_output = defaultdict(dict)\n",
    "for key, item in Dictionary.iteritems():\n",
    "    isbn_temp = bookmap.keys()[bookmap.values().index(key[1])]\n",
    "    if isbn_temp in isbn:\n",
    "        bookname = book_name[isbn.index(isbn_temp)]\n",
    "        if bookname in top_books:\n",
    "            Dict_output[\"Bookname :\" + str(bookname)][\"User id : \" + str(usermap.keys()[usermap.values().index(key[0])])]=item\n",
    "for key,item in Dict_output.iteritems():\n",
    "    print key,item"
   ]
  }
 ],
 "metadata": {
  "colab": {
   "default_view": {},
   "name": "BookLook_final.ipynb",
   "provenance": [],
   "version": "0.3.2",
   "views": {}
  },
  "kernelspec": {
   "display_name": "Python 2",
   "language": "python",
   "name": "python2"
  },
  "language_info": {
   "codemirror_mode": {
    "name": "ipython",
    "version": 2
   },
   "file_extension": ".py",
   "mimetype": "text/x-python",
   "name": "python",
   "nbconvert_exporter": "python",
   "pygments_lexer": "ipython2",
   "version": "2.7.14"
  }
 },
 "nbformat": 4,
 "nbformat_minor": 1
}
